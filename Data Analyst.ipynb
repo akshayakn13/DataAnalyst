{
 "cells": [
  {
   "cell_type": "markdown",
   "metadata": {},
   "source": [
    "# Abstract\n",
    "**Looking for a job as Data Analyst? Maybe this dataset can help you.**"
   ]
  },
  {
   "attachments": {},
   "cell_type": "markdown",
   "metadata": {},
   "source": [
    "<img src=\"img.jpeg\">\n",
    "**Source - https://miro.medium.com/max/2802/1*KID6ZNpfCBWHCutZzn2TbQ.jpeg**"
   ]
  },
  {
   "cell_type": "markdown",
   "metadata": {},
   "source": [
    "# About the data\n",
    "Amidst the pandemic many people lost their jobs, with this dataset it is possible to hone the job search so that more people in need can find employment.\n",
    "This dataset was created by picklesueat and contains more than 2000 job listing for data analyst positions, with features such as:\n",
    "\n",
    "1. Salary Estimate\n",
    "2. Location\n",
    "3. Company Rating\n",
    "4. Job Description\n",
    "5. and more.\n",
    "\n"
   ]
  },
  {
   "cell_type": "code",
   "execution_count": 1,
   "metadata": {},
   "outputs": [],
   "source": [
    "import pandas as pd \n",
    "import numpy as np\n",
    "import matplotlib.pyplot as plt\n",
    "import seaborn as sns"
   ]
  },
  {
   "cell_type": "code",
   "execution_count": 2,
   "metadata": {},
   "outputs": [],
   "source": [
    "da = pd.read_csv(\"DataAnalyst.csv\")"
   ]
  },
  {
   "cell_type": "code",
   "execution_count": 3,
   "metadata": {},
   "outputs": [
    {
     "data": {
      "text/html": [
       "<div>\n",
       "<style scoped>\n",
       "    .dataframe tbody tr th:only-of-type {\n",
       "        vertical-align: middle;\n",
       "    }\n",
       "\n",
       "    .dataframe tbody tr th {\n",
       "        vertical-align: top;\n",
       "    }\n",
       "\n",
       "    .dataframe thead th {\n",
       "        text-align: right;\n",
       "    }\n",
       "</style>\n",
       "<table border=\"1\" class=\"dataframe\">\n",
       "  <thead>\n",
       "    <tr style=\"text-align: right;\">\n",
       "      <th></th>\n",
       "      <th>Unnamed: 0</th>\n",
       "      <th>Job Title</th>\n",
       "      <th>Salary Estimate</th>\n",
       "      <th>Job Description</th>\n",
       "      <th>Rating</th>\n",
       "      <th>Company Name</th>\n",
       "      <th>Location</th>\n",
       "      <th>Headquarters</th>\n",
       "      <th>Size</th>\n",
       "      <th>Founded</th>\n",
       "      <th>Type of ownership</th>\n",
       "      <th>Industry</th>\n",
       "      <th>Sector</th>\n",
       "      <th>Revenue</th>\n",
       "      <th>Competitors</th>\n",
       "      <th>Easy Apply</th>\n",
       "    </tr>\n",
       "  </thead>\n",
       "  <tbody>\n",
       "    <tr>\n",
       "      <th>0</th>\n",
       "      <td>0</td>\n",
       "      <td>Data Analyst, Center on Immigration and Justic...</td>\n",
       "      <td>$37K-$66K (Glassdoor est.)</td>\n",
       "      <td>Are you eager to roll up your sleeves and harn...</td>\n",
       "      <td>3.2</td>\n",
       "      <td>Vera Institute of Justice\\n3.2</td>\n",
       "      <td>New York, NY</td>\n",
       "      <td>New York, NY</td>\n",
       "      <td>201 to 500 employees</td>\n",
       "      <td>1961</td>\n",
       "      <td>Nonprofit Organization</td>\n",
       "      <td>Social Assistance</td>\n",
       "      <td>Non-Profit</td>\n",
       "      <td>$100 to $500 million (USD)</td>\n",
       "      <td>-1</td>\n",
       "      <td>True</td>\n",
       "    </tr>\n",
       "    <tr>\n",
       "      <th>1</th>\n",
       "      <td>1</td>\n",
       "      <td>Quality Data Analyst</td>\n",
       "      <td>$37K-$66K (Glassdoor est.)</td>\n",
       "      <td>Overview\\n\\nProvides analytical and technical ...</td>\n",
       "      <td>3.8</td>\n",
       "      <td>Visiting Nurse Service of New York\\n3.8</td>\n",
       "      <td>New York, NY</td>\n",
       "      <td>New York, NY</td>\n",
       "      <td>10000+ employees</td>\n",
       "      <td>1893</td>\n",
       "      <td>Nonprofit Organization</td>\n",
       "      <td>Health Care Services &amp; Hospitals</td>\n",
       "      <td>Health Care</td>\n",
       "      <td>$2 to $5 billion (USD)</td>\n",
       "      <td>-1</td>\n",
       "      <td>-1</td>\n",
       "    </tr>\n",
       "    <tr>\n",
       "      <th>2</th>\n",
       "      <td>2</td>\n",
       "      <td>Senior Data Analyst, Insights &amp; Analytics Team...</td>\n",
       "      <td>$37K-$66K (Glassdoor est.)</td>\n",
       "      <td>We’re looking for a Senior Data Analyst who ha...</td>\n",
       "      <td>3.4</td>\n",
       "      <td>Squarespace\\n3.4</td>\n",
       "      <td>New York, NY</td>\n",
       "      <td>New York, NY</td>\n",
       "      <td>1001 to 5000 employees</td>\n",
       "      <td>2003</td>\n",
       "      <td>Company - Private</td>\n",
       "      <td>Internet</td>\n",
       "      <td>Information Technology</td>\n",
       "      <td>Unknown / Non-Applicable</td>\n",
       "      <td>GoDaddy</td>\n",
       "      <td>-1</td>\n",
       "    </tr>\n",
       "    <tr>\n",
       "      <th>3</th>\n",
       "      <td>3</td>\n",
       "      <td>Data Analyst</td>\n",
       "      <td>$37K-$66K (Glassdoor est.)</td>\n",
       "      <td>Requisition NumberRR-0001939\\nRemote:Yes\\nWe c...</td>\n",
       "      <td>4.1</td>\n",
       "      <td>Celerity\\n4.1</td>\n",
       "      <td>New York, NY</td>\n",
       "      <td>McLean, VA</td>\n",
       "      <td>201 to 500 employees</td>\n",
       "      <td>2002</td>\n",
       "      <td>Subsidiary or Business Segment</td>\n",
       "      <td>IT Services</td>\n",
       "      <td>Information Technology</td>\n",
       "      <td>$50 to $100 million (USD)</td>\n",
       "      <td>-1</td>\n",
       "      <td>-1</td>\n",
       "    </tr>\n",
       "    <tr>\n",
       "      <th>4</th>\n",
       "      <td>4</td>\n",
       "      <td>Reporting Data Analyst</td>\n",
       "      <td>$37K-$66K (Glassdoor est.)</td>\n",
       "      <td>ABOUT FANDUEL GROUP\\n\\nFanDuel Group is a worl...</td>\n",
       "      <td>3.9</td>\n",
       "      <td>FanDuel\\n3.9</td>\n",
       "      <td>New York, NY</td>\n",
       "      <td>New York, NY</td>\n",
       "      <td>501 to 1000 employees</td>\n",
       "      <td>2009</td>\n",
       "      <td>Company - Private</td>\n",
       "      <td>Sports &amp; Recreation</td>\n",
       "      <td>Arts, Entertainment &amp; Recreation</td>\n",
       "      <td>$100 to $500 million (USD)</td>\n",
       "      <td>DraftKings</td>\n",
       "      <td>True</td>\n",
       "    </tr>\n",
       "  </tbody>\n",
       "</table>\n",
       "</div>"
      ],
      "text/plain": [
       "   Unnamed: 0                                          Job Title  \\\n",
       "0           0  Data Analyst, Center on Immigration and Justic...   \n",
       "1           1                               Quality Data Analyst   \n",
       "2           2  Senior Data Analyst, Insights & Analytics Team...   \n",
       "3           3                                       Data Analyst   \n",
       "4           4                             Reporting Data Analyst   \n",
       "\n",
       "              Salary Estimate  \\\n",
       "0  $37K-$66K (Glassdoor est.)   \n",
       "1  $37K-$66K (Glassdoor est.)   \n",
       "2  $37K-$66K (Glassdoor est.)   \n",
       "3  $37K-$66K (Glassdoor est.)   \n",
       "4  $37K-$66K (Glassdoor est.)   \n",
       "\n",
       "                                     Job Description  Rating  \\\n",
       "0  Are you eager to roll up your sleeves and harn...     3.2   \n",
       "1  Overview\\n\\nProvides analytical and technical ...     3.8   \n",
       "2  We’re looking for a Senior Data Analyst who ha...     3.4   \n",
       "3  Requisition NumberRR-0001939\\nRemote:Yes\\nWe c...     4.1   \n",
       "4  ABOUT FANDUEL GROUP\\n\\nFanDuel Group is a worl...     3.9   \n",
       "\n",
       "                              Company Name      Location  Headquarters  \\\n",
       "0           Vera Institute of Justice\\n3.2  New York, NY  New York, NY   \n",
       "1  Visiting Nurse Service of New York\\n3.8  New York, NY  New York, NY   \n",
       "2                         Squarespace\\n3.4  New York, NY  New York, NY   \n",
       "3                            Celerity\\n4.1  New York, NY    McLean, VA   \n",
       "4                             FanDuel\\n3.9  New York, NY  New York, NY   \n",
       "\n",
       "                     Size  Founded               Type of ownership  \\\n",
       "0    201 to 500 employees     1961          Nonprofit Organization   \n",
       "1        10000+ employees     1893          Nonprofit Organization   \n",
       "2  1001 to 5000 employees     2003               Company - Private   \n",
       "3    201 to 500 employees     2002  Subsidiary or Business Segment   \n",
       "4   501 to 1000 employees     2009               Company - Private   \n",
       "\n",
       "                           Industry                            Sector  \\\n",
       "0                 Social Assistance                        Non-Profit   \n",
       "1  Health Care Services & Hospitals                       Health Care   \n",
       "2                          Internet            Information Technology   \n",
       "3                       IT Services            Information Technology   \n",
       "4               Sports & Recreation  Arts, Entertainment & Recreation   \n",
       "\n",
       "                      Revenue Competitors Easy Apply  \n",
       "0  $100 to $500 million (USD)          -1       True  \n",
       "1      $2 to $5 billion (USD)          -1         -1  \n",
       "2    Unknown / Non-Applicable     GoDaddy         -1  \n",
       "3   $50 to $100 million (USD)          -1         -1  \n",
       "4  $100 to $500 million (USD)  DraftKings       True  "
      ]
     },
     "execution_count": 3,
     "metadata": {},
     "output_type": "execute_result"
    }
   ],
   "source": [
    "da.head(5)"
   ]
  },
  {
   "cell_type": "markdown",
   "metadata": {},
   "source": [
    "# About the data"
   ]
  },
  {
   "cell_type": "code",
   "execution_count": 4,
   "metadata": {},
   "outputs": [
    {
     "data": {
      "text/plain": [
       "(2253, 16)"
      ]
     },
     "execution_count": 4,
     "metadata": {},
     "output_type": "execute_result"
    }
   ],
   "source": [
    "da.shape"
   ]
  },
  {
   "cell_type": "code",
   "execution_count": 5,
   "metadata": {},
   "outputs": [
    {
     "data": {
      "text/plain": [
       "Unnamed: 0           0\n",
       "Job Title            0\n",
       "Salary Estimate      0\n",
       "Job Description      0\n",
       "Rating               0\n",
       "Company Name         1\n",
       "Location             0\n",
       "Headquarters         0\n",
       "Size                 0\n",
       "Founded              0\n",
       "Type of ownership    0\n",
       "Industry             0\n",
       "Sector               0\n",
       "Revenue              0\n",
       "Competitors          0\n",
       "Easy Apply           0\n",
       "dtype: int64"
      ]
     },
     "execution_count": 5,
     "metadata": {},
     "output_type": "execute_result"
    }
   ],
   "source": [
    "da.isnull().sum()"
   ]
  },
  {
   "cell_type": "code",
   "execution_count": 6,
   "metadata": {},
   "outputs": [
    {
     "data": {
      "text/plain": [
       "Unnamed: 0             int64\n",
       "Job Title             object\n",
       "Salary Estimate       object\n",
       "Job Description       object\n",
       "Rating               float64\n",
       "Company Name          object\n",
       "Location              object\n",
       "Headquarters          object\n",
       "Size                  object\n",
       "Founded                int64\n",
       "Type of ownership     object\n",
       "Industry              object\n",
       "Sector                object\n",
       "Revenue               object\n",
       "Competitors           object\n",
       "Easy Apply            object\n",
       "dtype: object"
      ]
     },
     "execution_count": 6,
     "metadata": {},
     "output_type": "execute_result"
    }
   ],
   "source": [
    "da.dtypes"
   ]
  },
  {
   "cell_type": "markdown",
   "metadata": {},
   "source": [
    "**Insights**"
   ]
  },
  {
   "cell_type": "markdown",
   "metadata": {},
   "source": [
    "1. We have around 2K data and 16 Features\n",
    "2. Some Features need to be dropped\n",
    "3. We have 1 null value in the company name \n",
    "4. Most of the features are object(string) type except for year of foundation , rating and an unamed column\n",
    "5. By the first glance the data we can observe that Company Name features contain name of the company as well as the rating also so we need to keep in mind at the time of data cleaning"
   ]
  },
  {
   "cell_type": "code",
   "execution_count": 7,
   "metadata": {},
   "outputs": [
    {
     "data": {
      "text/plain": [
       "Index(['Unnamed: 0', 'Job Title', 'Salary Estimate', 'Job Description',\n",
       "       'Rating', 'Company Name', 'Location', 'Headquarters', 'Size', 'Founded',\n",
       "       'Type of ownership', 'Industry', 'Sector', 'Revenue', 'Competitors',\n",
       "       'Easy Apply'],\n",
       "      dtype='object')"
      ]
     },
     "execution_count": 7,
     "metadata": {},
     "output_type": "execute_result"
    }
   ],
   "source": [
    "da.columns"
   ]
  },
  {
   "cell_type": "markdown",
   "metadata": {},
   "source": [
    "# Data Cleaning + EDA\n",
    "**There is a lot of data cleaning to be needed**"
   ]
  },
  {
   "cell_type": "markdown",
   "metadata": {},
   "source": [
    "## Easy Apply"
   ]
  },
  {
   "cell_type": "code",
   "execution_count": 8,
   "metadata": {},
   "outputs": [
    {
     "data": {
      "text/plain": [
       "-1      2173\n",
       "True      80\n",
       "Name: Easy Apply, dtype: int64"
      ]
     },
     "execution_count": 8,
     "metadata": {},
     "output_type": "execute_result"
    }
   ],
   "source": [
    "da[\"Easy Apply\"].value_counts()"
   ]
  },
  {
   "cell_type": "markdown",
   "metadata": {},
   "source": [
    "**Most of the companies are not hiring therefore its value is -1, Its better to replace it with False value** "
   ]
  },
  {
   "cell_type": "code",
   "execution_count": 9,
   "metadata": {},
   "outputs": [
    {
     "data": {
      "text/plain": [
       "True    80\n",
       "Name: Easy Apply, dtype: int64"
      ]
     },
     "execution_count": 9,
     "metadata": {},
     "output_type": "execute_result"
    }
   ],
   "source": [
    "da[\"Easy Apply\"].replace(\"-1\", np.nan, inplace = True)\n",
    "da[\"Easy Apply\"].value_counts()"
   ]
  },
  {
   "cell_type": "code",
   "execution_count": 10,
   "metadata": {},
   "outputs": [
    {
     "data": {
      "text/plain": [
       "0       True\n",
       "1        NaN\n",
       "2        NaN\n",
       "3        NaN\n",
       "4       True\n",
       "        ... \n",
       "2248     NaN\n",
       "2249     NaN\n",
       "2250     NaN\n",
       "2251     NaN\n",
       "2252     NaN\n",
       "Name: Easy Apply, Length: 2253, dtype: object"
      ]
     },
     "execution_count": 10,
     "metadata": {},
     "output_type": "execute_result"
    }
   ],
   "source": [
    "da[\"Easy Apply\"]"
   ]
  },
  {
   "cell_type": "code",
   "execution_count": 11,
   "metadata": {},
   "outputs": [],
   "source": [
    "da['Easy Apply']=da['Easy Apply'].fillna(False).astype('bool')\n",
    "#fillining the nan values with false and converting the easya apply feature into bolean values as it has only two values \n",
    "#True = Hiring \n",
    "#False = Not Hiring"
   ]
  },
  {
   "cell_type": "code",
   "execution_count": 12,
   "metadata": {},
   "outputs": [
    {
     "data": {
      "text/plain": [
       "-1                                              1732\n",
       "Adecco, Manpower                                  14\n",
       "Robert Half, Insight Global                       14\n",
       "TEKsystems, Insight Global, Accenture             10\n",
       "Google, Microsoft, Samsung Electronics            10\n",
       "                                                ... \n",
       "Redis Labs, GridGain                               1\n",
       "Transnational Foods, One Source Distributors       1\n",
       "Vivint Smart Home, Johnson Controls                1\n",
       "GE                                                 1\n",
       "DrugDev , Bracket, Bioclinica                      1\n",
       "Name: Competitors, Length: 291, dtype: int64"
      ]
     },
     "execution_count": 12,
     "metadata": {},
     "output_type": "execute_result"
    }
   ],
   "source": [
    "da[\"Competitors\"].value_counts()"
   ]
  },
  {
   "cell_type": "markdown",
   "metadata": {},
   "source": [
    "**Competitiors** features don't make any sense hence removing them"
   ]
  },
  {
   "cell_type": "code",
   "execution_count": 13,
   "metadata": {},
   "outputs": [],
   "source": [
    "da.drop([\"Unnamed: 0\",\"Competitors\"], inplace = True , axis=1)"
   ]
  },
  {
   "cell_type": "code",
   "execution_count": 14,
   "metadata": {},
   "outputs": [
    {
     "data": {
      "text/html": [
       "<div>\n",
       "<style scoped>\n",
       "    .dataframe tbody tr th:only-of-type {\n",
       "        vertical-align: middle;\n",
       "    }\n",
       "\n",
       "    .dataframe tbody tr th {\n",
       "        vertical-align: top;\n",
       "    }\n",
       "\n",
       "    .dataframe thead th {\n",
       "        text-align: right;\n",
       "    }\n",
       "</style>\n",
       "<table border=\"1\" class=\"dataframe\">\n",
       "  <thead>\n",
       "    <tr style=\"text-align: right;\">\n",
       "      <th></th>\n",
       "      <th>Job Title</th>\n",
       "      <th>Salary Estimate</th>\n",
       "      <th>Job Description</th>\n",
       "      <th>Rating</th>\n",
       "      <th>Company Name</th>\n",
       "      <th>Location</th>\n",
       "      <th>Headquarters</th>\n",
       "      <th>Size</th>\n",
       "      <th>Founded</th>\n",
       "      <th>Type of ownership</th>\n",
       "      <th>Industry</th>\n",
       "      <th>Sector</th>\n",
       "      <th>Revenue</th>\n",
       "      <th>Easy Apply</th>\n",
       "    </tr>\n",
       "  </thead>\n",
       "  <tbody>\n",
       "    <tr>\n",
       "      <th>0</th>\n",
       "      <td>Data Analyst, Center on Immigration and Justic...</td>\n",
       "      <td>$37K-$66K (Glassdoor est.)</td>\n",
       "      <td>Are you eager to roll up your sleeves and harn...</td>\n",
       "      <td>3.2</td>\n",
       "      <td>Vera Institute of Justice\\n3.2</td>\n",
       "      <td>New York, NY</td>\n",
       "      <td>New York, NY</td>\n",
       "      <td>201 to 500 employees</td>\n",
       "      <td>1961</td>\n",
       "      <td>Nonprofit Organization</td>\n",
       "      <td>Social Assistance</td>\n",
       "      <td>Non-Profit</td>\n",
       "      <td>$100 to $500 million (USD)</td>\n",
       "      <td>True</td>\n",
       "    </tr>\n",
       "    <tr>\n",
       "      <th>1</th>\n",
       "      <td>Quality Data Analyst</td>\n",
       "      <td>$37K-$66K (Glassdoor est.)</td>\n",
       "      <td>Overview\\n\\nProvides analytical and technical ...</td>\n",
       "      <td>3.8</td>\n",
       "      <td>Visiting Nurse Service of New York\\n3.8</td>\n",
       "      <td>New York, NY</td>\n",
       "      <td>New York, NY</td>\n",
       "      <td>10000+ employees</td>\n",
       "      <td>1893</td>\n",
       "      <td>Nonprofit Organization</td>\n",
       "      <td>Health Care Services &amp; Hospitals</td>\n",
       "      <td>Health Care</td>\n",
       "      <td>$2 to $5 billion (USD)</td>\n",
       "      <td>False</td>\n",
       "    </tr>\n",
       "    <tr>\n",
       "      <th>2</th>\n",
       "      <td>Senior Data Analyst, Insights &amp; Analytics Team...</td>\n",
       "      <td>$37K-$66K (Glassdoor est.)</td>\n",
       "      <td>We’re looking for a Senior Data Analyst who ha...</td>\n",
       "      <td>3.4</td>\n",
       "      <td>Squarespace\\n3.4</td>\n",
       "      <td>New York, NY</td>\n",
       "      <td>New York, NY</td>\n",
       "      <td>1001 to 5000 employees</td>\n",
       "      <td>2003</td>\n",
       "      <td>Company - Private</td>\n",
       "      <td>Internet</td>\n",
       "      <td>Information Technology</td>\n",
       "      <td>Unknown / Non-Applicable</td>\n",
       "      <td>False</td>\n",
       "    </tr>\n",
       "    <tr>\n",
       "      <th>3</th>\n",
       "      <td>Data Analyst</td>\n",
       "      <td>$37K-$66K (Glassdoor est.)</td>\n",
       "      <td>Requisition NumberRR-0001939\\nRemote:Yes\\nWe c...</td>\n",
       "      <td>4.1</td>\n",
       "      <td>Celerity\\n4.1</td>\n",
       "      <td>New York, NY</td>\n",
       "      <td>McLean, VA</td>\n",
       "      <td>201 to 500 employees</td>\n",
       "      <td>2002</td>\n",
       "      <td>Subsidiary or Business Segment</td>\n",
       "      <td>IT Services</td>\n",
       "      <td>Information Technology</td>\n",
       "      <td>$50 to $100 million (USD)</td>\n",
       "      <td>False</td>\n",
       "    </tr>\n",
       "    <tr>\n",
       "      <th>4</th>\n",
       "      <td>Reporting Data Analyst</td>\n",
       "      <td>$37K-$66K (Glassdoor est.)</td>\n",
       "      <td>ABOUT FANDUEL GROUP\\n\\nFanDuel Group is a worl...</td>\n",
       "      <td>3.9</td>\n",
       "      <td>FanDuel\\n3.9</td>\n",
       "      <td>New York, NY</td>\n",
       "      <td>New York, NY</td>\n",
       "      <td>501 to 1000 employees</td>\n",
       "      <td>2009</td>\n",
       "      <td>Company - Private</td>\n",
       "      <td>Sports &amp; Recreation</td>\n",
       "      <td>Arts, Entertainment &amp; Recreation</td>\n",
       "      <td>$100 to $500 million (USD)</td>\n",
       "      <td>True</td>\n",
       "    </tr>\n",
       "  </tbody>\n",
       "</table>\n",
       "</div>"
      ],
      "text/plain": [
       "                                           Job Title  \\\n",
       "0  Data Analyst, Center on Immigration and Justic...   \n",
       "1                               Quality Data Analyst   \n",
       "2  Senior Data Analyst, Insights & Analytics Team...   \n",
       "3                                       Data Analyst   \n",
       "4                             Reporting Data Analyst   \n",
       "\n",
       "              Salary Estimate  \\\n",
       "0  $37K-$66K (Glassdoor est.)   \n",
       "1  $37K-$66K (Glassdoor est.)   \n",
       "2  $37K-$66K (Glassdoor est.)   \n",
       "3  $37K-$66K (Glassdoor est.)   \n",
       "4  $37K-$66K (Glassdoor est.)   \n",
       "\n",
       "                                     Job Description  Rating  \\\n",
       "0  Are you eager to roll up your sleeves and harn...     3.2   \n",
       "1  Overview\\n\\nProvides analytical and technical ...     3.8   \n",
       "2  We’re looking for a Senior Data Analyst who ha...     3.4   \n",
       "3  Requisition NumberRR-0001939\\nRemote:Yes\\nWe c...     4.1   \n",
       "4  ABOUT FANDUEL GROUP\\n\\nFanDuel Group is a worl...     3.9   \n",
       "\n",
       "                              Company Name      Location  Headquarters  \\\n",
       "0           Vera Institute of Justice\\n3.2  New York, NY  New York, NY   \n",
       "1  Visiting Nurse Service of New York\\n3.8  New York, NY  New York, NY   \n",
       "2                         Squarespace\\n3.4  New York, NY  New York, NY   \n",
       "3                            Celerity\\n4.1  New York, NY    McLean, VA   \n",
       "4                             FanDuel\\n3.9  New York, NY  New York, NY   \n",
       "\n",
       "                     Size  Founded               Type of ownership  \\\n",
       "0    201 to 500 employees     1961          Nonprofit Organization   \n",
       "1        10000+ employees     1893          Nonprofit Organization   \n",
       "2  1001 to 5000 employees     2003               Company - Private   \n",
       "3    201 to 500 employees     2002  Subsidiary or Business Segment   \n",
       "4   501 to 1000 employees     2009               Company - Private   \n",
       "\n",
       "                           Industry                            Sector  \\\n",
       "0                 Social Assistance                        Non-Profit   \n",
       "1  Health Care Services & Hospitals                       Health Care   \n",
       "2                          Internet            Information Technology   \n",
       "3                       IT Services            Information Technology   \n",
       "4               Sports & Recreation  Arts, Entertainment & Recreation   \n",
       "\n",
       "                      Revenue  Easy Apply  \n",
       "0  $100 to $500 million (USD)        True  \n",
       "1      $2 to $5 billion (USD)       False  \n",
       "2    Unknown / Non-Applicable       False  \n",
       "3   $50 to $100 million (USD)       False  \n",
       "4  $100 to $500 million (USD)        True  "
      ]
     },
     "execution_count": 14,
     "metadata": {},
     "output_type": "execute_result"
    }
   ],
   "source": [
    "da.head()"
   ]
  },
  {
   "cell_type": "markdown",
   "metadata": {},
   "source": [
    "## Job Title"
   ]
  },
  {
   "cell_type": "code",
   "execution_count": 15,
   "metadata": {},
   "outputs": [
    {
     "data": {
      "text/plain": [
       "Data Analyst                                            405\n",
       "Senior Data Analyst                                      90\n",
       "Junior Data Analyst                                      30\n",
       "Business Data Analyst                                    28\n",
       "Sr. Data Analyst                                         21\n",
       "                                                       ... \n",
       "Analyst/Associate Global Markets Credit Data Analyst      1\n",
       "Senior Data Analyst (Remote OK)                           1\n",
       "Senior Data Analyst, Business Intelligence                1\n",
       "Data Science Sr. Analyst                                  1\n",
       "Data Analyst with Python or Python developer              1\n",
       "Name: Job Title, Length: 1272, dtype: int64"
      ]
     },
     "execution_count": 15,
     "metadata": {},
     "output_type": "execute_result"
    }
   ],
   "source": [
    "da[\"Job Title\"].value_counts()"
   ]
  },
  {
   "cell_type": "code",
   "execution_count": 16,
   "metadata": {},
   "outputs": [],
   "source": [
    "# Joining all the values in the title columns together \n",
    "job_title_str=' '.join([x for x in da['Job Title']])"
   ]
  },
  {
   "cell_type": "code",
   "execution_count": 17,
   "metadata": {},
   "outputs": [
    {
     "data": {
      "text/plain": [
       "'Data Analyst, Center on Immigration and Justice (CIJ) Quality Data Analyst Senior Data Analyst, Insights & Analytics Team [Customer Operations] Data Analyst Reporting Data Analyst Data Analyst Business/Data Analyst (FP&A) Data Science Analyst Data Analyst Data Analyst, Merchant Health Data Analyst Data Analyst DATA ANALYST Senior Data Analyst Investment Advisory Data Analyst Sustainability Data Analyst Data Analyst Clinical Data Analyst DATA PROGRAMMER/ANALYST Data Analyst Product Analyst, Data Science Data Science Analyst Data Analyst - Intex Developer Data Analyst Entry Level / Jr. Data Analyst Data Analyst Data + Business Intelligence Analyst Data Analyst, Product Data Analyst Entry Level Data Analyst Data Analyst Data Analyst Data Analyst Data Science Analyst, Capital Markets Data Analyst (Games) Analyst/Associate Global Markets Credit Data Analyst Data Business Analyst Data Analyst with Excel/DAX/ PowerBI experience- Fulltime Data Science Analyst/Engineer Data Analyst Business Analyst, Data Platforms Behavioral Data Analyst Data Analyst Data Analyst -1+ year Contract - NYC Data Analyst Data Analyst Advertising Data Analyst Data Analyst Market Data Reporting Analyst Senior Analyst, Data Science Senior Data Analyst, Disney+ Office of the CAO | Reference Data, Project Manager/Business Analyst Business Data Analyst Senior Data Analyst Data Scientist / Big Data Analytics Analyst Data Reporting Analyst Principal Data Analyst, LATAM - Disney Streaming Services Data Analyst II Data Analyst - Environmental, Social, and Governance Data Analyst Data Analyst, Revenue Analytics Data Analyst - Data Acquisition / Data Lineage Data Analyst - Data Scanning utilizing Rochade Data Analyst - Stitching Junior Data Analyst Data Analyst, Retail Media Data Analyst Portfolio Data Analyst Data Science Analyst Data/Reporting Analyst Data Analyst 2 Entry Level Data Analyst Marketing Data Analyst Data/Information Mgt Analyst Business Data Analyst Information Systems Officer (Data Analyst) Media Science Big Data Analyst Data Analyst Data Analyst Data analyst with Python Data Analyst Data Analyst Healthcare Data Analyst, Qsight BA/Data Analyst Data Analyst Python Data Analyst, Bitcoin Trading Firm Data Analyst-BA Data Analytics Solutions Analyst Quantitative Data Analyst Data Analyst Data Analyst Descriptive Analytics Data Analyst, IB Data Analyst Data Analyst Data Analyst Data Analyst Data Analyst Business Data Analyst Data Analyst Healthcare Data Analyst Supply Chain Data Analyst Data Analyst - IBM Tool Set Analyst-Data Integrity Reference Data Operations Analyst - Index Instrument, Associate Data Analyst Data & Service Health Analyst Data/Systems Analyst Data Analyst Data Analyst Data Analyst Data Analyst Intern Data Analytics Analyst or Associate, Cowen Sustainable Investments Data Reporting Analyst Data Analyst Data Analyst Data Analyst ERP Data Analyst Data Analyst Healthcare Data/Reporting Analyst PBM Data Analyst Data Analyst (Temporary Assignment) Data Analyst Market Data Analyst Data Analyst Junior Data Analyst Microsoft Dynamics CRM Data Analyst Practice Analyst Data Buyside - Data Scientist/Research Analyst Data Analyst - Healthcare Provider Networks and Formularies Electronic Trading Data Analyst Data Analyst, Center for Developing Brain Data Processing & Performance Analyst Business Analyst - Data Analyst Data Analyst with Rochade Advertising Data Analyst Product Analyst - Data Senior Data Analyst Data Analyst Market Research Data Analyst - Physician Technology Data Analyst Look ML Data Analyst Data Collection Analyst Data Analyst DATA ENTRY/ BILLING ANALYST Student Persistence Initiative Data Analyst/Scientist Data Quality Analyst Data Governance Analyst Sr. Business Intelligence Engineer / Data Analyst Data Analyst Data Analyst Data Analyst Healthcare Data/Reporting Analyst Data Analyst I - Geriatrics and Palliative Care Data Analyst Data Analyst/Rochade Data Analyst, Revenue Analytics Data Analyst Data Analyst Data Analyst II, Division of Gastroenterology (Research) Data Analyst, Student Success Program Big Data QA Analyst with Jupyter notebook Analyst, Data Centers Industry Data Analyst Financial - Data Analyst Data Analyst with Data Scanning and Profiling Business Analyst - Data Governance Senior Data Analyst - Health Economist Lead Data Insights Analyst Research Analyst (Data Science) Data Management Analyst Business Analyst / Data Analyst Healthcare Data/Reporting Analyst Clinical Data Analyst Sr. Data Profiling Analyst Data Analytics Analyst or Associate, Cowen Sustainable Investments Data Analyst Data Analyst Sr. Data Analyst, Revenue Analytics, Peacock Senior Data Analyst Data Analyst Senior Data Analyst - Data Cataloging / Data Profiling Data/Report Analyst Senior Data Analyst Human Capital Data Analyst GIS Data analyst Junior Data Analytics Solutions Analyst Data Analyst Data Analyst w/Capital Markets VP, Research Project Analyst/Data Management Food Data Analyst Data Management Analyst Data Governance Analyst Data Analyst, Enterprise Analytics Data Analytics Solutions Analyst - Mid with Security Clearance Data Analyst Assistant Investment Management Summer Analyst Program - Office of COO: Data & Analytics Data Collection Analyst Data Collection Analyst Sr Business /Data Analyst- Reference data Data Analyst SENIOR DATA ANALYST Senior Data Analyst / Scientist Senior Data Analyst - Regulatory Reporting Data Reporting Analyst Data Governance Analyst Data Analyst Senior Data Analyst (6-12 Month Contract-Remote) Principal Data Analyst, LATAM – Disney Streaming Services Data Analyst- Win 10 Migration- NYC Data Analyst (35 hours/week) Tech Business/Data Analyst Data Analyst Senior Data Analyst, Financial Services Enterprise Data, Financial Data Analyst - Content Design Specialist Contractor Data Analyst Data Analyst Senior Data Analyst Data Remediation Analyst-EK020719A/JL Business Analyst - Chief Data Office Senior Analyst, Data Instrumentation & Quality (Disney+) Sr. Data Analyst Big Data Programmer Analyst Lead Data Analyst Data Analyst Data Governance Analyst Client Service Data Analyst Financial Data Analyst - Accounting - D3529 Data / Business Analyst (SQL/Tableau) Data Processing & Performance Analyst New York, NY Data Analyst Senior Data Analyst Data Analyst-Junior Profiles also works-Only NY/NJ Candidates Please on w2 Only Business Analyst-Market Data Content Analyst/Data BA-Bus/Tech Strategy - Investment Bank Data Analyst Senior Analyst, AB Testing and Data Operations Data Warehouse Analyst Data Analyst I - Geriatrics and Palliative Care Data Analyst Senior Business and Data Analyst Data Analyst II Data Analyst II Data Analyst (35 hours/week) Lead Generation Data Analyst DnA Ambassador (Clinical Business Analyst - Level 1), Data & Analytics/Re-post Data Analyst I - Genetics & Genomic Sciences Data Reporting Analyst III Reporting Analyst Data Analyst Data Analyst - CBCH Principal Data Analyst, LATAM Disney Streaming Services Data Engineer/Data Analyst Technical Business/Data Analyst CRM Data Performance Analyst eCommerce Data Analyst Senior Data Analyst - Rochade Financial Data Analyst 2021 Summer Analyst Program- Data & Analytics Solutions Data Analyst - QC People Operations & Data Analyst Lead Data Analyst (Product) Data Analyst - III SQL Data Analyst Healthcare Data/Reporting Analyst Epic Data Intelligence Analyst JPSC-8461 - Position: 13,52,53 Data Analyst Data Analyst - Analytics/SQL Data Analyst-Excel Data Remediation Analyst Data Analyst with Python or Python developer Data Entry Clerk / Data analyst Senior Analyst, Data and Insights (Wirecutter) ETL Developer / Data Analyst Big Data Programmer Analyst Data Governance Analyst Data Analyst with Python Data Analyst/Project Manager Data Analyst - Intex Developer Analyst Business Data Sr. Datastage and Data Analyst Programmer Data Analyst Consumer Lending Data Analyst Encounter Data Analyst Business Analyst/PM/Data Analyst - Investment Bank Healthcare Analyst, Claims/Encounter Data Data Analyst TX Healthcare Data/Reporting Analyst Senior Data Analyst - Regulatory Reporting Senior Specialist Data Analyst SQL Report Developer Data Analyst Clinical Data Analyst Data Analyst,, Sales Operations - Oracle Data Cloud Data Analyst - Machine Learning Senior Analyst, Data Analytics Senior Data Analyst (Product) Senior Data Analyst - Data Cataloging / Data Profiling 2021 Summer Analyst Program- Data & Analytics Solutions Technical Data Analyst Senior Analyst, Customer Master Data Data Analyst/Project Manager Data Analyst II - Division of Endocrinology Sr. Reference Data Business Analyst - SQL Data Analyst - Actuarial Background Data Management Analyst (ADDM04) SEC SVCS OPS DATA GOVERNANCE - NA BA With Data Analyst Skills Data & Reporting Analyst, GNHCC Principal Business Analyst - Data Governance Business Analyst/Data Analyst - Capital Markets .net, sharepoint, Java, Data analyst, Business Analyst ETL Datastage Developer/IBM Infosphere Datastage Consultant(ETL Data Analyst)-Only NY/NJ candidates Please Consumer Lending Data Analyst Data Analyst - CBCH Solar Data Analyst Data Science Lead Analyst Clinical Data Analyst Remote: Data Analyst (Data Lineage, Financial industry)_Long term Senior Data Analyst Data Governance Analyst Data Management, Firmwide Data Quality, Analyst Compensation and Data Analyst (Human Resources) Senior Data Analyst Data Analyst II, Division of Gastroenterology (Research) NY Healthcare Data/Reporting Analyst Data Analyst Big Data QA Analyst / QA Tester / Test Analyst Senior Data Analyst Senior Supply Chain Data Analyst Data Analyst, Capital Markets (Manager) Analyst, People Operations & HR Data Senior Analyst, Data Instrumentation & Quality (Disney+) CIB F&BM Global Program Management EMEA - International Regulatory - Data Provisioning Business Analyst - Associate Business Data Analyst (Financial Services) Senior IT Technical Data Analyst Data Analyst/Data Acquisition Speciliest with Financial Industry Exp Data Analyst/Data Scanning with Financial Industry exp Sr Business Analyst, Data Science Senior Data Analyst - Data Governance Senior Manager, Data Analyst Senior Business Intelligence & Data Science Analyst Risk Adjustment Data Analyst Data Analyst III Sr. Data Analyst, Retail Media Sr IT Technical Data Analyst Senior Marketing Data Analyst Data Analyst III TX Healthcare Data/Reporting Analyst Senior SQL Data Warehouse Analyst Data Analyst Junior SR. Power BI with DAX - Data Analyst Informatica IDQ - Data Quality Analyst (Contract) Senior Solutions Analyst, Data Specialist Operations data analyst HR Data Analyst Healthcare Senior Data Analyst - HEDIS Senior Data Quality Analyst Financial Data Analyst - Accounting ll Data Analyst - Litigation Quantitative Data Analyst/Developer Sr Business Data Analyst SAP, SKU, Supply Chain Senior Data Analyst, Gas Planning and Design Engineering Data Analyst - Cardiac Cath Lab Senior Data Business Analyst Business Analyst/Data Analyst - Capital Markets Data Firmwide Reference Data Operations, Pricing Operations, Analyst Senior Healthcare Data Analyst Data Analyst, Quality & Patient Safety Senior Data Analyst - FHC - Family Support Center QA Data Analyst Sr Data Analyst for Customer Based Management Data Analyst/Project Manager in Jersey City, New Jersey | Careers at Harborside Senior Financial Analyst - Enterprise Data Data Analyst with Data Lineage/Rochade Senior Market Data Content Acquisition/Procurement Analyst Sr. Specialist Reporting Data Analyst /Engineer - Cloud Senior Business Analyst, Data Management Data Science Analyst II - Mount Sinai Health Partners NY Healthcare Data/Reporting Analyst Data Analyst Technical Business Analyst with Retail Banking and Large Data Program Principal Sales Operations Analyst - Oracle Data Cloud QA Production Data Analyst JPSC-7462 - Data Analyst Lead - Sr. Tableau Lead Data Services Lead Analyst Sr Data Analyst, Go-Live Data Analyst III- SAS req\\'d Senior Healthcare Data Analyst Regulatory Risk Management Data Analytics and Reporting Analyst NY Healthcare Data/Reporting Analyst Specialist, Data and Reporting Analyst - IT Change Management Datastage Developer/Consultant/IBM Websphere Datastage Developer(ETL Data Analyst)-Only Local to NY/ Data Analyst III- SAS req\\'d Data Warehouse systems analyst TX Healthcare Data/Reporting Analyst NY Healthcare Data/Reporting Analyst Sr. Data Analyst - RWE Data Migration Lead/ Analyst (migration of data to the new target system) Senior Data Analytics Solutions Analyst Technical Analyst - Access/Identity Data Security Data Analyst - Cardiac Cath Lab Data Quality Management Analyst Business Analyst (SQL/SQL TOAD, Excel, XML, X12, HL7 messaging, data quality analysis) Senior Teradata Developer / Data Analyst Data & Interface Analyst NY Healthcare Data/Reporting Analyst Healthcare Senior Data Analyst - HEDIS Data Analyst (Must have PL/SQL and Healthcare background) Data Analyst / IT Data & Business Intelligence Sr. Specialist Reporting Data Analyst -Technology Sr. Programmer Analyst - Big Data Senior Data Analyst - FHC - Family Support Center Data Analyst â Junior Sr. Principal Metrics Analyst- Data Scientist Product & Pricing Data Analyst SAP Data Analyst Senior Data Analyst (E-commerce, Marketing) Clinical Data Designer (Sr. SDTM Programmer/Analyst) Senior Data Analytics Solutions Analyst with Security Clearance JPSC-7176 - Position 35, 59, 62, 100,101,102, 141,142,166 : Senior Data Analyst Senior Billing Data Analyst Master Data Analyst Sr. Data Analyst Senior Functional Analyst SAP Data design, SD/MM/PP Data Analyst Data Analyst Data Analyst Data Analyst Data Analyst Data Analyst Data Engineer / Data Analyst Junior Data Analyst Data Analyst Data Analyst : 20 Data Intelligence - Product Data Quality Analyst (DE - RefData) - Data as a Service Data Engineer/Data Analyst (REMOTE/Eventually Onsite) Data Engineer/Analyst Quality Data Analyst Technical Data Analyst/Architect Data Governance Analyst II Big Data Analyst Senior Data Analyst Data Analyst Data Analyst at Salt Lake City, UT Senior Data Analyst Data Scientist/Analyst - Noke Data Analyst - W2 candidate Senior Data Analyst Marketing Coordinator / Data Analyst Senior Data Analyst Financial Data Analyst Special Operations (LREC) Incentives and Proficiency Data Analyst Senior Data Analyst a. Senior Data and Business Analyst Fund Data Analyst Sr Python Data Analyst(no c2c) contract w2 only TX Healthcare Data/Reporting Analyst Data Analyst Data Analyst, District Office - Accountability Office Data Analyst (Kings County) Tactical Data Link (TDL) Analyst Data Analyst Data Science Analyst Junior Data Analyst Junior Data Analyst Jr Data Analyst Data Science Analyst Data Analyst Data Analyst Data Analyst Data Analyst Data Analyst Finance Data Analytics Analyst Business Intelligence/Data Analyst with Security Clearance Research & Data Analyst Metrics & Data Analyst Tactical Data Link (TDL) Analyst- Senior Data Analyst- Secret Clearance- Data Analyst Junior HQ Data Analyst USMTF Data Analyst Mid Data Analyst Product Data Business Analyst Retail Data Quality Analyst USMTF Data Analyst with Security Clearance Senior Data Strategy Analyst (SDSA) Data Analyst - Va Beach - VA with Security Clearance Configuration and Data Management (C&DM) Analyst Jr Management Analyst (Data Management) Senior Data Analyst Tactical Data Link (TDL) Analyst Sr Data Business Analyst - FacilitySource Acoustics Data Analyst/Flight Test Engineer Senior Data Analyst Senior Data Analyst- Secret Clearance Senior Data Management Analyst (SDMA) Data Analyst - Senior Consultant Data Warehouse Programmer/Analyst Data Analyst (Navy) - Mid and Junior Level Data Analyst - Senior Consultant - Norfolk, VA with Security Clearance Program Analyst - AIS/Maintenance Data System Coordinator MSC Logistics Data Analyst Data Analyst (Navy) - Mid Level Business Intelligence & Data Analyst Sr Data Business Analyst - FacilitySource Senior Data Analyst (Navy) NIWC Service Desk Analyst Component Enterprise Data Center (CEDC with Security Clearance NIWC Service Desk Analyst Component Enterprise Data Center (CEDC). Junior Data Analyst Data Analyst Data Analyst AvMed Data Governance Analyst Data Management Analyst II Data Analyst Junior Data Analyst â Junior IT Analyst III Data Systems Product Data Analyst Lead Data Analyst Data Analytics Insights Analyst Data Analyst Data Analyst Data Analyst Product Data & Insights Analyst Survey Data Analyst Senior Data Analyst Data Analyst Data Analyst Data and Policy Analyst - Statistical Programmer Data Analyst Senior Data Analyst, Marketing Data Analyst Data Analyst Data Analyst Data Analyst Data Analyst Data Analyst Data Analyst Senior Database Analyst - Data Warehouse Data Analyst Data Analyst Data Analyst – Finance Data Analyst Data Analyst Data Analyst Data and Reporting Analyst Data Analyst Advanced Data Analytics Analyst Data Analyst Data Analyst Data Analyst Data Analyst Senior Data Intelligence Analyst Sr. Data Analyst, Consumer Applications Data Governance Analyst Data Analyst Senior Data Analyst, Data Insights Data Analyst Workday Technical Analyst- Data Conversions Data Analyst Healthcare - Experienced or Entry Level Woocommerce Data Governance Analyst Analyst, Data Operations Data Analyst Data Analyst Data Analyst (Apex Legends) Data Intelligence Analyst II ( Epic Certification Required ) Market Data Analyst Sr Analyst, Data Operations Data Analyst (Ryan White) Senior Data Analyst Data System Analyst I, LACERA (Senior Java Developer) Data Analyst Data Analyst Data Analyst Junior Data Analyst Data Analyst Marketing Data Analyst Data and Policy Analyst - Writer/Coordinator Sr. Data/Report System Analyst Equity Data/Research Analyst Senior Data Analyst Data Analyst Data Analyst - (Python) Data Analyst / Developer Data Analyst I Senior Data Analyst Senior Data Analyst Billingual Chinese - Data Analyst Senior Data Analyst Reporting Data Analyst Public Policy Data Analyst Epidemiologist Data Analyst-Urology Data Analyst I Data Systems Analyst Data Analyst, Predictive Analytics Data Reporting Analyst Senior Data Analyst Business Data Analyst Business Data Analyst Epidemiologist Data Analyst-Urology Mid-Senior Data Analyst Associate Player Support Data Analyst BI/Data Analyst Sr. Data Analyst, Ad Operations Data Analyst Junior Customer Insights Manager, Senior Data Analyst | Mobile Research Sr. Data Analyst - Kaiser Permanente Bernard J. Tyson School of Medicine Senior Business Technology Analyst - Big Data (Los Angeles area, CA) Financial Data Analyst Enterprise Data Quality Analyst - EDM Survey Data Analyst Data Analyst/SQL/Healthcare Or Medical OR Clinical Data Analyst Manager Enterprise Data Analyst MEDIA DATA ANALYST Data Analyst - Personalization Data Systems Analyst III Data Analyst / Developer Senior Data Bi Analyst Operations Analyst, Data Governance Analyst, Data (Pharmacy & SQL) Sr. Business Analyst, Data Science and Analytics Enterprise Data Quality Analyst - EDM Microsoft Dynamics CRM Data Analyst Marketing Data Analyst, Teleflora Senior Customer Data Analyst : 20 REMOTE Data Analyst - POWER BI+MONGO+ DAX EXPERIENCE Senior Data Analyst - User Growth Automotive Data Analyst Data Analyst - Product Sr. Analyst, Data Senior Data Insights Analyst Bilingual (Chinese) Data Analyst Systems and Data Analyst - SQL Data Entry Analyst Sr Analyst, Data Operations Data Intelligence Analyst II Business Analyst / Data Analyst with Financial Industry Experience Sr. Data Analyst Investment Reporting Data Analyst Jr. Data Analyst (Jr. DA) Sr. Business Data Analyst Data Reporting Analyst Pricing Data Analyst Senior Data Engineer & Analyst Principal Data Management Analyst Sr. Data Analyst Sr Data Analyst (DW) Data Analyst, Product Digital Media Data Analyst, Apple TV+ Data Intelligence Analyst Operations Analyst, Data Governance Sr. Data Analyst Data Technician/Analyst/Specialist Senior Data Analyst Research Data Analyst 【1yr OPT+Intern】Data Analyst 保实习保就业 Heightened Standards Data Analyst Corporate: Data Analyst Sr Data Analyst Data Analyst I- ON SITE POSITION Analyst, Data Senior Data Analyst Credit Data Analyst Sr Performance Metrics Data Analyst Sr. Data Analyst Junior Data Analyst SENIOR DATA BI ANALYST Data Analyst - MS Access & Excel Data Analyst (Asset Management / eDiscovery) Jr. Data Analyst Sr. Data Analyst Data Analyst - Health, Experienced Product/Data Analyst Junior Data Analyst Reporting Data Analyst Data Intelligence Analyst Data Analyst-Cerritos, CA Digital Marketing Data Analyst Sr Performance Metrics Data Analyst Student Data Compliance Analyst Data Quality Control Analyst Senior Data Management Analyst Sr. Data Analyst Data Analyst HEDIS Star Senior Data Analyst Sr. Data Analyst SAP Master Data Analyst Service Operations Data Analyst Data Analyst I Senior Data Management Analyst System and Data Analyst Service Operations Data Analyst SAP Master Data Analyst Business Analyst Asset Data Management Sr Digital Marketing Data Analyst (PAID SOCIAL) 19-0574 - Service Operations Data Analyst Discovery Data Analyst Analyst, Financial Master Data Data Analyst-HEDIS & Star Music Copyright Data Analyst Sr. Data Analyst Sr. Data Analyst Sr. Data Governance Analyst Data Analyst - Health, Senior Data Analyst-HEDIS & Star Data Entry Clerk and Analyst - Financial Analyst, Financial Master Data Senior Clinical Data Analyst Sr. Data Analyst (Pharmacy) Sr Analyst, Data Systems and Data Analyst Analyst, Financial Master Data Copyright Data Analyst LIMS Master Data Analyst Data Analyst *Temp-Hire* QM DATA ANALYST II, WHITTIER, FULL TIME DAYS Radar Telemetry Data Analyst - RT Sr. Data Analyst — US Safety Data Analyst - Marketing Analytics Radar Telemetry Data Analyst Radar Telemetry Data Analyst Senior Healthcare Data Analyst Radar Telemetry Data Analyst Data Analyst Data Analyst Data Analyst Data Transformation Analyst Data Analyst Jr. Data Analyst Urgent Need - Data Analyst Data Analyst Business Systems & Data Analyst Healthcare Data Analyst - Remote Junior Data Analyst Data Analyst Product Data Analyst Entry Level / Jr. Data Analyst Data Analyst (Junior) Data Analyst Associate Marketing Data Analyst Outsights Data Analyst Business Data Analyst Data Analyst Data Analyst Data Analyst Data Analyst - Excel Associate Marketing Data Analyst Data Analyst Data Integrity Analyst Data Integrity Analyst Data Analyst - IntelliScript Data Analyst Reporting and Data Analyst - (North American Collections Analytics for Data and Analytics) Data Analyst Lead Data Analyst Manufacturing Data Analyst Data Analyst Data Analyst Data Analyst Data Analyst Intern Senior Data Analyst Data Analyst Junior Data Analyst Senior Data Analyst Data Analyst Public Health Data Visualization Analyst Data Operations Analyst Data Analyst Data Quality Analyst Marketing Data Analyst Senior Data Analyst Data Analyst Data Analyst Provider Analytics Data Analyst CSI Data Analyst Outsights Data Analyst Data Analyst Provider Analytics Data Analyst Senior Data Analyst Data Governance Analyst Senior Data Analyst Senior Data Analyst, Business Intelligence Data Analyst Data Analyst Data Analyst - Rush Infectious Diseases Data Analyst Fair Lending Data Analyst Data Analyst Senior Research Data Analyst Data Analyst Data Analyst Data Management Analyst Data Operations Analyst Data Analyst Data Analyst, Operations Engineering Data Analyst, Tax (Affordable Care Act) (ACA) (Manager) (Multiple Positions) Business Analyst / Data Analyst Master Data Analyst BI Data Analyst Data Quality Analyst Senior Data Analyst Sr. Data Analyst Tableau Developer/Data Analyst Data Analyst Data Analyst Data Analyst – Level II Reporting and Data Analyst - (North American Collections Analytics for Data and Analytics) Senior Data Analyst Data Analyst Senior Trading Systems Data Analyst (Chicago or NY) Data Analyst/Programmer Data Services Business Analyst 2 Data Analyst Call Center Data Analyst Data Analyst - 20 Data Governance Analyst Data Analyst Senior Global Data Analyst / Power BI Dashboard Developer Data Analyst Data Analyst, Tax (Affordable Care Act) (ACA) (Manager) (Multiple Positions) Logistics Data Analyst Data Production Analyst Senior Data Analyst SAS Data Analyst Data Analyst Manufacturing Data Analyst - Woodridge, IL Senior Data Analyst Logistics Data Analyst Visiting Undergraduate Affairs Data Analyst - Office of the Vice Provost for Undergraduate Affairs & Academic Programs Contract Analyst - Enterprise Market Data Marketing Data Analyst - CPG Senior Data Analyst IT Risk and Compliance Data Reporting Analyst Data Analyst / Business Lead Generation Specialist [Part-Time] JPSC-5704 - Data Analyst Workforce Data Analyst Data Analyst Junior Senior Data Analyst Senior Trading Systems Data Analyst (Chicago or NY) Data Analyst-IT III Sr Analyst, Distrib Data Eng Data Analyst (Supply Chain) - May Reside Anywhere in the US - Up to 100% Travel SAS Data Analyst/Reports Writer Data Scientist - Sr. Analyst Clinical Practice Data Analyst Specialist (Clinical Research Data Manager) - Mile Square Main QA Analyst - DATA Base Exp Philanthropy Operations Associate - Data Analyst Financial Systems Lead Data and Reporting Analyst Data Entry and compliance Analyst Lead Data Analyst Senior Data Analyst Informatics ERP Data Migration Analyst in Glenview, IL at Signode Data Security Analytics Analyst Clinical Practice Data Analyst Specialist (Clinical Research Data Manager) Mile Square Main (Job ID Data Analyst IV Sr. Data Analyst - Analytics, Marketing, CPG SAP Data Management Analyst Senior Marketing Data Analyst (Real Estate) Logistics Data Analyst II Senior Analyst, Data Analytics Senior Data Analyst - Informatics Data Quality Analyst-Product Content Specialist Technical Web Data Collection Analyst Sr. Sales Operations & Data Analyst Sales Data Analyst Lead Data Analyst Senior Healthcare Data Analyst Senior data analyst Data Analyst (MPI) Senior Data Analyst, Sales Sr. BI Data Analyst / QlikSense Data Governance and Analytics Analyst R & Python / Sr. Information Data Analyst Clinical Practice Data Analyst Specialist (Clinical Research Data Manager) - Mile Square Main Lead Data Analyst Clinical Practice Data Analyst Specialist Sr. Business Analyst Data Privacy SAS Analyst / Data Analytics /Sr. information Data Analyst IT Risk and Compliance Data Reporting Analyst Analyst IV Systems - Data Engineering Data Analyst Alteryx Experience MUST Sr. Business Analyst Data Privacy SAS Data Analyst Business Systems Analyst III - Data Engineering(Lead Product Owner) Sr. Data Governance Business Analyst Data Scientist Sr. - Conversation Designer & NLP Analyst Data analyst with Bigdata Data Analyst Data Analyst I Data Analyst Data Analyst Data Quality Analyst Financial Data Analyst Cost Data Analyst Data Analyst Data Analyst, Reporting Product and Data Analyst Data Analyst - 20 Data Analyst Analyst, Data Mgmt / Quant Analysis Data Analyst Data Analyst Data Analyst & Healthcare Analytics Data Analyst Business Analyst Data Governance Data Analyst Data Analyst XYZ Data Analyst Data & Reporting Analyst Performance Data Analyst Data Analyst II Data Analyst II Business Analyst (Data Integration/Salesforce) Compensation & HR Data Analyst Data Quality Analyst Data Expert Analyst/Modeler Data Quality Analyst Data Analyst Data Warehouse Analyst - PL/SQL - 10 Operations Data Analyst Data Quality Analyst Data Analyst MDM Data Analyst (LiDar, Ortho/Imagery) Aircraft Data Analyst Data Analyst Lead - SAP Environmental Data Analyst - Disaster Recovery Data Analyst Manager Data Warehouse Analyst Data Warehouse Analyst Data Analyst III (Healthcare Analytics) Data Warehouse Analyst MDM Data Analyst Data Analyst - Report Writer Omnichannel Marketing Data Analyst Senior Data Analyst Data Modeler/Data Analyst Data Collector/Analyst (Entry Level) Data Analyst III (Healthcare Analytics) Data Warehouse Analyst Data Governance Analyst Data Quality Analyst Data Analyst III (Healthcare Analytics) Data Analyst III CBO Data Analyst Lead Quality Data Analyst Master Data Management Analyst DATA WAREHOUSE ANALYST III Senior Data Analyst Master Data Analyst Data Warehouse Analyst PL/SQL Sr. Data Governance Analyst Role: Data Warehouse Analyst - Direct Client. eDiscovery Data Analyst Senior Data Operations Analyst Accounts Receivable Analyst (Data Entry) Data Governance Business Analyst Data Management Analyst - Internal Medicine, Infectious Lead Analyst, Data Mgmt / Quant Analysis HCC Data Analyst Business Analyst - IT Data Warehouse VBA Software developer / IT Data Analyst SQL Healthcare Information and Data Analyst II Software Engineer/Data Analyst Financial Data Analyst - Data Mining, Analytics, Reporting Splunk SME / Data Analyst _ TXho_ Data Warehouse Analyst III Contract data validation analyst Data Warehouse Analyst III Electronic Data Interchange Analyst (EDI) Sr. Data Analyst Data Expert (Analyst/Modeler) .Net Developer - Program Data Design Analyst Data Analyst Senior Data Analyst Data Warehouse Analyst II-ST SQL Developer/Data Analyst Jr. Analyst Data/Reporting Senior Data Analyst Data Warehouse Analyst III Data Analyst Data Analyst Data Analyst Business Data Analyst Data Analyst Data Analyst Data Analyst Data Analyst Data Analyst Data Analyst Data Analyst Fall 2020 Supply Chain Data Analyst Intern Data Experience Analyst Data Analyst Data Analyst Data Analyst, Marketing Data Control Business Analyst Network Security System/Data Analyst Data Center Services Analyst I, II, III, or Senior Data Analyst Central Flow Data Analyst Data Center Services Analyst I, II, III, or Senior Data Analyst - Data Science and Analytics Data Analyst Data Programmer/Analyst Master Data Operation Analyst Data Reporting Analyst Data Quality Analyst Analyst (Global Data and Analytics) Senior Business Intelligence Data Analyst Senior Data Analyst System Analyst/Data Analyst/ Data Governance Analyst/ Collibra Automotive Data Analyst Reporting & Data Analyst Data/Business Analyst Data Quality (DQ) Problem Management Analyst Statistician/Data Analyst/SQL Coder Business Data Analyst - I Technology Analyst | Data Management - Data Integration | Informatica Senior Data Analyst w/ Collibra SYSTEMS and DATA ANALYST Data Modeler / Analyst with Data Steward SQL Data Analyst Data Analyst - Financial Advisor Services Marketing Data Analyst CLINICAL DATA ANALYST Senior Data Analyst CLINICAL DATA ANALYST Senior Data and Reporting Analyst Data analyst Data Analyst/Engineer Finance Data Analyst Data Analyst/Business Analyst with SQL Financial Data Analyst Technical Business/Data Analyst Accounting Data Analyst Data Analyst/Scientist Intern Senior Data Analyst Data Engineer/Database Analyst/Data Analyst Data System Analyst with SQL Senior Data Analyst ETL QA / Data Analyst Analyst Pharmacy Quality Data Analyst, Global Data Governance & Strategy SQL/SAS Data Analyst Senior Data Analyst Risk/Regulatory Reporting Project Data Analyst Data Architect /Data Modeler/Data Analyst Data Analyst - Mid-Level Sr. Data Business Analyst-Docutech Information Security Data Analyst Financial and Data Analyst Transportation Data Analyst Civil Engineer/GIS Data Analyst IT Data Protection Analyst Business Intelligence - Data Analyst Junior Data Analyst-Phoenix, AZ Data Analyst- San Antonio, Des Moines Data Analyst Senior (Data Analyst) BA/BSA Card Data Analyst IT Data Analyst, TS/SCI with Poly Senior Analyst, Global Data Governance & Strategy Data Analyst with ETL tools and EDW Underwriting Analyst (strong data analytics in actuarial, statistics etc) JPSC-6986 - Data Governance Analyst Project Regulatory/Risk Data Analyst Marketing Data Analyst Coordinator Language Data Analyst Senior Analyst - Client Data Data Analyst II Data Analyst - Priceguide Sr Data Analyst Junior Data Analyst Sr. Data Analyst Data Analyst Data Analyst Data Analyst Data Analyst - Entry Level SQL Data Analyst Data Analyst Junior Data Analyst Data Analyst, Data & Analytics (Advanced Analytics) Manager (Multiple Positions) Data Analyst Pharmaceutical Data Analyst Data Analyst Data Analyst Data Analyst Data Analyst Data Analyst - Data Science Data Analyst Data Reporting Analyst Data Analyst Data Analyst Data Analyst Data Analyst, Data & Analytics (Advanced Analytics) Manager (Multiple Positions) Data Analyst Data Reporting Analyst Jr. Data Analyst, Master Data Data Analyst Neuroimaging Data Analyst Junior Healthcare Data Analytics Analyst Certified Tumor Registrar/Data Analyst [CTR and experience required] Business Systems/Data Analyst [Remote] CCB Risk - Fraud Risk Data Analyst - Associate Data Analyst Analyst Data Intelligence (US) Healthcare Data Analytics Analyst Data Analyst Clinical Data Analyst Data Analyst - Contract - W2 Healthcare Data Analyst Data Analyst, Value Based Payment (VBP) Data Analyst - Digital Media Data Strategy Analyst Business Data Analyst Senior Data Analyst, Specialist Data Analyst/Architect Sr Data Analyst Data Analyst - Contractor SQL Data Analyst Data Analyst/Records Management Senior Data Analyst Senior Data Analyst Business / Data Analyst Data Analyst- Remote Data Governance Analyst Senior Data Analyst Data Analyst- Remote Senior Healthcare Data Analyst - Multiple Positions Data Analyst D Data Analyst Data Analyst Data Analyst- Remote SQL Data Analyst Business/Data Analyst Data and Information Analyst Data Analyst Data Analyst Data Analyst Senior CX Data Analyst Senior Data Management Analyst, Enterprise Data Management, OCDO Vertical Lift Data Exploitation Analyst Data Governance Analyst Business Data Analyst Business Analyst - Data Science & SQL Lead Geophysical Data Analyst Sales Data Analyst Data Analyst Business Analyst/Data Domain Expert Junior Data Analyst - SQL Programmer Data Analyst Business / Data Analyst Business Analyst with Data domain,media Data Analyst Senior Data Analyst Senior Healthcare Data Analyst - Cost and Utilization Analysis Pharmaceutical Customer Data Analyst Data Analyst Senior Data Analyst Program Manager / Business Data Analyst DBA / Data Analyst Analyst - Data Intelligence (US) Data Analyst (Philadelphia, PA) Data & Systems Analyst Business Analyst - Data and Analytics Lead Data Analyst Senior Data Analyst - Client Experience Data Analyst and Report Writer Payment Integrity Data Analyst Lead Data Analyst Data Analyst-(analytics) Pharmaceutical Data Analyst – Analytics Patient Recruitment Data Analyst (ArcGIS) Virology Data Analysts Biochemist Data Analyst Data Governance Analyst Senior Healthcare Data Analyst Healthcare Data Analytics Analyst Senior SR BUSINESS DATA ANALYST PRN AWS Analys/ Data analyst Payment Integrity Data Analyst Job posting in #Philadelphia #ITjobs Sport & Data Analyst Data Analyst Supporting the FBI #20-188 Data Engineer/Reporting Analyst Sr. Data Analyst - Project Manager Data Analyst SAS Programmer Sr. Data Analyst Systems Analyst, Quality Data System Data Visualization Project Manager/ Business Analyst (PM / BA) Stability Data Analyst Business Analyst/Data Analyst Stability Data Analyst Data Analyst Junior Business Intelligence and Data Sciences Analyst Sr Business Analyst (Data Quality) Healthcare Data Analytics Analyst Senior Mid Level Data Analyst / BI Engineer - Looker, Python, Client Facing Technical Business Analyst (Data Warehouse) Data Link Analyst Lead Analyst, Data Transfer, Integration & Quality, Wilmington, DE Technical Business Analyst (Data Warehouse) Certified Tumor Registrar/Data Analyst [CTR and experience required] Data Center Migration PMO Analyst/PMO Lead Data Center Migration PMO Analyst/PMO Lead Data Analyst / Tableau Developer Data Analyst Data Analyst Data Analyst Data Analyst I Data Reporting Analyst Data Analyst Data Analyst Marketing & Data Analyst Data Analyst Data Reporting Analyst Data & Reporting Analyst, Distribution Planning & Operations Data Analyst Epidemiologist - Data Analyst Contract Data Analyst Epidemiology Data Analyst Data Business Solutions Analyst Data Analyst Risk Data Analyst Contract Data Analyst Senior Data Analyst Senior Data Analyst Data Analyst Epidemiology/Data Analyst, San Antonio, TX, US, ID Senior Data Analyst Senior Data Science Analyst Data Analyst ( SAS,SQL) Data Analyst - Top Secret w/ SCI Eligibility Epidemiology/Data Analyst Epidemiology Data Analyst Senior Data Analyst Data Security Analyst Data Security Analyst Data Security Analyst Data Analyst/Engineers Senior Contract Data Analyst Epidemiology Data Analyst IT Data Science Analyst Configuration Data Analyst, (Secret Clearance Required) San Antonio, TX, US ID TECHNICAL DATA ANALYST Senior Contract Data Analyst Configuration Data Analyst, (Secret Clearance Required) San An with Security Clearance Senior Risk Analyst-Data Functional Analyst (CECL Data) Data Analyst with Security Clearance Configuration Data Analyst, San Antonio, TX, US ID#17897 with Security Clearance (REMOTE) Sr. Risk Analyst (IT, IS and/or Data expertise) Sr. Risk Analyst (IT, IS and/or Data expertise) Navy Maintenance Data Systems Analyst Data Analyst Research Data Analyst Data Analyst II Data Analyst Data Analyst Division Data and Financial Analyst Research Data Analyst Data Analyst 3 Data Analyst Data Analyst Junior Data Analyst Data Analyst Data Analyst - VerityStream Data Analyst Senior Data Analyst Business Data Analyst (SQL / Tableau) Data & Business Intelligence Analyst Fleet Optimization Data Analyst (Solar + Storage) Data Analyst Data Steward/Configuration Analyst Administrative Assistant / Data Analyst Supporting the DEA #20-318 Data Manager - Bioinformatics Analyst (Naval Health Center) Data Analyst Data Analyst III Data Analyst Data Privacy Analyst Data Analyst 3 (San Diego or Atlanta, GA) Research Scientist, Structural Biologist - CryoEM Data Analyst Systems Analyst - Data Integration and ETL process Senior Consulting Data Analyst Senior Data Analyst #105009 Research Data Analyst Automotive eCommerce Data Analyst - Remote Sr. Data Analyst Senior Technical Data Analyst Data Governance Analyst Division Data and Financial Analyst Data Analyst III (Healthcare Analytics) Senior Business Data Analyst Data Analyst III (Healthcare Analytics) Data Analyst - VerityStream Automotive eCommerce Data Analyst Data Analyst IV Division Data and Financial Analyst Data Analyst Junior SWRMC Assessments Junior Data Analyst Business Data Analyst III C4I Data Analyst/Engineer Molecular Researcher and Data Analyst Health Data Analyst IV Information Security and Data Privacy Analyst IT DATA ANALYST- Information Technology 7232 Data Engineer (Analyst/Programmer - Career), Information Technology DevOps Systems Analyst - Data Integration Molecular Researcher and Data Analyst Data Analyst - EDSS Sr. Data Governance Analyst Data Manager - Bioinformatics Analyst (Naval Health Center) #104252 Division Data and Financial Analyst Systems Analyst - Data Integration and ETL process Senior Financial Data Analyst Sr. C4I Data Analyst/Engineer Senior Tactical Data Link Systems Analyst Data Analyst I Data Analyst II Data Conversion Analyst Data Analyst - Retail (Entry Level) Data Analyst - Healthcare Fraud Data Analyst Intern Data Analyst BHJOB11946_ SQL Data Analyst Data Science - Analyst/Associate - Security Incident Response Team Game Data Analyst Analyst, Data Intelligence HR Data Analyst II Data Analyst Data Analyst DATA ANALYST Data Science – Analyst/Associate - Security Incident Response Team IGNITE Graduate Development Program - Application Developer / Data Scientist / Business Analyst Data Analyst Data Analyst (HR) Data Analyst Data Analyst (SQL, Tableau) DATA ANALYST TEAM — Data Analyst Data Analyst Data Analyst (Product Analytics) Data Analyst Performance Improvement Data Analyst Junior Data Analyst Data Analyst DALLAS Campus Recruiting 2018 - I&D - Data Analyst Business Data Analyst Analyst, Data & Design Data Analyst Data Quality Analyst Data Analyst Data Analyst Analyst I, Data & Design Data Analyst Client Data Analyst HR Data Analyst II Data Analyst Healthcare Data Analyst IGNITE Graduate Development Program Application Developer / Data Scientist / Business Analyst Data Analyst II Data Analyst Data Analyst System/Data Analyst HR Data Analyst II Data Analyst Data Reporting Analyst Sr Data Integrity Analyst Data System Analyst Data Analyst Research Data Analyst Data Analyst RAPD Risk Platforms & Data - Analyst Business Data Analyst Data Analyst Business Analyst/Data Consultant Data Analyst - Contract Renewals Analyst Supply Chain I Data Management Senior Data Analyst Data Analyst Data Integration Analyst Data Analyst Data Analyst Healthcare Analyst / Healthcare Data Analyst Human Resources data Analyst Business Analyst - Data Protection Data Analyst Data Analyst Data Analytics Senior Analyst Business Data Analyst Client Data Analyst Information Technology Specialist / Data Analyst Data Analyst Data Management Analyst Data Import Analyst Senior Data Analyst SAS Data Analyst III(With SOL & Tableau) NA Data Reporting Analyst SAS Data Analyst Data Analyst II Data Science- Security Analyst Direct Client Requirement - Data Reporting Analyst Data Management Analyst Sr. Business Data Analyst - Enterprise Risk Claims Data Analyst Data Analyst 4 SENIOR APPLICATION PROGRAMMER ANALYST (Data Transformation & Integration) - ITD Data Governance Analyst Data Analyst - SM Reporting Data Analyst (contract to hire) Data Analyst {S02268P} Data Analyst Data Analyst - Marketing Senior Data Quality Analyst Senior Data Analyst Sr. Enterprise BI Data Analyst Accounting/Data Analyst Associate Sr. Business Data Analyst Enterprise Risk Sr. BI Data Engineer and Analyst Data Management Analyst Data Analyst (Python), Dallas, Methods+Mastery (a FleishmanHillard Company) Pricing Data Analyst Data Platform System Analyst Lead (Data Services) Business Analyst/Data Analyst Sr. Data Analyst Data Analyst Data Management Analyst - Dallas, TX/ Tempe, FL Senior Data Analyst Financial Data Analyst Data Conversion Analyst Behavorial Health Data Analyst Data Analyst Lead - EM & Data Senior Data Analyst Sr. Data Analyst - Healthcare Claims Sr. Enterprise BI Data Analyst Data/Business Solutions Analyst - Jr System Analyst(Big Data/Hadoop) Pricing Data Analyst Data Management Analyst Application Vulnerability Governance Lead Data Analyst SAP Data Analyst (Contract) LAWSON LANDMARK DATA EXTRACT ANALYST Business Analytics Analyst II (Data Concierge) Data Science Sr. Analyst Data Analyst -0517 Suv Network Data Analyst Technical Data Analyst Accounting Data Analyst: II (Intermediate) Senior Enterprise Data Management Analyst Data Quality Analyst Data Analyst - IT Administrator Senior Data Analyst Data Analyst Lead - Air/Technical Operations Analyst, Client Data II DATA ENGINEER / DATA ANALYST Jr. Data Warehouse Systems Analyst Data Management Analyst in Plano, TX at Community Hospital Corporation QA Automation Analyst with Big data technology Data Analyst Lead - Commercial Senior Data Analyst - Property Operations Sr Data Management Analyst Senior Data Quality Analyst Lead Data Analyst Data Analyst Lead (Customer and Reservations) Data Analyst - Senior Senior Data Risk Analyst Data/Business Operations Analyst Data Analyst - Sr Data Analyst - Senior Digital S/W Eng Lead Analyst (Big data with SAS and PySpark background) Senior QC Analyst: Data Integrity SME Senior Data Analyst, Internal Audit Analyst/Developer (Data Warehouse) III Data Analyst Senior HR Data Analyst Sr. Data Analyst - Growth & Adoption Data Analyst Data Analyst, Product Insights Senior Data Analyst Data and User Acceptance Test Analyst Data Analyst Data Analyst Data Analyst Data Analyst Data Analyst Marketing Data Analyst Tableau Data Analyst Intern Data Analyst I Data Analyst AI Insights Data Analyst Data Analyst (SQL, Hive) Data Analyst, Autonomy Operations Data Analyst I Data Analyst Data Analyst Data Analyst Data Analyst Senior Data Analyst Studio Finance Engineering Data Analyst with Data Mapping and API Data Analyst Data Analyst Data Analyst Data Analyst Senior Data Analyst - Studio Finance Engineering Data Analyst Apple Media Products (AMP) - Big Data Analyst, Analytics Engineering Data Analyst Data Analyst Business Data Analyst Data Analyst Data Analyst Data Analyst Data Analyst II Data Analyst Data Analyst Finance & Accounting Data Analyst Data Analyst Business Data Analyst Data Analyst Junior Data Analyst Data analyst Data Analyst Financial Data Analyst Sr. Data Scientist/Analyst Data Quality Analyst Data Analyst Intern Data Analyst I (German) Data Analyst Data Analyst Biomedical Data Analyst I - Temporary Data Analyst 2 Supply Chain Data Analyst Research & Data Analyst Lead Advance Data Analyst Data Analyst Maps Evaluation Data Analyst Data Analyst Financial Data Analyst Bioinformatician/Research Data Analyst 1 Data Analyst Data Analyst Data Engineering/Analyst- Apple Cloud Services Data Analyst Technical Data Analyst Data Analyst 1 Data Quality Analyst Data Privacy Analyst/ Program Manager I Data Analyst Data Analyst- German Fluency HR Data Analyst (Workday EIB) Data Analyst lll Bioinformatician-Research Data Analyst 1 Data Analyst Data Analyst/Technical Product Owner Sr. Data Warehouse Analyst Master Data Analyst Market Data Analyst - Global Securities Master (GSM) Technical Business or Data Analyst Senior BI and Data Analyst Sr. Data Analyst Senior Data Analytics Analyst, Revenue Senior Data Analyst Senior Business/Data Analyst - WW Sales Finance Process, Analytics, and Reporting Data Analyst II Advance Data Analyst HSV Materials Customer Support fs) Software Test Engineer - Data Analyst Data Analyst Mentor Data Warehouse Analyst Data and User Acceptance Testing Analyst Senior Data Analyst Data Analyst Data Analyst-Senior Data Analyst Documentation/Data Analyst SQL Data Analyst Data Analyst Tableau/Power BI Business Analyst - MDM, Data Governance Senior Data Analyst (Remote OK) SAP Materials Master Data Analyst - Temp Senior Data Analyst, People Analytics Workday EIB Data Analyst Senior Data Analyst (Product Analytics) Senior Data Analyst Data Analyst - Bilingual English and Italian Senior Business Data Analyst Master Data Management Analyst Sr. HR Data Analyst Lead Data Analyst Data Analyst - Bilingual English and Norwegian Data and User Acceptance Test Analyst Data and User Acceptance Test Analyst Sr Consulting Data Analyst Data Quality Analyst - Spanish Sr. Data Analyst Regulatory Data Analyst Sr. BI Business Analyst/Data Visualization Expert Initial Remote position at San Jose, CA for an year long proect. Senior Data Analyst Sr Data Analyst Bioinformatics Data Analyst Lead Data Analyst Data warehouse Business Systems Analyst Data Analyst - Redwood City via Company Shuttle! SAP Materials Master Data Analyst (Temp) RM - Data Maintenance Analyst Data Analyst with Teradata Exp Data Steward | Analyst Data Analyst (Fluent in German) Data Analyst Junior Sr. Analyst, Data Governance Data Analyst - MPK Senior Market Research Analyst, Data Insights Data Analyst - Bilingual English and Danish Lead Data Analyst Jr. Software Data/Operations Analyst Opportunity MTV Senior Global Data Analyst, People Operations HR Data Analyst/Scientist Data Analyst III German Speaking Data Analyst J Senior Data Analyst Data Warehouse Consultant Advance Data Analyst - HSV Materials Customer Support Data Analyst QA Signal Processing Engineer/Data Analyst Data Analyst - Bilingual English and Indonesian Senior Data Analyst/Data Warehouse Consultant Information Security Data Analyst Strategic Sourcing Data Analyst Sr QC Analyst (Data Reviewer) Data Analyst III Senior Data Analyst/Data Warehouse Consultant Data Analyst - Bilingual English and Finnish Lead Data Analyst (Enterprise Product Master Data Steward) BI Business/Data Analyst Lead with hands on SQL Sr. BI Data Analyst/Developer (SQL, Python, Power BI) Sr Data Analyst/Data Warehouse consultant with Financial Healthcare systems Manager : Marketing Ops and Data Analyst Senior Risk Data Analyst SAP Sr Master Data Functional Analyst CCPA Data Analyst Senior Quantitative Data Analyst SAP MDG Business Analyst , Master Data Management Data Analyst-IT II Reconciliation Data Operations Analyst Senior Claims Data Analyst Business Data Analyst Data Quality Analyst Ad Integrity Data Analyst-ATX Junior Data Analyst Junior Data Analyst Data Analyst - People Analytics Data Analyst, Trust & Safety Data Analyst I Data Analyst Data Analyst (Remote) EDI Data Analyst Data Analyst Business Intelligence and Data Analyst Data Analyst Data Analyst Junior Data Analyst Data Reporting Analyst, BI Data Analyst Data & Reporting Analyst Junior Data Analyst Data Strategy Analyst Live Operations Data Analyst Data Analyst Business Intelligence Analyst / Data Analyst Data Analyst Data Analyst, Law Enforcement Response Team Data Lineage Analyst Data Analyst II Data Analyst II Data Analyst V 9-1-1 Data Analyst Data Migration Analyst Technical Data Analyst Junior Data Analyst Data Quality Analyst TSDS Data QA Analyst (Data Analyst IV) Data Analyst MDM/Master Data Analyst ( Tibco EBX ) Senior Cloud Data Analyst Data Analyst/Data Entry/Federal Data Entry/Data Specialist Data Analyst III Data Analyst II Data Analyst / Data Management /ETL / Talend /Alteryx Celonis Data Engineer & Analyst Data Analyst Senior Data Analyst Senior Claims Data Analyst Associate SalesForce.com Data Steward & Analyst Lead Data Analyst Financial Controller / Data Analyst / Spreadsheet Superstar Senior Data Analyst Managed Care Data Analyst Technical Data Analyst Strategic Data Analyst III - Strategic Planning Divsion Junior Data Warehouse Analyst Data Warehouse Analyst Data Analyst - Public Sector Data Analyst, Lead with Security Clearance System/Data Analyst Data Governance Analyst/Lead Data Warehouse Analyst Data Analyst III Data Analyst III Senior Strategy Data Analyst BI Data Analyst and Specialist Data Analyst IV Clinical Data Management - Technical Analyst Splunk Data Analyst Data Analyst III Data Analyst Junior 20-63 Flood Planning Data Analyst (Data Analyst III) Operations Research Analyst (Data Scientist) Leading Data-Driven Change -- Data Industry Analyst SQL Data and Integration Analyst Industry Analyst -- Data Science and Strategy Senior Data Analyst Simulation Data Analyst Data Analyst/Program Manager Data Analyst III Senior Data Analyst / Senior BI and Insights Analyst Associate, Strategy and Operations (Data Analyst IV) 19-84R Team Lead (Data Analyst IV) Data Lineage Analyst DPS - FIN - CAPPS Financial Senior Data Analyst Data Analyst Data Reporting Analyst USGAAP Financial and Reference Data Control Analyst Analyst Business/Data Analyst Junior Data Analyst Business/Data Analyst Data Analyst Assistant Vice President, Anti Financial Crime Data Quality Analyst - {KP4457495} Senior Data Analyst Data Analyst Assistant Vice President, Anti Financial Crime Data Quality Analyst Data Analyst Junior CDHP - Data Analyst Team Lead Power BI Data Analyst Sr. Data Analyst - Guidewire Data Hub Senior Data Analyst- Guidewire Data Hub Guidewire Data Analyst System Analyst (Data) - PL/SQl Server ACA - Data Analyst Data Analyst, Military Forecasting Human Performance Data Analyst Medical Data Analyst Data Analyst Data Analyst, Military Forecasting Data Reporting Analyst Data Analyst Data Analyst Assistant Systems Engineer - Data Analyst (Level 3) Sr Data Analyst Data/Sales Analyst Data/Financial Analyst Data Analyst - Intelligent Automation (Risk Data Analyst) Systems Analyst - Data Conversion Business Analyst with Data Governance ,IDQ exp Business Analyst with Data Governance ,IDQ exp (Data Risk Analyst: Data Modeler) + Global Process Data Analyst BI Data Analyst / Specialist Data Analyst Data Analyst Data Analyst-Quality Improvement Services Data Analyst Fraud Data Analyst Software Engineer - Data Analyst Data Analyst Business Data Analyst Business Analyst / Data Scientist Manager Junior Data Analyst Program Data Analyst Business Data Analyst - I Planning Analyst - Data Resource Center Data Analyst Data Analyst Data Analyst II(Claims,SQL,Billing,Healthcare) Data Analyst Data Analyst II(Claims,SQL,Billing,Healthcare) Financial Data Analyst Data Validation Analyst Data Analyst JPSC-7975 - Data Analyst Lead- Columbus, OH (LOCAL CANDIDATES ONLY) Data Statistics Analyst PFK - Care Coordination Data Analyst Junior Analyst: Data Analytics Information Security and Data Protection Analyst Technical Data Analyst Data Scientist/Programmer, Sr. Analyst - Abbott Nutrition - Columbus, OH Accounting Data Analyst / Implementation Specialist Information Security and Data Protection Analyst Data Analyst III (Population Health , Pharmacy, SQL) Data Analyst III (Population Health , Pharmacy, SQL) Data Statistics Analyst PFK Care Coordination Software Engineer - Senior Data Analyst Sr Data Analyst Analytic Consultant 4 - Data Analyst Operations Data Analyst Data Business Analyst Federal - Data Analyst Data Analyst Marketing Data Analyst Data Analyst I (Strong Salesforce.com) Data Analyst I Data Analyst Data Analyst Data Analyst Financial Data Analyst Data Analyst Data Analyst Data Analyst Data Science Analyst Data Analyst Data Analyst Business Data Analyst Data Analyst Data Business Analyst Junior Data Analyst Data Analyst Data Analyst Data Management Analyst Financial Data Analyst - Full Time Data analyst Data Analyst Senior CX Data Analyst Data Engineer/Analyst Federal - Data Analyst Quality Data Analyst Data Visualization Analyst Senior Data Analyst HR Data Analyst Data Analyst/Business Analyst Data Analyst Data Analyst BI Data Analyst Data Analyst Enterprise Data Office Analyst IV Data Analyst/ Python with Banking Experience Data Analyst Systems/Data Analyst Data Analyst (Real Time Data Consultant Needed) Data Visualization Analyst 57072 - Market data Analyst - 100 % remote Application Programmer V/ Database Developer/ Data Analyst Data Analyst Data Analyst Data Standardization Analyst(s) DATA MGMT ANALYST Data Quality Analyst, Financial Services Data Analyst II Data Governance Analyst Data Integration Analyst Data Analyst with Banking Domain Financial Data Analyst - Full Time Data Analyst - Metadata Analyst Business Data Analyst Senior Data Analyst Senior Business Analyst / Data Analyst Data Visualization Analyst - N. Application Programmer V/ Senior Data Analyst Trust Application Data Analyst Data Analyst Data Analyst 127909 Item Data Maintenance Analyst Marketing Data Analyst - Remote Technical Data Analyst Data Analyst Data Analyst Junior Senior Data Analyst Business + Data Analyst Data Stewardship Senior Analyst Data Analyst [Administrative] Analyst, Product Content Data Quality QA Analyst Big Data/ETL - Charlotte, NC (W2 ONLY) Data Stewardship Senior Analyst Big data analyst Reporting /Data Analyst Application Architect V/ Data Analyst Sr. Data Technology Analyst Data Optimization Analyst (Position In Hickory, NC) Technology Control Analyst - AVP (Chief Data Office) DIGITAL DATA/INSIGHTS ANALYST Big data analyst Data Mgmt Analyst w/Traded Products Data Governance Business Information Analyst Data Analyst with Security Clearance Data Analyst, Data Activation QA Analyst with MongoDB / Big Data Sr. Analyst, Product Content Data Quality Data Visualization Analyst Digital Marketing & ECommerce Data Analyst Senior Data Analyst Data Analyst Senior Data Analyst Data Analyst Data Analyst Data Analyst Sr. Data Analyst (Marketing Department) Immediate Need For Data Analyst Senior Analyst, Data & Analytics Data Analyst/Engineer Mid-Level Data Analyst Data Analyst Healthcare Data Analyst Data Analyst Product Data Analyst Data Analyst Data Analyst Temporary Part Time Data Analyst (Remote - North & South America) Data Analyst (Finance) Data Analyst User Acquisition Data Analyst Data Analyst Data Analyst, Remote East Coast Data Analyst Data Analyst Chemist - Quality System Contractor DATA Analyst-Remote Data Analyst Operations Data Analyst Product Data Analyst Data Scientist/Analyst - Wilbur Labs Data Analyst Marketing Data Analyst Data Analyst Data and Reporting Analyst Business Data Analyst Research Data Analyst Data Analyst Data Analyst Business Intelligence Data Modeler/Analyst Data Studio Analyst Data Analyst Product Data Analyst Data Analyst Clinical Data Analyst Data Analyst Data Analyst Data Analyst Data Systems Analyst Data Analyst Senior Data Analyst Data Analyst (College & Foundation Reporting) Senior Data Analyst Research Data Analyst Data Analyst - Health Operations Data Analyst Data Analyst Data Analyst, Data & Analytics (Advanced Analytics) Manager (Multiple Positions) Data Analyst Business Data Analyst - Senior/Director - Work from Remote Market Data Services Analyst Financial Data Analyst, FP&A and Accounting Loan Data Analyst Data and Policy Analyst IV DATA Analyst-Remote Business Data Analyst Data Analyst, Growth Data Analyst Data Analyst Data Analyst Senior Data Analyst, Member Services Data Analyst Senior Data Analyst Junior Data Analyst Business Data Analyst Sr. Data Analyst, Twitter Service Tech Data Analyst Data Analyst Data Analyst Senior Data Analyst Web Data Analyst Data Analyst (APPZ-DAHY) Data Analyst, Data & Analytics (Advanced Analytics) Manager (Multiple Positions) Data Scientist Analyst Finance Data Analyst Business Data Analyst Data Quality Analyst Data Analyst - San Francisco CA / VA - Fulltime Data Analyst Data Analyst HR Data Analyst Scientific Data Manager and Analyst Senior Data Analyst - Finance & Platform Analytics Data Analyst Business Data Analyst Product Compliance Data Analyst Data and Policy Analyst - Statistical Programmer Principal Data Analyst Data Analyst Data Analyst Master Data Analyst – SAP MDG Platform Data Systems Analyst Data Analyst CSV Data Validation Analyst Senior Data and Fraud Analyst Data and Reporting Analyst Upstart - Data Analyst Position for Lead Data Analyst (Teradata, Oracle, Hadoop) Data Analyst, Transaction Monitoring Fleet Optimization Data Analyst (Solar + Storage) Big Data Analyst Business Data Analyst Data Analyst Data Analyst Senior Lead Data Analytics Analyst Data Analyst w/ Tealium - Remote Work Data Analyst Business Data Analyst Excel, Tableau - 100% Remote - Phoenix, Minneapolis, or Des Moines Business Data Analyst - Senior/Director : 20 Senior Data Analyst Senior Data Analyst - User Growth Senior Data Analyst Senior Compliance Data Analyst, Cash App Data Analyst Procurement Data Analyst Master Data Management (MDM) - Business Systems Analyst Sr. Data Analyst - Risk Analysis Lead Data Analyst (Product) Lead Data Analyst Salesforce Administrator and Data Analyst Alerts Business/Data Analyst Senior Business Data Analyst BI Developer - Data Analyst Biological Data Analyst - Remote Data Systems Analyst (7199U Sr. Business and Data Analyst Business Data Analyst - Senior/Director Lead Data Analyst, BI/Visualizations Lead Data Analyst, BI/Visualizations Epic Clarity Data Analyst Senior Data Analyst Senior Health Data Analyst Business Data Analyst - Senior/Director Sales Finance Data Analyst Senior Business Technology Analyst - MDM / Data Management (San Francisco area, CA) Data Integrity Analyst Business data analyst - SFO , CA Business Data Analyst WITH Data Standards and Migration Senior Data Analyst BI Data Analyst / Business Analyst Senior Product Data Analyst Senior Business Data Analyst, Growth Strategy Senior Product Data Analyst Data Analyst Junior Job Opportunity with Cognizant for Data Analyst at SFO ,CA (NO OPT & NO CPT) Senior Data Analyst Sr Data Analyst Senior Business and Data Analyst Data Analyst - Int Senior Financial Systems Analyst / Business Intelligence Data Modeler Enrollment & Student Services Data & Systems Operations Analyst Lead Data Analyst, Product Biological Data Analyst BI Data Analyst - Tibco & Spotfire Data Analyst - Life Sciences Sr. Data Analyst( Healthcare) Senior Data Analyst - Health Care Innovation Technical Business Analyst with SQL Data Specialist Lead Data Engineer (Capital Markets Business Analyst 2) Data and Policy Analyst - Writer/Coordinator Master Data Management (MDM) - Business Systems Analyst Sr. BI Data Analyst (with Spotfire Exp & Bio/Pharma/Clinical Industry)-South San Francisco, California (W2) Senior Business Technology Analyst - MDM / Data Management Senior SAS Data Analyst Lead Data Analyst Cybersecurity Analyst (Payment Card Industry Data Security Standards (PCI-DSS)) Business Analyst with Data Loss Prevention (DLP) Concepts Sr. Analyst, Financial Data and Reporting Lead Data Analyst, Product Business Analyst II (Scientific Business Analyst PreClinical Data) Sr. Process Analyst - Data Privacy Project Data Analyst-IT II Senior Financial Systems Analyst / Business Intelligence Data Modeler Sr. Data Analysts (Banking Domain) Data Analyst Healthcare Data Analyst Data Analyst Data Analyst, Predictive Analytics Healthcare Data Analyst Data Analyst Data Analyst Junior Data Analyst COVID-19 Data Analyst Business Data Analyst Junior Data Analyst Python IT Data Analyst (Power BI) Data Analyst Local Data Analyst - Clinical Quality Data Analyst Senior Data Analyst Ending The HIV Epidemic Data Analyst Senior Data Analyst Data Analyst Junior Sr. Healthcare Data Analyst Sr Data Analyst II Operations/Quality Data Analyst Sr. IT Data Analyst Technical Data Analyst Senior Product Data Analyst Business Data Analyst Data Analyst Data Analyst IT Data Analyst Data Analyst I Business Data Analyst - Marketing Business/Data Analyst Demand Response (DR) and Customer Success (CSM) BI and Data Analyst Data Analyst Data Development Analyst~ Data Analyst Data Analyst II Junior Data Analyst Junior Data Analyst Data Analyst Data Analyst II, QA Data Analyst - Revenue Assurance Data Standards Analyst DATA ANALYST Data Analyst Business Data Analyst Data Analyst Data Technician/Analyst/Specialist Senior Data Analyst Security Data Analyst -CTJ Engines Configuration and Data Management Analyst Data Standards Analyst in Seattle, Washington | Careers at Fred Hutchinson Cancer Research Center Data Analyst Bilingual Senior Data Analyst (Japanese / English) Security Data Analyst Data Analyst/Developer Information Security Analyst - Data Loss Prevention Data Analyst/PM (German) Partner Training Data Analyst Senior Data Analyst and Applied Scientist Senior Data Analyst : 20 Security Data Analyst -CTJ with Security Clearance Data Analyst Junior Sr. Data Analyst Configuration/Data Management Analyst Healthcare Business and Data Analyst Big Data Quality Analyst/Hadoop Testing analyst/ Hadoop Tester Product Marketing & Business/Data Analyst Sr MDM Data Analyst (NOT A DEVELOPER) Senior Data Analyst, Tax Technology (Level 6) BI/Data Analyst- Configuration Lead Active Directory Data Migration Analyst Sr. Research Data Analyst Configuration and Data Management Analyst Sr. Business/Data Analyst Senior Data Analyst, Tax Technology Configuration/Data Management Analyst III Student Data Analyst Junior Data Analyst Data Analyst Data Analyst Junior Data Quality Analyst SAP DATA ANALYST SAP Data Analyst Data Analyst - Denver, CO Inside Sales Data Analyst Data Analyst Senior Data Analyst, Sales Compensation Data Analyst Data Analyst Data Analyst Data Analyst Data Analyst Data Analyst Reporting / Data Analyst Data Support Analyst Marketing Data Analyst Data Analyst Data Analyst Data Analyst Junior Data Analyst Vendor Master Data Associate Analyst Systems & Data Analyst Data Analyst...........................! HealthCare Data Analyst - SQL and Python BI/Data Analyst Data Analyst Business Data Analyst Data Analyst Soapbox Data Analyst Senior Data Quality Analyst Data Analyst DMV/DC Data Services Analyst - Analyst II Data Analyst/Data engineer/Data Management Data Experience Analyst Data Analyst Procurement Data Analyst Mutual Fund Data Analyst (JR1013810) - Contract Data Science Analyst Data Analyst Data Analyst GAO Analyst (Data Analysis) IT Data Analyst Lead Geophysical Data Analyst Data Analyst Data Analyst- Growth Operations Associate Business Analyst, Data Provisioning Data Analyst Technical Lead- I Data Analyst Financial Data Analyst Data Analyst DMV/DC Data Services Analyst – Analyst II Data Security Analyst Marketing Data Analyst Data Analyst Data Analyst (W2 Contract Position) SQL Data Analyst / ETL Developer {\"title\":\"GAO Analyst (Data Analysis)\",\"extended\":{\"opening_type\":null}} Lead HR & Data Governance Analyst Data Base Programmer/Analyst Data Analyst 3, Customer Experience Data Base Programmer/Analyst Sr. Data Analyst Actuarial Data & Visualization Analyst Technical Data Analyst - X Data Analytics, Senior Analyst Financial Data Analyst MDG Functional Data Analyst-Greenwood Village, CO Data Analyst Junior Data Security Analyst Data Analyst - Aurora, IL Data Security Analyst Sr Data Analyst Data Analyst - Junior Data Base Programmer/Analyst Senior Business/Data Analyst Application Data Analyst Data Analyst-(Remote- All across US) Sr Data Analyst Business Data Analyst III - RQS 2018 Configuration & Data Management Analyst Data Analyst 3, Customer Experience - Centennial Data Base Programmer/Analyst Senior Health Data Analyst (SAS) ColdFusion Development Data Analyst -Remote Senior Contract Data Analyst Senior Contract Data Analyst RQS - IHHA - 201900004460 -1s Data Security Analyst Data Security Analyst fr Business Systems Analyst-Data Data Analyst-(Remote- All across Data Security Analyst, Sr Data Analyst Supporting the DEA #20-242 Technical Business Analyst (SQL, Data analytics, Informatica) Marketing/Communications - Data Analyst-Marketing RQS - IHHA - 201900004460 -1q Data Security Analyst Senior Data Analyst (Corporate Audit) Technical Business Analyst (SQL, Data analytics, ETL) Data Analyst 3, Customer Experience Senior Quality Data Analyst'"
      ]
     },
     "execution_count": 17,
     "metadata": {},
     "output_type": "execute_result"
    }
   ],
   "source": [
    "job_title_str"
   ]
  },
  {
   "cell_type": "code",
   "execution_count": 18,
   "metadata": {},
   "outputs": [],
   "source": [
    "job_title_str=job_title_str.replace(\",\",\"\")\n",
    "job_title_str=job_title_str.replace(\"  \",\"\")\n",
    "job_title_str=job_title_str.replace(\"(\",\"\")\n",
    "job_title_str=job_title_str.replace(\")\",\"\")"
   ]
  },
  {
   "cell_type": "code",
   "execution_count": 19,
   "metadata": {},
   "outputs": [],
   "source": [
    "#tokenizing every word ie. from the string we created we are breaking the string word by word \n",
    "# for eg Data Analyst, Center on Immigration and Justice will be tokenized into\n",
    "#data, analyst,\"\" ,center, on, immigration ,and, justice\n",
    "\n",
    "import nltk\n",
    "tokens = nltk.word_tokenize(job_title_str)\n",
    "tokens=[x.lower() for x in tokens] #converting all the tokenized word into lowercase"
   ]
  },
  {
   "cell_type": "code",
   "execution_count": 20,
   "metadata": {},
   "outputs": [],
   "source": [
    "from nltk.probability import FreqDist\n",
    "fdist = FreqDist(tokens) #it returns a dict with key as the words and the values as there count in the string\n",
    "#tops = fdist.most_common(100)"
   ]
  },
  {
   "cell_type": "code",
   "execution_count": 21,
   "metadata": {},
   "outputs": [],
   "source": [
    "#checking if the key in fdist which is the word if less than 2 we will simply discard that \n",
    "#it will remove all the words with less than 2 and also all the spl characters\n",
    "arr1=[]\n",
    "for key in fdist:\n",
    "    if len(key)<2:\n",
    "        arr1.append(key)"
   ]
  },
  {
   "cell_type": "code",
   "execution_count": 22,
   "metadata": {},
   "outputs": [],
   "source": [
    "for key in arr1:\n",
    "    del fdist[key]"
   ]
  },
  {
   "cell_type": "code",
   "execution_count": 23,
   "metadata": {},
   "outputs": [
    {
     "name": "stdout",
     "output_type": "stream",
     "text": [
      "[('data', 2230),\n",
      " ('analyst', 2151),\n",
      " ('senior', 280),\n",
      " ('business', 163),\n",
      " ('and', 106),\n",
      " ('sr.', 86),\n",
      " ('analytics', 77),\n",
      " ('junior', 59),\n",
      " ('lead', 55),\n",
      " ('management', 55),\n",
      " ('healthcare', 54),\n",
      " ('quality', 53),\n",
      " ('reporting', 52),\n",
      " ('with', 50),\n",
      " ('financial', 49),\n",
      " ('governance', 45),\n",
      " ('ii', 44),\n",
      " ('sr', 44),\n",
      " ('operations', 42),\n",
      " ('security', 39),\n",
      " ('systems', 36),\n",
      " ('iii', 36),\n",
      " ('product', 33),\n",
      " ('marketing', 33),\n",
      " ('warehouse', 32),\n",
      " ('sql', 31),\n",
      " ('technical', 28),\n",
      " ('bi', 28),\n",
      " ('science', 27),\n",
      " ('manager', 26),\n",
      " ('intelligence', 25),\n",
      " ('research', 24),\n",
      " ('master', 24),\n",
      " ('clinical', 21),\n",
      " ('remote', 20),\n",
      " ('it', 20),\n",
      " ('services', 19),\n",
      " ('specialist', 19),\n",
      " ('developer', 18),\n",
      " ('big', 18),\n",
      " ('analyst/data', 18),\n",
      " ('risk', 18),\n",
      " ('contract', 17),\n",
      " ('enterprise', 17),\n",
      " ('clearance', 16),\n",
      " ('analyst-', 16),\n",
      " ('center', 15),\n",
      " ('health', 15),\n",
      " ('level', 15),\n",
      " ('data/reporting', 15),\n",
      " ('information', 15),\n",
      " ('sap', 15),\n",
      " ('business/data', 14),\n",
      " ('python', 14),\n",
      " ('associate', 14),\n",
      " ('engineer', 14),\n",
      " ('hr', 14),\n",
      " ('customer', 13),\n",
      " ('entry', 13),\n",
      " ('or', 13),\n",
      " ('technology', 13),\n",
      " ('qa', 13),\n",
      " ('system', 13),\n",
      " ('insights', 12),\n",
      " ('scientist', 12),\n",
      " ('sas', 12),\n",
      " ('experience', 12),\n",
      " ('program', 11),\n",
      " ('programmer', 11),\n",
      " ('finance', 11),\n",
      " ('jr.', 10),\n",
      " ('market', 10),\n",
      " ('solutions', 10),\n",
      " ('strategy', 10),\n",
      " ('sales', 10),\n",
      " ('iv', 10),\n",
      " ('san', 10),\n",
      " ('global', 9),\n",
      " ('integrity', 9),\n",
      " ('service', 9),\n",
      " ('for', 9),\n",
      " ('client', 9),\n",
      " ('in', 9),\n",
      " ('consultant', 9),\n",
      " ('integration', 9),\n",
      " ('application', 9),\n",
      " ('...', 9),\n",
      " ('programmer/analyst', 8),\n",
      " ('office', 8),\n",
      " ('of', 8),\n",
      " ('the', 8),\n",
      " ('principal', 8),\n",
      " ('performance', 8),\n",
      " ('care', 8),\n",
      " ('ny', 8),\n",
      " ('etl', 8),\n",
      " ('tx', 8),\n",
      " ('tableau', 8),\n",
      " ('migration', 8),\n",
      " ('configuration', 8)]\n"
     ]
    }
   ],
   "source": [
    "import pprint\n",
    "tops = fdist.most_common(100)\n",
    "pprint.pprint(tops) #seeing the top 100 most common words "
   ]
  },
  {
   "cell_type": "code",
   "execution_count": 24,
   "metadata": {},
   "outputs": [
    {
     "data": {
      "text/plain": [
       "([0, 1, 2, 3, 4, 5, 6, 7, 8, 9], <a list of 10 Text xticklabel objects>)"
      ]
     },
     "execution_count": 24,
     "metadata": {},
     "output_type": "execute_result"
    },
    {
     "data": {
      "image/png": "[encoded data removed]",
      "text/plain": [
       "<Figure size 432x288 with 1 Axes>"
      ]
     },
     "metadata": {
      "needs_background": "light"
     },
     "output_type": "display_data"
    }
   ],
   "source": [
    "cnt=[]\n",
    "idex=[]\n",
    "top10 = tops[0:10]\n",
    "for i in range(len(top10)):\n",
    "    cnt.append(top10[i][1])\n",
    "    idex.append(top10[i][0])\n",
    "plt.bar(x=idex, height = cnt)\n",
    "plt.xticks(rotation = 90)"
   ]
  },
  {
   "cell_type": "markdown",
   "metadata": {},
   "source": [
    "**Data Analyst III means a principal analyst**\n",
    "\n",
    "**Data Analyst II means senior level**\n",
    "\n",
    "**Data Analyst I means entry level**"
   ]
  },
  {
   "cell_type": "code",
   "execution_count": 25,
   "metadata": {},
   "outputs": [],
   "source": [
    "#we will serach for these words and the categories the job title based on the level \n",
    "import re\n",
    "principal_level = re.compile(r'lead|principal|iii|iv',re.I)\n",
    "senior_level = re.compile(r'senior|sr.|sr|ii',re.I)\n",
    "junior_level = re.compile(r'junior|jr|jr.|entry|i',re.I)"
   ]
  },
  {
   "cell_type": "code",
   "execution_count": 26,
   "metadata": {},
   "outputs": [],
   "source": [
    "#https://www.kaggle.com/wewefo/data-job-analysis-visualization-using-nlp-rege\n",
    "\n",
    "def job_title(row):\n",
    "    \"\"\"\n",
    "    This function will categories the job title based on its level, this is done by using regex pattern matching\n",
    "    \"\"\"\n",
    "    if re.match(principal_level,row['Job Title']):\n",
    "        return 'Lead'\n",
    "    if re.match(senior_level,row['Job Title']):\n",
    "        return 'Senior'\n",
    "    if re.match(junior_level,row['Job Title']):\n",
    "        return 'Junior'\n",
    "    else:\n",
    "        return \"N/A\"\n",
    "    \n",
    "da['Job Level']=da.apply(job_title,axis=1)"
   ]
  },
  {
   "cell_type": "code",
   "execution_count": 27,
   "metadata": {},
   "outputs": [
    {
     "data": {
      "text/plain": [
       "N/A       1766\n",
       "Senior     373\n",
       "Junior      75\n",
       "Lead        39\n",
       "Name: Job Level, dtype: int64"
      ]
     },
     "execution_count": 27,
     "metadata": {},
     "output_type": "execute_result"
    }
   ],
   "source": [
    "da[\"Job Level\"].value_counts()"
   ]
  },
  {
   "cell_type": "code",
   "execution_count": 28,
   "metadata": {},
   "outputs": [
    {
     "data": {
      "text/plain": [
       "<matplotlib.axes._subplots.AxesSubplot at 0x221b6f6ca48>"
      ]
     },
     "execution_count": 28,
     "metadata": {},
     "output_type": "execute_result"
    },
    {
     "data": {
      "image/png": "[encoded data removed]",
      "text/plain": [
       "<Figure size 432x288 with 1 Axes>"
      ]
     },
     "metadata": {
      "needs_background": "light"
     },
     "output_type": "display_data"
    }
   ],
   "source": [
    "sns.countplot(\"Job Level\", data = da)"
   ]
  },
  {
   "cell_type": "markdown",
   "metadata": {},
   "source": [
    "**Most of the job-title havent mentioned about the experience level required, which can be problemtic for the person applying for the job**"
   ]
  },
  {
   "cell_type": "code",
   "execution_count": 29,
   "metadata": {},
   "outputs": [
    {
     "data": {
      "text/html": [
       "<div>\n",
       "<style scoped>\n",
       "    .dataframe tbody tr th:only-of-type {\n",
       "        vertical-align: middle;\n",
       "    }\n",
       "\n",
       "    .dataframe tbody tr th {\n",
       "        vertical-align: top;\n",
       "    }\n",
       "\n",
       "    .dataframe thead th {\n",
       "        text-align: right;\n",
       "    }\n",
       "</style>\n",
       "<table border=\"1\" class=\"dataframe\">\n",
       "  <thead>\n",
       "    <tr style=\"text-align: right;\">\n",
       "      <th></th>\n",
       "      <th>Job Title</th>\n",
       "      <th>Salary Estimate</th>\n",
       "      <th>Job Description</th>\n",
       "      <th>Rating</th>\n",
       "      <th>Company Name</th>\n",
       "      <th>Location</th>\n",
       "      <th>Headquarters</th>\n",
       "      <th>Size</th>\n",
       "      <th>Founded</th>\n",
       "      <th>Type of ownership</th>\n",
       "      <th>Industry</th>\n",
       "      <th>Sector</th>\n",
       "      <th>Revenue</th>\n",
       "      <th>Easy Apply</th>\n",
       "      <th>Job Level</th>\n",
       "    </tr>\n",
       "  </thead>\n",
       "  <tbody>\n",
       "    <tr>\n",
       "      <th>0</th>\n",
       "      <td>Data Analyst, Center on Immigration and Justic...</td>\n",
       "      <td>$37K-$66K (Glassdoor est.)</td>\n",
       "      <td>Are you eager to roll up your sleeves and harn...</td>\n",
       "      <td>3.2</td>\n",
       "      <td>Vera Institute of Justice\\n3.2</td>\n",
       "      <td>New York, NY</td>\n",
       "      <td>New York, NY</td>\n",
       "      <td>201 to 500 employees</td>\n",
       "      <td>1961</td>\n",
       "      <td>Nonprofit Organization</td>\n",
       "      <td>Social Assistance</td>\n",
       "      <td>Non-Profit</td>\n",
       "      <td>$100 to $500 million (USD)</td>\n",
       "      <td>True</td>\n",
       "      <td>N/A</td>\n",
       "    </tr>\n",
       "    <tr>\n",
       "      <th>1</th>\n",
       "      <td>Quality Data Analyst</td>\n",
       "      <td>$37K-$66K (Glassdoor est.)</td>\n",
       "      <td>Overview\\n\\nProvides analytical and technical ...</td>\n",
       "      <td>3.8</td>\n",
       "      <td>Visiting Nurse Service of New York\\n3.8</td>\n",
       "      <td>New York, NY</td>\n",
       "      <td>New York, NY</td>\n",
       "      <td>10000+ employees</td>\n",
       "      <td>1893</td>\n",
       "      <td>Nonprofit Organization</td>\n",
       "      <td>Health Care Services &amp; Hospitals</td>\n",
       "      <td>Health Care</td>\n",
       "      <td>$2 to $5 billion (USD)</td>\n",
       "      <td>False</td>\n",
       "      <td>N/A</td>\n",
       "    </tr>\n",
       "    <tr>\n",
       "      <th>2</th>\n",
       "      <td>Senior Data Analyst, Insights &amp; Analytics Team...</td>\n",
       "      <td>$37K-$66K (Glassdoor est.)</td>\n",
       "      <td>We’re looking for a Senior Data Analyst who ha...</td>\n",
       "      <td>3.4</td>\n",
       "      <td>Squarespace\\n3.4</td>\n",
       "      <td>New York, NY</td>\n",
       "      <td>New York, NY</td>\n",
       "      <td>1001 to 5000 employees</td>\n",
       "      <td>2003</td>\n",
       "      <td>Company - Private</td>\n",
       "      <td>Internet</td>\n",
       "      <td>Information Technology</td>\n",
       "      <td>Unknown / Non-Applicable</td>\n",
       "      <td>False</td>\n",
       "      <td>Senior</td>\n",
       "    </tr>\n",
       "    <tr>\n",
       "      <th>3</th>\n",
       "      <td>Data Analyst</td>\n",
       "      <td>$37K-$66K (Glassdoor est.)</td>\n",
       "      <td>Requisition NumberRR-0001939\\nRemote:Yes\\nWe c...</td>\n",
       "      <td>4.1</td>\n",
       "      <td>Celerity\\n4.1</td>\n",
       "      <td>New York, NY</td>\n",
       "      <td>McLean, VA</td>\n",
       "      <td>201 to 500 employees</td>\n",
       "      <td>2002</td>\n",
       "      <td>Subsidiary or Business Segment</td>\n",
       "      <td>IT Services</td>\n",
       "      <td>Information Technology</td>\n",
       "      <td>$50 to $100 million (USD)</td>\n",
       "      <td>False</td>\n",
       "      <td>N/A</td>\n",
       "    </tr>\n",
       "    <tr>\n",
       "      <th>4</th>\n",
       "      <td>Reporting Data Analyst</td>\n",
       "      <td>$37K-$66K (Glassdoor est.)</td>\n",
       "      <td>ABOUT FANDUEL GROUP\\n\\nFanDuel Group is a worl...</td>\n",
       "      <td>3.9</td>\n",
       "      <td>FanDuel\\n3.9</td>\n",
       "      <td>New York, NY</td>\n",
       "      <td>New York, NY</td>\n",
       "      <td>501 to 1000 employees</td>\n",
       "      <td>2009</td>\n",
       "      <td>Company - Private</td>\n",
       "      <td>Sports &amp; Recreation</td>\n",
       "      <td>Arts, Entertainment &amp; Recreation</td>\n",
       "      <td>$100 to $500 million (USD)</td>\n",
       "      <td>True</td>\n",
       "      <td>N/A</td>\n",
       "    </tr>\n",
       "  </tbody>\n",
       "</table>\n",
       "</div>"
      ],
      "text/plain": [
       "                                           Job Title  \\\n",
       "0  Data Analyst, Center on Immigration and Justic...   \n",
       "1                               Quality Data Analyst   \n",
       "2  Senior Data Analyst, Insights & Analytics Team...   \n",
       "3                                       Data Analyst   \n",
       "4                             Reporting Data Analyst   \n",
       "\n",
       "              Salary Estimate  \\\n",
       "0  $37K-$66K (Glassdoor est.)   \n",
       "1  $37K-$66K (Glassdoor est.)   \n",
       "2  $37K-$66K (Glassdoor est.)   \n",
       "3  $37K-$66K (Glassdoor est.)   \n",
       "4  $37K-$66K (Glassdoor est.)   \n",
       "\n",
       "                                     Job Description  Rating  \\\n",
       "0  Are you eager to roll up your sleeves and harn...     3.2   \n",
       "1  Overview\\n\\nProvides analytical and technical ...     3.8   \n",
       "2  We’re looking for a Senior Data Analyst who ha...     3.4   \n",
       "3  Requisition NumberRR-0001939\\nRemote:Yes\\nWe c...     4.1   \n",
       "4  ABOUT FANDUEL GROUP\\n\\nFanDuel Group is a worl...     3.9   \n",
       "\n",
       "                              Company Name      Location  Headquarters  \\\n",
       "0           Vera Institute of Justice\\n3.2  New York, NY  New York, NY   \n",
       "1  Visiting Nurse Service of New York\\n3.8  New York, NY  New York, NY   \n",
       "2                         Squarespace\\n3.4  New York, NY  New York, NY   \n",
       "3                            Celerity\\n4.1  New York, NY    McLean, VA   \n",
       "4                             FanDuel\\n3.9  New York, NY  New York, NY   \n",
       "\n",
       "                     Size  Founded               Type of ownership  \\\n",
       "0    201 to 500 employees     1961          Nonprofit Organization   \n",
       "1        10000+ employees     1893          Nonprofit Organization   \n",
       "2  1001 to 5000 employees     2003               Company - Private   \n",
       "3    201 to 500 employees     2002  Subsidiary or Business Segment   \n",
       "4   501 to 1000 employees     2009               Company - Private   \n",
       "\n",
       "                           Industry                            Sector  \\\n",
       "0                 Social Assistance                        Non-Profit   \n",
       "1  Health Care Services & Hospitals                       Health Care   \n",
       "2                          Internet            Information Technology   \n",
       "3                       IT Services            Information Technology   \n",
       "4               Sports & Recreation  Arts, Entertainment & Recreation   \n",
       "\n",
       "                      Revenue  Easy Apply Job Level  \n",
       "0  $100 to $500 million (USD)        True       N/A  \n",
       "1      $2 to $5 billion (USD)       False       N/A  \n",
       "2    Unknown / Non-Applicable       False    Senior  \n",
       "3   $50 to $100 million (USD)       False       N/A  \n",
       "4  $100 to $500 million (USD)        True       N/A  "
      ]
     },
     "execution_count": 29,
     "metadata": {},
     "output_type": "execute_result"
    }
   ],
   "source": [
    "da.head()"
   ]
  },
  {
   "cell_type": "markdown",
   "metadata": {},
   "source": [
    "## Salary Estimate"
   ]
  },
  {
   "cell_type": "code",
   "execution_count": 30,
   "metadata": {},
   "outputs": [
    {
     "data": {
      "text/plain": [
       "$42K-$76K (Glassdoor est.)    57\n",
       "$41K-$78K (Glassdoor est.)    57\n",
       "$50K-$86K (Glassdoor est.)    41\n",
       "$35K-$67K (Glassdoor est.)    33\n",
       "$58K-$93K (Glassdoor est.)    31\n",
       "                              ..\n",
       "$47K-$81K (Glassdoor est.)     3\n",
       "$36K-$67K (Glassdoor est.)     3\n",
       "$43K-$77K (Glassdoor est.)     3\n",
       "$57K-$70K (Glassdoor est.)     2\n",
       "-1                             1\n",
       "Name: Salary Estimate, Length: 90, dtype: int64"
      ]
     },
     "execution_count": 30,
     "metadata": {},
     "output_type": "execute_result"
    }
   ],
   "source": [
    "da[\"Salary Estimate\"].value_counts()"
   ]
  },
  {
   "cell_type": "markdown",
   "metadata": {},
   "source": [
    "1. we have one salary estimate as -1\n",
    "2. all the salaries are in dollars so we can remove the $\n",
    "3. after the salary their is the platform which estimated salary range and hence we need to remove that\n",
    "4. split the salary into upper range and lower range "
   ]
  },
  {
   "cell_type": "code",
   "execution_count": 31,
   "metadata": {},
   "outputs": [],
   "source": [
    "min_sal =[]\n",
    "max_sal = []\n",
    "for sal in da[\"Salary Estimate\"]:\n",
    "    min_sal.append(sal.split(\"-\")[0].lstrip(\"$\").rstrip(\"K\"))\n",
    "    max_sal.append(sal.split(\"-\")[1].split(\" \")[0])\n",
    "    \n",
    "#splitting the salary estimate by - which will return a list [$42K,$76K]\n",
    "#for the first value of the list striping the dollar and K \n"
   ]
  },
  {
   "cell_type": "code",
   "execution_count": 32,
   "metadata": {},
   "outputs": [],
   "source": [
    "da[\"min_salary\"] = min_sal"
   ]
  },
  {
   "cell_type": "code",
   "execution_count": 33,
   "metadata": {},
   "outputs": [],
   "source": [
    "max_salary=[]\n",
    "for i in max_sal:\n",
    "    max_salary.append(i.lstrip(\"$\").rstrip(\"K\")) "
   ]
  },
  {
   "cell_type": "code",
   "execution_count": 34,
   "metadata": {},
   "outputs": [],
   "source": [
    "da[\"maximum-salary\"]=max_salary"
   ]
  },
  {
   "cell_type": "code",
   "execution_count": 35,
   "metadata": {},
   "outputs": [],
   "source": [
    "da.drop(\"Salary Estimate\", axis=1,inplace= True)"
   ]
  },
  {
   "cell_type": "code",
   "execution_count": 36,
   "metadata": {},
   "outputs": [
    {
     "data": {
      "text/html": [
       "<div>\n",
       "<style scoped>\n",
       "    .dataframe tbody tr th:only-of-type {\n",
       "        vertical-align: middle;\n",
       "    }\n",
       "\n",
       "    .dataframe tbody tr th {\n",
       "        vertical-align: top;\n",
       "    }\n",
       "\n",
       "    .dataframe thead th {\n",
       "        text-align: right;\n",
       "    }\n",
       "</style>\n",
       "<table border=\"1\" class=\"dataframe\">\n",
       "  <thead>\n",
       "    <tr style=\"text-align: right;\">\n",
       "      <th></th>\n",
       "      <th>Job Title</th>\n",
       "      <th>Job Description</th>\n",
       "      <th>Rating</th>\n",
       "      <th>Company Name</th>\n",
       "      <th>Location</th>\n",
       "      <th>Headquarters</th>\n",
       "      <th>Size</th>\n",
       "      <th>Founded</th>\n",
       "      <th>Type of ownership</th>\n",
       "      <th>Industry</th>\n",
       "      <th>Sector</th>\n",
       "      <th>Revenue</th>\n",
       "      <th>Easy Apply</th>\n",
       "      <th>Job Level</th>\n",
       "      <th>min_salary</th>\n",
       "      <th>maximum-salary</th>\n",
       "    </tr>\n",
       "  </thead>\n",
       "  <tbody>\n",
       "    <tr>\n",
       "      <th>0</th>\n",
       "      <td>Data Analyst, Center on Immigration and Justic...</td>\n",
       "      <td>Are you eager to roll up your sleeves and harn...</td>\n",
       "      <td>3.2</td>\n",
       "      <td>Vera Institute of Justice\\n3.2</td>\n",
       "      <td>New York, NY</td>\n",
       "      <td>New York, NY</td>\n",
       "      <td>201 to 500 employees</td>\n",
       "      <td>1961</td>\n",
       "      <td>Nonprofit Organization</td>\n",
       "      <td>Social Assistance</td>\n",
       "      <td>Non-Profit</td>\n",
       "      <td>$100 to $500 million (USD)</td>\n",
       "      <td>True</td>\n",
       "      <td>N/A</td>\n",
       "      <td>37</td>\n",
       "      <td>66</td>\n",
       "    </tr>\n",
       "    <tr>\n",
       "      <th>1</th>\n",
       "      <td>Quality Data Analyst</td>\n",
       "      <td>Overview\\n\\nProvides analytical and technical ...</td>\n",
       "      <td>3.8</td>\n",
       "      <td>Visiting Nurse Service of New York\\n3.8</td>\n",
       "      <td>New York, NY</td>\n",
       "      <td>New York, NY</td>\n",
       "      <td>10000+ employees</td>\n",
       "      <td>1893</td>\n",
       "      <td>Nonprofit Organization</td>\n",
       "      <td>Health Care Services &amp; Hospitals</td>\n",
       "      <td>Health Care</td>\n",
       "      <td>$2 to $5 billion (USD)</td>\n",
       "      <td>False</td>\n",
       "      <td>N/A</td>\n",
       "      <td>37</td>\n",
       "      <td>66</td>\n",
       "    </tr>\n",
       "    <tr>\n",
       "      <th>2</th>\n",
       "      <td>Senior Data Analyst, Insights &amp; Analytics Team...</td>\n",
       "      <td>We’re looking for a Senior Data Analyst who ha...</td>\n",
       "      <td>3.4</td>\n",
       "      <td>Squarespace\\n3.4</td>\n",
       "      <td>New York, NY</td>\n",
       "      <td>New York, NY</td>\n",
       "      <td>1001 to 5000 employees</td>\n",
       "      <td>2003</td>\n",
       "      <td>Company - Private</td>\n",
       "      <td>Internet</td>\n",
       "      <td>Information Technology</td>\n",
       "      <td>Unknown / Non-Applicable</td>\n",
       "      <td>False</td>\n",
       "      <td>Senior</td>\n",
       "      <td>37</td>\n",
       "      <td>66</td>\n",
       "    </tr>\n",
       "    <tr>\n",
       "      <th>3</th>\n",
       "      <td>Data Analyst</td>\n",
       "      <td>Requisition NumberRR-0001939\\nRemote:Yes\\nWe c...</td>\n",
       "      <td>4.1</td>\n",
       "      <td>Celerity\\n4.1</td>\n",
       "      <td>New York, NY</td>\n",
       "      <td>McLean, VA</td>\n",
       "      <td>201 to 500 employees</td>\n",
       "      <td>2002</td>\n",
       "      <td>Subsidiary or Business Segment</td>\n",
       "      <td>IT Services</td>\n",
       "      <td>Information Technology</td>\n",
       "      <td>$50 to $100 million (USD)</td>\n",
       "      <td>False</td>\n",
       "      <td>N/A</td>\n",
       "      <td>37</td>\n",
       "      <td>66</td>\n",
       "    </tr>\n",
       "    <tr>\n",
       "      <th>4</th>\n",
       "      <td>Reporting Data Analyst</td>\n",
       "      <td>ABOUT FANDUEL GROUP\\n\\nFanDuel Group is a worl...</td>\n",
       "      <td>3.9</td>\n",
       "      <td>FanDuel\\n3.9</td>\n",
       "      <td>New York, NY</td>\n",
       "      <td>New York, NY</td>\n",
       "      <td>501 to 1000 employees</td>\n",
       "      <td>2009</td>\n",
       "      <td>Company - Private</td>\n",
       "      <td>Sports &amp; Recreation</td>\n",
       "      <td>Arts, Entertainment &amp; Recreation</td>\n",
       "      <td>$100 to $500 million (USD)</td>\n",
       "      <td>True</td>\n",
       "      <td>N/A</td>\n",
       "      <td>37</td>\n",
       "      <td>66</td>\n",
       "    </tr>\n",
       "  </tbody>\n",
       "</table>\n",
       "</div>"
      ],
      "text/plain": [
       "                                           Job Title  \\\n",
       "0  Data Analyst, Center on Immigration and Justic...   \n",
       "1                               Quality Data Analyst   \n",
       "2  Senior Data Analyst, Insights & Analytics Team...   \n",
       "3                                       Data Analyst   \n",
       "4                             Reporting Data Analyst   \n",
       "\n",
       "                                     Job Description  Rating  \\\n",
       "0  Are you eager to roll up your sleeves and harn...     3.2   \n",
       "1  Overview\\n\\nProvides analytical and technical ...     3.8   \n",
       "2  We’re looking for a Senior Data Analyst who ha...     3.4   \n",
       "3  Requisition NumberRR-0001939\\nRemote:Yes\\nWe c...     4.1   \n",
       "4  ABOUT FANDUEL GROUP\\n\\nFanDuel Group is a worl...     3.9   \n",
       "\n",
       "                              Company Name      Location  Headquarters  \\\n",
       "0           Vera Institute of Justice\\n3.2  New York, NY  New York, NY   \n",
       "1  Visiting Nurse Service of New York\\n3.8  New York, NY  New York, NY   \n",
       "2                         Squarespace\\n3.4  New York, NY  New York, NY   \n",
       "3                            Celerity\\n4.1  New York, NY    McLean, VA   \n",
       "4                             FanDuel\\n3.9  New York, NY  New York, NY   \n",
       "\n",
       "                     Size  Founded               Type of ownership  \\\n",
       "0    201 to 500 employees     1961          Nonprofit Organization   \n",
       "1        10000+ employees     1893          Nonprofit Organization   \n",
       "2  1001 to 5000 employees     2003               Company - Private   \n",
       "3    201 to 500 employees     2002  Subsidiary or Business Segment   \n",
       "4   501 to 1000 employees     2009               Company - Private   \n",
       "\n",
       "                           Industry                            Sector  \\\n",
       "0                 Social Assistance                        Non-Profit   \n",
       "1  Health Care Services & Hospitals                       Health Care   \n",
       "2                          Internet            Information Technology   \n",
       "3                       IT Services            Information Technology   \n",
       "4               Sports & Recreation  Arts, Entertainment & Recreation   \n",
       "\n",
       "                      Revenue  Easy Apply Job Level min_salary maximum-salary  \n",
       "0  $100 to $500 million (USD)        True       N/A         37             66  \n",
       "1      $2 to $5 billion (USD)       False       N/A         37             66  \n",
       "2    Unknown / Non-Applicable       False    Senior         37             66  \n",
       "3   $50 to $100 million (USD)       False       N/A         37             66  \n",
       "4  $100 to $500 million (USD)        True       N/A         37             66  "
      ]
     },
     "execution_count": 36,
     "metadata": {},
     "output_type": "execute_result"
    }
   ],
   "source": [
    "da.head()"
   ]
  },
  {
   "cell_type": "code",
   "execution_count": 37,
   "metadata": {},
   "outputs": [],
   "source": [
    "da['min_salary'].replace(\"\",\"0\",inplace = True)"
   ]
  },
  {
   "cell_type": "code",
   "execution_count": 38,
   "metadata": {},
   "outputs": [],
   "source": [
    "da['min_salary']=da['min_salary'].astype('int64',copy=True)\n",
    "da['maximum-salary']= da['maximum-salary'].astype('int64',copy=True)\n",
    "\n",
    "#converting the minimum and maximum salary into integer type "
   ]
  },
  {
   "cell_type": "code",
   "execution_count": 39,
   "metadata": {},
   "outputs": [
    {
     "data": {
      "text/plain": [
       "count    2253.000000\n",
       "mean       54.242787\n",
       "std        19.604393\n",
       "min         0.000000\n",
       "25%        41.000000\n",
       "50%        50.000000\n",
       "75%        64.000000\n",
       "max       113.000000\n",
       "Name: min_salary, dtype: float64"
      ]
     },
     "execution_count": 39,
     "metadata": {},
     "output_type": "execute_result"
    }
   ],
   "source": [
    "da[\"min_salary\"].describe()"
   ]
  },
  {
   "cell_type": "code",
   "execution_count": 40,
   "metadata": {},
   "outputs": [
    {
     "data": {
      "text/plain": [
       "<matplotlib.axes._subplots.AxesSubplot at 0x221b70d8cc8>"
      ]
     },
     "execution_count": 40,
     "metadata": {},
     "output_type": "execute_result"
    },
    {
     "data": {
      "image/png": "[encoded data removed]",
      "text/plain": [
       "<Figure size 432x288 with 1 Axes>"
      ]
     },
     "metadata": {
      "needs_background": "light"
     },
     "output_type": "display_data"
    }
   ],
   "source": [
    "sns.distplot(da[\"min_salary\"])"
   ]
  },
  {
   "cell_type": "markdown",
   "metadata": {},
   "source": [
    "**The distribution plot looks somewhat like the gaussian distribution except its right side has a long tail**\n",
    "\n",
    "**Min-salary ranges between 40-60K**"
   ]
  },
  {
   "cell_type": "code",
   "execution_count": 41,
   "metadata": {},
   "outputs": [
    {
     "data": {
      "text/plain": [
       "count    2253.000000\n",
       "mean       89.939636\n",
       "std        29.368984\n",
       "min         1.000000\n",
       "25%        70.000000\n",
       "50%        87.000000\n",
       "75%       104.000000\n",
       "max       190.000000\n",
       "Name: maximum-salary, dtype: float64"
      ]
     },
     "execution_count": 41,
     "metadata": {},
     "output_type": "execute_result"
    }
   ],
   "source": [
    "da[\"maximum-salary\"].describe()"
   ]
  },
  {
   "cell_type": "code",
   "execution_count": 42,
   "metadata": {},
   "outputs": [
    {
     "data": {
      "text/plain": [
       "<matplotlib.axes._subplots.AxesSubplot at 0x221b719d5c8>"
      ]
     },
     "execution_count": 42,
     "metadata": {},
     "output_type": "execute_result"
    },
    {
     "data": {
      "image/png": "[encoded data removed]",
      "text/plain": [
       "<Figure size 432x288 with 1 Axes>"
      ]
     },
     "metadata": {
      "needs_background": "light"
     },
     "output_type": "display_data"
    }
   ],
   "source": [
    "sns.distplot(da[\"maximum-salary\"])"
   ]
  },
  {
   "cell_type": "markdown",
   "metadata": {},
   "source": [
    "**more jagged lines in the maximum salary, median maximum-salary for a data analyst is between 60-110K**"
   ]
  },
  {
   "cell_type": "code",
   "execution_count": 43,
   "metadata": {},
   "outputs": [],
   "source": [
    "da['sal_mean']=(da['min_salary']+da['maximum-salary'])/2"
   ]
  },
  {
   "cell_type": "code",
   "execution_count": 44,
   "metadata": {},
   "outputs": [
    {
     "data": {
      "text/html": [
       "<div>\n",
       "<style scoped>\n",
       "    .dataframe tbody tr th:only-of-type {\n",
       "        vertical-align: middle;\n",
       "    }\n",
       "\n",
       "    .dataframe tbody tr th {\n",
       "        vertical-align: top;\n",
       "    }\n",
       "\n",
       "    .dataframe thead th {\n",
       "        text-align: right;\n",
       "    }\n",
       "</style>\n",
       "<table border=\"1\" class=\"dataframe\">\n",
       "  <thead>\n",
       "    <tr style=\"text-align: right;\">\n",
       "      <th></th>\n",
       "      <th>Job Title</th>\n",
       "      <th>Job Description</th>\n",
       "      <th>Rating</th>\n",
       "      <th>Company Name</th>\n",
       "      <th>Location</th>\n",
       "      <th>Headquarters</th>\n",
       "      <th>Size</th>\n",
       "      <th>Founded</th>\n",
       "      <th>Type of ownership</th>\n",
       "      <th>Industry</th>\n",
       "      <th>Sector</th>\n",
       "      <th>Revenue</th>\n",
       "      <th>Easy Apply</th>\n",
       "      <th>Job Level</th>\n",
       "      <th>min_salary</th>\n",
       "      <th>maximum-salary</th>\n",
       "      <th>sal_mean</th>\n",
       "    </tr>\n",
       "  </thead>\n",
       "  <tbody>\n",
       "    <tr>\n",
       "      <th>0</th>\n",
       "      <td>Data Analyst, Center on Immigration and Justic...</td>\n",
       "      <td>Are you eager to roll up your sleeves and harn...</td>\n",
       "      <td>3.2</td>\n",
       "      <td>Vera Institute of Justice\\n3.2</td>\n",
       "      <td>New York, NY</td>\n",
       "      <td>New York, NY</td>\n",
       "      <td>201 to 500 employees</td>\n",
       "      <td>1961</td>\n",
       "      <td>Nonprofit Organization</td>\n",
       "      <td>Social Assistance</td>\n",
       "      <td>Non-Profit</td>\n",
       "      <td>$100 to $500 million (USD)</td>\n",
       "      <td>True</td>\n",
       "      <td>N/A</td>\n",
       "      <td>37</td>\n",
       "      <td>66</td>\n",
       "      <td>51.5</td>\n",
       "    </tr>\n",
       "    <tr>\n",
       "      <th>1</th>\n",
       "      <td>Quality Data Analyst</td>\n",
       "      <td>Overview\\n\\nProvides analytical and technical ...</td>\n",
       "      <td>3.8</td>\n",
       "      <td>Visiting Nurse Service of New York\\n3.8</td>\n",
       "      <td>New York, NY</td>\n",
       "      <td>New York, NY</td>\n",
       "      <td>10000+ employees</td>\n",
       "      <td>1893</td>\n",
       "      <td>Nonprofit Organization</td>\n",
       "      <td>Health Care Services &amp; Hospitals</td>\n",
       "      <td>Health Care</td>\n",
       "      <td>$2 to $5 billion (USD)</td>\n",
       "      <td>False</td>\n",
       "      <td>N/A</td>\n",
       "      <td>37</td>\n",
       "      <td>66</td>\n",
       "      <td>51.5</td>\n",
       "    </tr>\n",
       "    <tr>\n",
       "      <th>2</th>\n",
       "      <td>Senior Data Analyst, Insights &amp; Analytics Team...</td>\n",
       "      <td>We’re looking for a Senior Data Analyst who ha...</td>\n",
       "      <td>3.4</td>\n",
       "      <td>Squarespace\\n3.4</td>\n",
       "      <td>New York, NY</td>\n",
       "      <td>New York, NY</td>\n",
       "      <td>1001 to 5000 employees</td>\n",
       "      <td>2003</td>\n",
       "      <td>Company - Private</td>\n",
       "      <td>Internet</td>\n",
       "      <td>Information Technology</td>\n",
       "      <td>Unknown / Non-Applicable</td>\n",
       "      <td>False</td>\n",
       "      <td>Senior</td>\n",
       "      <td>37</td>\n",
       "      <td>66</td>\n",
       "      <td>51.5</td>\n",
       "    </tr>\n",
       "    <tr>\n",
       "      <th>3</th>\n",
       "      <td>Data Analyst</td>\n",
       "      <td>Requisition NumberRR-0001939\\nRemote:Yes\\nWe c...</td>\n",
       "      <td>4.1</td>\n",
       "      <td>Celerity\\n4.1</td>\n",
       "      <td>New York, NY</td>\n",
       "      <td>McLean, VA</td>\n",
       "      <td>201 to 500 employees</td>\n",
       "      <td>2002</td>\n",
       "      <td>Subsidiary or Business Segment</td>\n",
       "      <td>IT Services</td>\n",
       "      <td>Information Technology</td>\n",
       "      <td>$50 to $100 million (USD)</td>\n",
       "      <td>False</td>\n",
       "      <td>N/A</td>\n",
       "      <td>37</td>\n",
       "      <td>66</td>\n",
       "      <td>51.5</td>\n",
       "    </tr>\n",
       "    <tr>\n",
       "      <th>4</th>\n",
       "      <td>Reporting Data Analyst</td>\n",
       "      <td>ABOUT FANDUEL GROUP\\n\\nFanDuel Group is a worl...</td>\n",
       "      <td>3.9</td>\n",
       "      <td>FanDuel\\n3.9</td>\n",
       "      <td>New York, NY</td>\n",
       "      <td>New York, NY</td>\n",
       "      <td>501 to 1000 employees</td>\n",
       "      <td>2009</td>\n",
       "      <td>Company - Private</td>\n",
       "      <td>Sports &amp; Recreation</td>\n",
       "      <td>Arts, Entertainment &amp; Recreation</td>\n",
       "      <td>$100 to $500 million (USD)</td>\n",
       "      <td>True</td>\n",
       "      <td>N/A</td>\n",
       "      <td>37</td>\n",
       "      <td>66</td>\n",
       "      <td>51.5</td>\n",
       "    </tr>\n",
       "  </tbody>\n",
       "</table>\n",
       "</div>"
      ],
      "text/plain": [
       "                                           Job Title  \\\n",
       "0  Data Analyst, Center on Immigration and Justic...   \n",
       "1                               Quality Data Analyst   \n",
       "2  Senior Data Analyst, Insights & Analytics Team...   \n",
       "3                                       Data Analyst   \n",
       "4                             Reporting Data Analyst   \n",
       "\n",
       "                                     Job Description  Rating  \\\n",
       "0  Are you eager to roll up your sleeves and harn...     3.2   \n",
       "1  Overview\\n\\nProvides analytical and technical ...     3.8   \n",
       "2  We’re looking for a Senior Data Analyst who ha...     3.4   \n",
       "3  Requisition NumberRR-0001939\\nRemote:Yes\\nWe c...     4.1   \n",
       "4  ABOUT FANDUEL GROUP\\n\\nFanDuel Group is a worl...     3.9   \n",
       "\n",
       "                              Company Name      Location  Headquarters  \\\n",
       "0           Vera Institute of Justice\\n3.2  New York, NY  New York, NY   \n",
       "1  Visiting Nurse Service of New York\\n3.8  New York, NY  New York, NY   \n",
       "2                         Squarespace\\n3.4  New York, NY  New York, NY   \n",
       "3                            Celerity\\n4.1  New York, NY    McLean, VA   \n",
       "4                             FanDuel\\n3.9  New York, NY  New York, NY   \n",
       "\n",
       "                     Size  Founded               Type of ownership  \\\n",
       "0    201 to 500 employees     1961          Nonprofit Organization   \n",
       "1        10000+ employees     1893          Nonprofit Organization   \n",
       "2  1001 to 5000 employees     2003               Company - Private   \n",
       "3    201 to 500 employees     2002  Subsidiary or Business Segment   \n",
       "4   501 to 1000 employees     2009               Company - Private   \n",
       "\n",
       "                           Industry                            Sector  \\\n",
       "0                 Social Assistance                        Non-Profit   \n",
       "1  Health Care Services & Hospitals                       Health Care   \n",
       "2                          Internet            Information Technology   \n",
       "3                       IT Services            Information Technology   \n",
       "4               Sports & Recreation  Arts, Entertainment & Recreation   \n",
       "\n",
       "                      Revenue  Easy Apply Job Level  min_salary  \\\n",
       "0  $100 to $500 million (USD)        True       N/A          37   \n",
       "1      $2 to $5 billion (USD)       False       N/A          37   \n",
       "2    Unknown / Non-Applicable       False    Senior          37   \n",
       "3   $50 to $100 million (USD)       False       N/A          37   \n",
       "4  $100 to $500 million (USD)        True       N/A          37   \n",
       "\n",
       "   maximum-salary  sal_mean  \n",
       "0              66      51.5  \n",
       "1              66      51.5  \n",
       "2              66      51.5  \n",
       "3              66      51.5  \n",
       "4              66      51.5  "
      ]
     },
     "execution_count": 44,
     "metadata": {},
     "output_type": "execute_result"
    }
   ],
   "source": [
    "da.head()"
   ]
  },
  {
   "cell_type": "markdown",
   "metadata": {},
   "source": [
    "### More insights on salary"
   ]
  },
  {
   "cell_type": "code",
   "execution_count": 45,
   "metadata": {},
   "outputs": [],
   "source": [
    "Senior_max = da[\"maximum-salary\"][da[\"Job Level\"]==\"Senior\"]\n",
    "Senior_min = da[\"min_salary\"][da[\"Job Level\"]==\"Senior\"]"
   ]
  },
  {
   "cell_type": "code",
   "execution_count": 46,
   "metadata": {},
   "outputs": [
    {
     "data": {
      "text/plain": [
       "Text(0.5, 0, 'Minimum Salary')"
      ]
     },
     "execution_count": 46,
     "metadata": {},
     "output_type": "execute_result"
    },
    {
     "data": {
      "image/png": "[encoded data removed]",
      "text/plain": [
       "<Figure size 1080x432 with 2 Axes>"
      ]
     },
     "metadata": {
      "needs_background": "light"
     },
     "output_type": "display_data"
    }
   ],
   "source": [
    "plt.figure(figsize=(15,6))\n",
    "plt.subplot(1,2,1)\n",
    "sns.distplot(Senior_max)\n",
    "plt.xlabel(\"Maximum Salary\")\n",
    "#print(Senior_max.describe())\n",
    "\n",
    "\n",
    "plt.subplot(1,2,2)\n",
    "sns.distplot(Senior_min)\n",
    "plt.xlabel(\"Minimum Salary\")\n",
    "#print(Senior_min.describe())\n",
    "\n",
    "#plt.title(\"Senior\")"
   ]
  },
  {
   "cell_type": "markdown",
   "metadata": {},
   "source": [
    "**For senior Data Analyst maximum salary ranges between 75-115K**\n",
    "\n",
    "**For senior Data Analyst minimum salary ranges between 40-62K**"
   ]
  },
  {
   "cell_type": "code",
   "execution_count": 47,
   "metadata": {},
   "outputs": [],
   "source": [
    "Junior_max = da[\"maximum-salary\"][da[\"Job Level\"]==\"Junior\"]\n",
    "Junior_min = da[\"min_salary\"][da[\"Job Level\"]==\"Junior\"]"
   ]
  },
  {
   "cell_type": "code",
   "execution_count": 48,
   "metadata": {},
   "outputs": [
    {
     "data": {
      "text/plain": [
       "Text(0.5, 0, 'Minimum Salary')"
      ]
     },
     "execution_count": 48,
     "metadata": {},
     "output_type": "execute_result"
    },
    {
     "data": {
      "image/png": "[encoded data removed]",
      "text/plain": [
       "<Figure size 1080x432 with 2 Axes>"
      ]
     },
     "metadata": {
      "needs_background": "light"
     },
     "output_type": "display_data"
    }
   ],
   "source": [
    "plt.figure(figsize=(15,6))\n",
    "plt.subplot(1,2,1)\n",
    "sns.distplot(Junior_max)\n",
    "plt.xlabel(\"Maximum Salary\")\n",
    "#print(Senior_max.describe())\n",
    "\n",
    "\n",
    "plt.subplot(1,2,2)\n",
    "sns.distplot(Junior_min)\n",
    "plt.xlabel(\"Minimum Salary\")\n",
    "#print(Senior_min.describe())\n",
    "\n",
    "#plt.title(\"Senior\")"
   ]
  },
  {
   "cell_type": "markdown",
   "metadata": {},
   "source": [
    "**For Junior Data Analyst maximum salary ranges between 75-100K**\n",
    "\n",
    "**For Junior Data Analyst minimum salary ranges between 40-62K**"
   ]
  },
  {
   "cell_type": "code",
   "execution_count": 49,
   "metadata": {},
   "outputs": [],
   "source": [
    "Lead_max = da[\"maximum-salary\"][da[\"Job Level\"]==\"Lead\"]\n",
    "Lead_min = da[\"min_salary\"][da[\"Job Level\"]==\"Lead\"]"
   ]
  },
  {
   "cell_type": "code",
   "execution_count": 50,
   "metadata": {},
   "outputs": [
    {
     "data": {
      "text/plain": [
       "Text(0.5, 0, 'Minimum Salary')"
      ]
     },
     "execution_count": 50,
     "metadata": {},
     "output_type": "execute_result"
    },
    {
     "data": {
      "image/png": "[encoded data removed]",
      "text/plain": [
       "<Figure size 1080x432 with 2 Axes>"
      ]
     },
     "metadata": {
      "needs_background": "light"
     },
     "output_type": "display_data"
    }
   ],
   "source": [
    "plt.figure(figsize=(15,6))\n",
    "plt.subplot(1,2,1)\n",
    "sns.distplot(Lead_max)\n",
    "plt.xlabel(\"Maximum Salary\")\n",
    "#print(Senior_max.describe())\n",
    "\n",
    "\n",
    "plt.subplot(1,2,2)\n",
    "sns.distplot(Lead_min)\n",
    "plt.xlabel(\"Minimum Salary\")\n",
    "#print(Senior_min.describe())\n",
    "\n",
    "#plt.title(\"Senior\")"
   ]
  },
  {
   "cell_type": "markdown",
   "metadata": {},
   "source": [
    "**For Lead Data Analyst maximum salary ranges between 80-120+K**\n",
    "\n",
    "**For Lead Data Analyst minimum salary ranges between 40-65K**"
   ]
  },
  {
   "cell_type": "markdown",
   "metadata": {},
   "source": [
    "#### One thing to note that the minimum salary at every job is nearly the same"
   ]
  },
  {
   "cell_type": "markdown",
   "metadata": {},
   "source": [
    "## Company Name"
   ]
  },
  {
   "cell_type": "markdown",
   "metadata": {},
   "source": [
    "**For each company we have also ratings column therefore we need to clean that, partioning on the basis of \\n**"
   ]
  },
  {
   "cell_type": "code",
   "execution_count": 51,
   "metadata": {},
   "outputs": [],
   "source": [
    "da['Company Name'] = da[\"Company Name\"].str.partition(\"\\n\")"
   ]
  },
  {
   "cell_type": "code",
   "execution_count": 52,
   "metadata": {},
   "outputs": [
    {
     "data": {
      "text/html": [
       "<div>\n",
       "<style scoped>\n",
       "    .dataframe tbody tr th:only-of-type {\n",
       "        vertical-align: middle;\n",
       "    }\n",
       "\n",
       "    .dataframe tbody tr th {\n",
       "        vertical-align: top;\n",
       "    }\n",
       "\n",
       "    .dataframe thead th {\n",
       "        text-align: right;\n",
       "    }\n",
       "</style>\n",
       "<table border=\"1\" class=\"dataframe\">\n",
       "  <thead>\n",
       "    <tr style=\"text-align: right;\">\n",
       "      <th></th>\n",
       "      <th>Job Title</th>\n",
       "      <th>Job Description</th>\n",
       "      <th>Rating</th>\n",
       "      <th>Company Name</th>\n",
       "      <th>Location</th>\n",
       "      <th>Headquarters</th>\n",
       "      <th>Size</th>\n",
       "      <th>Founded</th>\n",
       "      <th>Type of ownership</th>\n",
       "      <th>Industry</th>\n",
       "      <th>Sector</th>\n",
       "      <th>Revenue</th>\n",
       "      <th>Easy Apply</th>\n",
       "      <th>Job Level</th>\n",
       "      <th>min_salary</th>\n",
       "      <th>maximum-salary</th>\n",
       "      <th>sal_mean</th>\n",
       "    </tr>\n",
       "  </thead>\n",
       "  <tbody>\n",
       "    <tr>\n",
       "      <th>0</th>\n",
       "      <td>Data Analyst, Center on Immigration and Justic...</td>\n",
       "      <td>Are you eager to roll up your sleeves and harn...</td>\n",
       "      <td>3.2</td>\n",
       "      <td>Vera Institute of Justice</td>\n",
       "      <td>New York, NY</td>\n",
       "      <td>New York, NY</td>\n",
       "      <td>201 to 500 employees</td>\n",
       "      <td>1961</td>\n",
       "      <td>Nonprofit Organization</td>\n",
       "      <td>Social Assistance</td>\n",
       "      <td>Non-Profit</td>\n",
       "      <td>$100 to $500 million (USD)</td>\n",
       "      <td>True</td>\n",
       "      <td>N/A</td>\n",
       "      <td>37</td>\n",
       "      <td>66</td>\n",
       "      <td>51.5</td>\n",
       "    </tr>\n",
       "    <tr>\n",
       "      <th>1</th>\n",
       "      <td>Quality Data Analyst</td>\n",
       "      <td>Overview\\n\\nProvides analytical and technical ...</td>\n",
       "      <td>3.8</td>\n",
       "      <td>Visiting Nurse Service of New York</td>\n",
       "      <td>New York, NY</td>\n",
       "      <td>New York, NY</td>\n",
       "      <td>10000+ employees</td>\n",
       "      <td>1893</td>\n",
       "      <td>Nonprofit Organization</td>\n",
       "      <td>Health Care Services &amp; Hospitals</td>\n",
       "      <td>Health Care</td>\n",
       "      <td>$2 to $5 billion (USD)</td>\n",
       "      <td>False</td>\n",
       "      <td>N/A</td>\n",
       "      <td>37</td>\n",
       "      <td>66</td>\n",
       "      <td>51.5</td>\n",
       "    </tr>\n",
       "    <tr>\n",
       "      <th>2</th>\n",
       "      <td>Senior Data Analyst, Insights &amp; Analytics Team...</td>\n",
       "      <td>We’re looking for a Senior Data Analyst who ha...</td>\n",
       "      <td>3.4</td>\n",
       "      <td>Squarespace</td>\n",
       "      <td>New York, NY</td>\n",
       "      <td>New York, NY</td>\n",
       "      <td>1001 to 5000 employees</td>\n",
       "      <td>2003</td>\n",
       "      <td>Company - Private</td>\n",
       "      <td>Internet</td>\n",
       "      <td>Information Technology</td>\n",
       "      <td>Unknown / Non-Applicable</td>\n",
       "      <td>False</td>\n",
       "      <td>Senior</td>\n",
       "      <td>37</td>\n",
       "      <td>66</td>\n",
       "      <td>51.5</td>\n",
       "    </tr>\n",
       "    <tr>\n",
       "      <th>3</th>\n",
       "      <td>Data Analyst</td>\n",
       "      <td>Requisition NumberRR-0001939\\nRemote:Yes\\nWe c...</td>\n",
       "      <td>4.1</td>\n",
       "      <td>Celerity</td>\n",
       "      <td>New York, NY</td>\n",
       "      <td>McLean, VA</td>\n",
       "      <td>201 to 500 employees</td>\n",
       "      <td>2002</td>\n",
       "      <td>Subsidiary or Business Segment</td>\n",
       "      <td>IT Services</td>\n",
       "      <td>Information Technology</td>\n",
       "      <td>$50 to $100 million (USD)</td>\n",
       "      <td>False</td>\n",
       "      <td>N/A</td>\n",
       "      <td>37</td>\n",
       "      <td>66</td>\n",
       "      <td>51.5</td>\n",
       "    </tr>\n",
       "    <tr>\n",
       "      <th>4</th>\n",
       "      <td>Reporting Data Analyst</td>\n",
       "      <td>ABOUT FANDUEL GROUP\\n\\nFanDuel Group is a worl...</td>\n",
       "      <td>3.9</td>\n",
       "      <td>FanDuel</td>\n",
       "      <td>New York, NY</td>\n",
       "      <td>New York, NY</td>\n",
       "      <td>501 to 1000 employees</td>\n",
       "      <td>2009</td>\n",
       "      <td>Company - Private</td>\n",
       "      <td>Sports &amp; Recreation</td>\n",
       "      <td>Arts, Entertainment &amp; Recreation</td>\n",
       "      <td>$100 to $500 million (USD)</td>\n",
       "      <td>True</td>\n",
       "      <td>N/A</td>\n",
       "      <td>37</td>\n",
       "      <td>66</td>\n",
       "      <td>51.5</td>\n",
       "    </tr>\n",
       "  </tbody>\n",
       "</table>\n",
       "</div>"
      ],
      "text/plain": [
       "                                           Job Title  \\\n",
       "0  Data Analyst, Center on Immigration and Justic...   \n",
       "1                               Quality Data Analyst   \n",
       "2  Senior Data Analyst, Insights & Analytics Team...   \n",
       "3                                       Data Analyst   \n",
       "4                             Reporting Data Analyst   \n",
       "\n",
       "                                     Job Description  Rating  \\\n",
       "0  Are you eager to roll up your sleeves and harn...     3.2   \n",
       "1  Overview\\n\\nProvides analytical and technical ...     3.8   \n",
       "2  We’re looking for a Senior Data Analyst who ha...     3.4   \n",
       "3  Requisition NumberRR-0001939\\nRemote:Yes\\nWe c...     4.1   \n",
       "4  ABOUT FANDUEL GROUP\\n\\nFanDuel Group is a worl...     3.9   \n",
       "\n",
       "                         Company Name      Location  Headquarters  \\\n",
       "0           Vera Institute of Justice  New York, NY  New York, NY   \n",
       "1  Visiting Nurse Service of New York  New York, NY  New York, NY   \n",
       "2                         Squarespace  New York, NY  New York, NY   \n",
       "3                            Celerity  New York, NY    McLean, VA   \n",
       "4                             FanDuel  New York, NY  New York, NY   \n",
       "\n",
       "                     Size  Founded               Type of ownership  \\\n",
       "0    201 to 500 employees     1961          Nonprofit Organization   \n",
       "1        10000+ employees     1893          Nonprofit Organization   \n",
       "2  1001 to 5000 employees     2003               Company - Private   \n",
       "3    201 to 500 employees     2002  Subsidiary or Business Segment   \n",
       "4   501 to 1000 employees     2009               Company - Private   \n",
       "\n",
       "                           Industry                            Sector  \\\n",
       "0                 Social Assistance                        Non-Profit   \n",
       "1  Health Care Services & Hospitals                       Health Care   \n",
       "2                          Internet            Information Technology   \n",
       "3                       IT Services            Information Technology   \n",
       "4               Sports & Recreation  Arts, Entertainment & Recreation   \n",
       "\n",
       "                      Revenue  Easy Apply Job Level  min_salary  \\\n",
       "0  $100 to $500 million (USD)        True       N/A          37   \n",
       "1      $2 to $5 billion (USD)       False       N/A          37   \n",
       "2    Unknown / Non-Applicable       False    Senior          37   \n",
       "3   $50 to $100 million (USD)       False       N/A          37   \n",
       "4  $100 to $500 million (USD)        True       N/A          37   \n",
       "\n",
       "   maximum-salary  sal_mean  \n",
       "0              66      51.5  \n",
       "1              66      51.5  \n",
       "2              66      51.5  \n",
       "3              66      51.5  \n",
       "4              66      51.5  "
      ]
     },
     "execution_count": 52,
     "metadata": {},
     "output_type": "execute_result"
    }
   ],
   "source": [
    "da.head()"
   ]
  },
  {
   "cell_type": "code",
   "execution_count": 53,
   "metadata": {},
   "outputs": [],
   "source": [
    "openings =  da[\"Company Name\"][da['Easy Apply']==True].value_counts().sort_values(ascending=False).head(10)"
   ]
  },
  {
   "cell_type": "code",
   "execution_count": 54,
   "metadata": {},
   "outputs": [],
   "source": [
    "opening_count = openings.values\n",
    "comp = openings.index"
   ]
  },
  {
   "cell_type": "code",
   "execution_count": 55,
   "metadata": {},
   "outputs": [
    {
     "data": {
      "text/plain": [
       "<BarContainer object of 10 artists>"
      ]
     },
     "execution_count": 55,
     "metadata": {},
     "output_type": "execute_result"
    },
    {
     "data": {
      "image/png": "[encoded data removed]",
      "text/plain": [
       "<Figure size 432x288 with 1 Axes>"
      ]
     },
     "metadata": {
      "needs_background": "light"
     },
     "output_type": "display_data"
    }
   ],
   "source": [
    "plt.barh(y=comp,width =opening_count)\n",
    "#plt.xticks(rotation=90)"
   ]
  },
  {
   "cell_type": "markdown",
   "metadata": {},
   "source": [
    "**Apex Systems has the largest opening for data analyst, followed by 22nd Century**"
   ]
  },
  {
   "cell_type": "markdown",
   "metadata": {},
   "source": [
    "## Type of Ownership"
   ]
  },
  {
   "cell_type": "code",
   "execution_count": 56,
   "metadata": {},
   "outputs": [
    {
     "data": {
      "text/plain": [
       "Company - Private                 1273\n",
       "Company - Public                   452\n",
       "-1                                 163\n",
       "Nonprofit Organization             124\n",
       "Subsidiary or Business Segment      89\n",
       "Government                          37\n",
       "College / University                34\n",
       "Hospital                            19\n",
       "Unknown                             16\n",
       "Other Organization                  13\n",
       "Contract                            11\n",
       "School / School District             9\n",
       "Private Practice / Firm              9\n",
       "Self-employed                        2\n",
       "Franchise                            2\n",
       "Name: Type of ownership, dtype: int64"
      ]
     },
     "execution_count": 56,
     "metadata": {},
     "output_type": "execute_result"
    }
   ],
   "source": [
    "da[\"Type of ownership\"].value_counts()"
   ]
  },
  {
   "cell_type": "code",
   "execution_count": 57,
   "metadata": {},
   "outputs": [],
   "source": [
    "da[\"Type of ownership\"].replace(\"-1\",\"Unknown\",inplace= True)"
   ]
  },
  {
   "cell_type": "code",
   "execution_count": 58,
   "metadata": {},
   "outputs": [
    {
     "data": {
      "text/plain": [
       "Company - Private                 1273\n",
       "Company - Public                   452\n",
       "Unknown                            179\n",
       "Nonprofit Organization             124\n",
       "Subsidiary or Business Segment      89\n",
       "Government                          37\n",
       "College / University                34\n",
       "Hospital                            19\n",
       "Other Organization                  13\n",
       "Contract                            11\n",
       "School / School District             9\n",
       "Private Practice / Firm              9\n",
       "Self-employed                        2\n",
       "Franchise                            2\n",
       "Name: Type of ownership, dtype: int64"
      ]
     },
     "execution_count": 58,
     "metadata": {},
     "output_type": "execute_result"
    }
   ],
   "source": [
    "da[\"Type of ownership\"].value_counts()"
   ]
  },
  {
   "cell_type": "code",
   "execution_count": 59,
   "metadata": {},
   "outputs": [],
   "source": [
    "ownership =  da[\"Type of ownership\"].value_counts().sort_values(ascending=False).head(15)"
   ]
  },
  {
   "cell_type": "code",
   "execution_count": 60,
   "metadata": {},
   "outputs": [
    {
     "data": {
      "text/plain": [
       "Company - Private                 1273\n",
       "Company - Public                   452\n",
       "Unknown                            179\n",
       "Nonprofit Organization             124\n",
       "Subsidiary or Business Segment      89\n",
       "Government                          37\n",
       "College / University                34\n",
       "Hospital                            19\n",
       "Other Organization                  13\n",
       "Contract                            11\n",
       "Private Practice / Firm              9\n",
       "School / School District             9\n",
       "Franchise                            2\n",
       "Self-employed                        2\n",
       "Name: Type of ownership, dtype: int64"
      ]
     },
     "execution_count": 60,
     "metadata": {},
     "output_type": "execute_result"
    }
   ],
   "source": [
    "ownership"
   ]
  },
  {
   "cell_type": "code",
   "execution_count": 61,
   "metadata": {},
   "outputs": [
    {
     "data": {
      "text/plain": [
       "<BarContainer object of 14 artists>"
      ]
     },
     "execution_count": 61,
     "metadata": {},
     "output_type": "execute_result"
    },
    {
     "data": {
      "image/png": "[encoded data removed]",
      "text/plain": [
       "<Figure size 432x288 with 1 Axes>"
      ]
     },
     "metadata": {
      "needs_background": "light"
     },
     "output_type": "display_data"
    }
   ],
   "source": [
    "plt.barh(y=ownership.index,width =ownership.values)\n",
    "#plt.xticks(rotation=90)"
   ]
  },
  {
   "cell_type": "markdown",
   "metadata": {},
   "source": [
    "**Most companies are either Private sector or Public Sector**"
   ]
  },
  {
   "cell_type": "markdown",
   "metadata": {},
   "source": [
    "## Job Description"
   ]
  },
  {
   "cell_type": "code",
   "execution_count": 62,
   "metadata": {},
   "outputs": [
    {
     "name": "stdout",
     "output_type": "stream",
     "text": [
      "[('data', 23230),\n",
      " ('experience', 9216),\n",
      " ('business', 6890),\n",
      " ('work', 5264),\n",
      " ('skills', 4363),\n",
      " ('analysis', 3778),\n",
      " ('team', 3636),\n",
      " ('management', 3585),\n",
      " ('analyst', 3417),\n",
      " ('ability', 3393),\n",
      " ('years', 3036),\n",
      " ('the', 2898),\n",
      " ('information', 2705),\n",
      " ('knowledge', 2661),\n",
      " ('support', 2646),\n",
      " ('job', 2616),\n",
      " ('we', 2583),\n",
      " ('strong', 2583),\n",
      " ('requirements', 2573),\n",
      " ('reporting', 2446),\n",
      " ('required', 2410),\n",
      " ('analytics', 2409),\n",
      " ('sql', 2248),\n",
      " ('quality', 2222),\n",
      " ('working', 2170),\n",
      " ('including', 2151),\n",
      " ('tools', 2120),\n",
      " ('development', 2103),\n",
      " ('systems', 2093),\n",
      " ('reports', 2082),\n",
      " ('new', 1982),\n",
      " ('technical', 1924),\n",
      " ('solutions', 1845),\n",
      " ('degree', 1780),\n",
      " ('provide', 1761),\n",
      " ('related', 1757),\n",
      " ('preferred', 1706),\n",
      " ('position', 1678),\n",
      " ('company', 1669),\n",
      " ('using', 1658),\n",
      " ('develop', 1635),\n",
      " ('analytical', 1529),\n",
      " ('must', 1512),\n",
      " ('role', 1483),\n",
      " ('processes', 1471),\n",
      " ('process', 1470),\n",
      " ('project', 1468),\n",
      " ('technology', 1452),\n",
      " ('this', 1447),\n",
      " ('health', 1435),\n",
      " ('environment', 1411),\n",
      " ('opportunity', 1402),\n",
      " ('design', 1396),\n",
      " ('services', 1390),\n",
      " ('status', 1390),\n",
      " ('complex', 1377),\n",
      " ('teams', 1356),\n",
      " ('responsibilities', 1328),\n",
      " ('communication', 1317),\n",
      " ('across', 1306),\n",
      " ('financial', 1305),\n",
      " ('projects', 1303),\n",
      " ('analyze', 1301),\n",
      " ('research', 1286),\n",
      " ('you', 1283),\n",
      " ('science', 1272),\n",
      " ('product', 1254),\n",
      " ('statistical', 1243),\n",
      " ('performance', 1182),\n",
      " ('software', 1170),\n",
      " ('excel', 1163),\n",
      " ('and/or', 1157),\n",
      " ('understanding', 1157),\n",
      " ('insights', 1146),\n",
      " ('needs', 1140),\n",
      " ('system', 1137),\n",
      " ('help', 1118),\n",
      " ('ensure', 1118),\n",
      " ('identify', 1109),\n",
      " ('database', 1101),\n",
      " ('client', 1099),\n",
      " ('key', 1091),\n",
      " ('use', 1089),\n",
      " ('time', 1088),\n",
      " ('employment', 1081),\n",
      " ('us', 1081),\n",
      " ('qualifications', 1068),\n",
      " ('computer', 1068),\n",
      " ('internal', 1057),\n",
      " ('etc', 1052),\n",
      " ('multiple', 1043),\n",
      " ('customer', 1042),\n",
      " ('description', 1038),\n",
      " ('engineering', 1025),\n",
      " ('opportunities', 1022),\n",
      " ('excellent', 1001),\n",
      " ('create', 990),\n",
      " ('perform', 987),\n",
      " ('within', 986),\n",
      " ('it', 965)]\n"
     ]
    }
   ],
   "source": [
    "job_des_str=' '.join([x for x in da['Job Description']])\n",
    "tokens = nltk.word_tokenize(job_des_str)\n",
    "stopwords = nltk.corpus.stopwords.words('english')\n",
    "\n",
    "\n",
    "filtered_words_1 = [w.lower() for w in tokens if not w in stopwords]\n",
    "filtered_words_2 = [w for w in filtered_words_1 if re.match(r'\\w',w)] #matching only the alphanumerics in filtered_words\n",
    "fdist = FreqDist(filtered_words_2) #finding the freq dist\n",
    "tops=fdist.most_common(100)\n",
    "pprint.pprint(tops)"
   ]
  },
  {
   "cell_type": "code",
   "execution_count": 63,
   "metadata": {},
   "outputs": [],
   "source": [
    "#https://www.kaggle.com/wewefo/data-job-analysis-visualization-using-nlp-rege#2.-FEATURE-ENGINEERING\n",
    "pat_p_r=re.compile(r'python| R ',re.I)\n",
    "pat_tab=re.compile(r'powerbi|tableau',re.I)\n",
    "pat_vis=re.compile(r'visualization',re.I)\n",
    "pat_c=re.compile(r' C |C#')\n",
    "pat_exc=re.compile(r'excel',re.I)\n",
    "pat_sql=re.compile(r'sql|mysql|database',re.I)\n",
    "pat_had=re.compile(r'hadoop|hive|spark',re.I)\n",
    "pat_stat=re.compile(r'statistics|statistical',re.I)\n",
    "pat_code=re.compile(r'coding|programming',re.I)"
   ]
  },
  {
   "cell_type": "code",
   "execution_count": 64,
   "metadata": {},
   "outputs": [],
   "source": [
    "def job_skill(row):\n",
    "    if re.search(pat_p_r,row['Job Description']):\n",
    "        return 'Python/R'\n",
    "    if re.search(pat_tab,row['Job Description']):\n",
    "        return 'PowerBi/Tableau'\n",
    "    if re.search(pat_vis,row['Job Description']):\n",
    "        return 'Visualization'\n",
    "    if re.search(pat_c,row['Job Description']):\n",
    "        return 'C/C#'\n",
    "    if re.search(pat_sql,row['Job Description']):\n",
    "        return 'SQL/MySQL'\n",
    "    if re.search(pat_had,row['Job Description']):\n",
    "        return 'Hadoop/Hive/Spark'\n",
    "    if re.search(pat_stat,row['Job Description']):\n",
    "        return 'Statistics'\n",
    "    if re.search(pat_code,row['Job Description']):\n",
    "        return 'Coding'\n",
    "    return None\n",
    "    \n",
    "da['Job Skill']=da.apply(job_skill,axis=1)\n"
   ]
  },
  {
   "cell_type": "code",
   "execution_count": 65,
   "metadata": {},
   "outputs": [],
   "source": [
    "js = da[\"Job Skill\"].value_counts()"
   ]
  },
  {
   "cell_type": "code",
   "execution_count": 66,
   "metadata": {},
   "outputs": [
    {
     "data": {
      "text/plain": [
       "([0, 1, 2, 3, 4, 5, 6, 7], <a list of 8 Text xticklabel objects>)"
      ]
     },
     "execution_count": 66,
     "metadata": {},
     "output_type": "execute_result"
    },
    {
     "data": {
      "image/png": "[encoded data removed]",
      "text/plain": [
       "<Figure size 432x288 with 1 Axes>"
      ]
     },
     "metadata": {
      "needs_background": "light"
     },
     "output_type": "display_data"
    }
   ],
   "source": [
    "plt.bar(x= js.index,height=js.values)\n",
    "plt.xticks(rotation = 90)"
   ]
  },
  {
   "cell_type": "markdown",
   "metadata": {},
   "source": [
    "**THere is a high demand of dataases and a programing language(Python/R) for Data Analyst** so a candidate must hone these skills"
   ]
  },
  {
   "cell_type": "code",
   "execution_count": 67,
   "metadata": {},
   "outputs": [
    {
     "data": {
      "text/html": [
       "<div>\n",
       "<style scoped>\n",
       "    .dataframe tbody tr th:only-of-type {\n",
       "        vertical-align: middle;\n",
       "    }\n",
       "\n",
       "    .dataframe tbody tr th {\n",
       "        vertical-align: top;\n",
       "    }\n",
       "\n",
       "    .dataframe thead th {\n",
       "        text-align: right;\n",
       "    }\n",
       "</style>\n",
       "<table border=\"1\" class=\"dataframe\">\n",
       "  <thead>\n",
       "    <tr style=\"text-align: right;\">\n",
       "      <th></th>\n",
       "      <th>Job Title</th>\n",
       "      <th>Job Description</th>\n",
       "      <th>Rating</th>\n",
       "      <th>Company Name</th>\n",
       "      <th>Location</th>\n",
       "      <th>Headquarters</th>\n",
       "      <th>Size</th>\n",
       "      <th>Founded</th>\n",
       "      <th>Type of ownership</th>\n",
       "      <th>Industry</th>\n",
       "      <th>Sector</th>\n",
       "      <th>Revenue</th>\n",
       "      <th>Easy Apply</th>\n",
       "      <th>Job Level</th>\n",
       "      <th>min_salary</th>\n",
       "      <th>maximum-salary</th>\n",
       "      <th>sal_mean</th>\n",
       "      <th>Job Skill</th>\n",
       "    </tr>\n",
       "  </thead>\n",
       "  <tbody>\n",
       "    <tr>\n",
       "      <th>0</th>\n",
       "      <td>Data Analyst, Center on Immigration and Justic...</td>\n",
       "      <td>Are you eager to roll up your sleeves and harn...</td>\n",
       "      <td>3.2</td>\n",
       "      <td>Vera Institute of Justice</td>\n",
       "      <td>New York, NY</td>\n",
       "      <td>New York, NY</td>\n",
       "      <td>201 to 500 employees</td>\n",
       "      <td>1961</td>\n",
       "      <td>Nonprofit Organization</td>\n",
       "      <td>Social Assistance</td>\n",
       "      <td>Non-Profit</td>\n",
       "      <td>$100 to $500 million (USD)</td>\n",
       "      <td>True</td>\n",
       "      <td>N/A</td>\n",
       "      <td>37</td>\n",
       "      <td>66</td>\n",
       "      <td>51.5</td>\n",
       "      <td>Python/R</td>\n",
       "    </tr>\n",
       "    <tr>\n",
       "      <th>1</th>\n",
       "      <td>Quality Data Analyst</td>\n",
       "      <td>Overview\\n\\nProvides analytical and technical ...</td>\n",
       "      <td>3.8</td>\n",
       "      <td>Visiting Nurse Service of New York</td>\n",
       "      <td>New York, NY</td>\n",
       "      <td>New York, NY</td>\n",
       "      <td>10000+ employees</td>\n",
       "      <td>1893</td>\n",
       "      <td>Nonprofit Organization</td>\n",
       "      <td>Health Care Services &amp; Hospitals</td>\n",
       "      <td>Health Care</td>\n",
       "      <td>$2 to $5 billion (USD)</td>\n",
       "      <td>False</td>\n",
       "      <td>N/A</td>\n",
       "      <td>37</td>\n",
       "      <td>66</td>\n",
       "      <td>51.5</td>\n",
       "      <td>SQL/MySQL</td>\n",
       "    </tr>\n",
       "    <tr>\n",
       "      <th>2</th>\n",
       "      <td>Senior Data Analyst, Insights &amp; Analytics Team...</td>\n",
       "      <td>We’re looking for a Senior Data Analyst who ha...</td>\n",
       "      <td>3.4</td>\n",
       "      <td>Squarespace</td>\n",
       "      <td>New York, NY</td>\n",
       "      <td>New York, NY</td>\n",
       "      <td>1001 to 5000 employees</td>\n",
       "      <td>2003</td>\n",
       "      <td>Company - Private</td>\n",
       "      <td>Internet</td>\n",
       "      <td>Information Technology</td>\n",
       "      <td>Unknown / Non-Applicable</td>\n",
       "      <td>False</td>\n",
       "      <td>Senior</td>\n",
       "      <td>37</td>\n",
       "      <td>66</td>\n",
       "      <td>51.5</td>\n",
       "      <td>Python/R</td>\n",
       "    </tr>\n",
       "    <tr>\n",
       "      <th>3</th>\n",
       "      <td>Data Analyst</td>\n",
       "      <td>Requisition NumberRR-0001939\\nRemote:Yes\\nWe c...</td>\n",
       "      <td>4.1</td>\n",
       "      <td>Celerity</td>\n",
       "      <td>New York, NY</td>\n",
       "      <td>McLean, VA</td>\n",
       "      <td>201 to 500 employees</td>\n",
       "      <td>2002</td>\n",
       "      <td>Subsidiary or Business Segment</td>\n",
       "      <td>IT Services</td>\n",
       "      <td>Information Technology</td>\n",
       "      <td>$50 to $100 million (USD)</td>\n",
       "      <td>False</td>\n",
       "      <td>N/A</td>\n",
       "      <td>37</td>\n",
       "      <td>66</td>\n",
       "      <td>51.5</td>\n",
       "      <td>PowerBi/Tableau</td>\n",
       "    </tr>\n",
       "    <tr>\n",
       "      <th>4</th>\n",
       "      <td>Reporting Data Analyst</td>\n",
       "      <td>ABOUT FANDUEL GROUP\\n\\nFanDuel Group is a worl...</td>\n",
       "      <td>3.9</td>\n",
       "      <td>FanDuel</td>\n",
       "      <td>New York, NY</td>\n",
       "      <td>New York, NY</td>\n",
       "      <td>501 to 1000 employees</td>\n",
       "      <td>2009</td>\n",
       "      <td>Company - Private</td>\n",
       "      <td>Sports &amp; Recreation</td>\n",
       "      <td>Arts, Entertainment &amp; Recreation</td>\n",
       "      <td>$100 to $500 million (USD)</td>\n",
       "      <td>True</td>\n",
       "      <td>N/A</td>\n",
       "      <td>37</td>\n",
       "      <td>66</td>\n",
       "      <td>51.5</td>\n",
       "      <td>Python/R</td>\n",
       "    </tr>\n",
       "  </tbody>\n",
       "</table>\n",
       "</div>"
      ],
      "text/plain": [
       "                                           Job Title  \\\n",
       "0  Data Analyst, Center on Immigration and Justic...   \n",
       "1                               Quality Data Analyst   \n",
       "2  Senior Data Analyst, Insights & Analytics Team...   \n",
       "3                                       Data Analyst   \n",
       "4                             Reporting Data Analyst   \n",
       "\n",
       "                                     Job Description  Rating  \\\n",
       "0  Are you eager to roll up your sleeves and harn...     3.2   \n",
       "1  Overview\\n\\nProvides analytical and technical ...     3.8   \n",
       "2  We’re looking for a Senior Data Analyst who ha...     3.4   \n",
       "3  Requisition NumberRR-0001939\\nRemote:Yes\\nWe c...     4.1   \n",
       "4  ABOUT FANDUEL GROUP\\n\\nFanDuel Group is a worl...     3.9   \n",
       "\n",
       "                         Company Name      Location  Headquarters  \\\n",
       "0           Vera Institute of Justice  New York, NY  New York, NY   \n",
       "1  Visiting Nurse Service of New York  New York, NY  New York, NY   \n",
       "2                         Squarespace  New York, NY  New York, NY   \n",
       "3                            Celerity  New York, NY    McLean, VA   \n",
       "4                             FanDuel  New York, NY  New York, NY   \n",
       "\n",
       "                     Size  Founded               Type of ownership  \\\n",
       "0    201 to 500 employees     1961          Nonprofit Organization   \n",
       "1        10000+ employees     1893          Nonprofit Organization   \n",
       "2  1001 to 5000 employees     2003               Company - Private   \n",
       "3    201 to 500 employees     2002  Subsidiary or Business Segment   \n",
       "4   501 to 1000 employees     2009               Company - Private   \n",
       "\n",
       "                           Industry                            Sector  \\\n",
       "0                 Social Assistance                        Non-Profit   \n",
       "1  Health Care Services & Hospitals                       Health Care   \n",
       "2                          Internet            Information Technology   \n",
       "3                       IT Services            Information Technology   \n",
       "4               Sports & Recreation  Arts, Entertainment & Recreation   \n",
       "\n",
       "                      Revenue  Easy Apply Job Level  min_salary  \\\n",
       "0  $100 to $500 million (USD)        True       N/A          37   \n",
       "1      $2 to $5 billion (USD)       False       N/A          37   \n",
       "2    Unknown / Non-Applicable       False    Senior          37   \n",
       "3   $50 to $100 million (USD)       False       N/A          37   \n",
       "4  $100 to $500 million (USD)        True       N/A          37   \n",
       "\n",
       "   maximum-salary  sal_mean        Job Skill  \n",
       "0              66      51.5         Python/R  \n",
       "1              66      51.5        SQL/MySQL  \n",
       "2              66      51.5         Python/R  \n",
       "3              66      51.5  PowerBi/Tableau  \n",
       "4              66      51.5         Python/R  "
      ]
     },
     "execution_count": 67,
     "metadata": {},
     "output_type": "execute_result"
    }
   ],
   "source": [
    "da.head()"
   ]
  },
  {
   "cell_type": "markdown",
   "metadata": {},
   "source": [
    "## Employee Size"
   ]
  },
  {
   "cell_type": "code",
   "execution_count": 68,
   "metadata": {},
   "outputs": [
    {
     "data": {
      "text/plain": [
       "51 to 200 employees        421\n",
       "10000+ employees           375\n",
       "1001 to 5000 employees     348\n",
       "1 to 50 employees          347\n",
       "201 to 500 employees       249\n",
       "501 to 1000 employees      211\n",
       "-1                         163\n",
       "5001 to 10000 employees     97\n",
       "Unknown                     42\n",
       "Name: Size, dtype: int64"
      ]
     },
     "execution_count": 68,
     "metadata": {},
     "output_type": "execute_result"
    }
   ],
   "source": [
    "da[\"Size\"].value_counts()"
   ]
  },
  {
   "cell_type": "code",
   "execution_count": 69,
   "metadata": {},
   "outputs": [],
   "source": [
    "x = da[\"Size\"][0]"
   ]
  },
  {
   "cell_type": "code",
   "execution_count": 70,
   "metadata": {},
   "outputs": [
    {
     "name": "stdout",
     "output_type": "stream",
     "text": [
      "201 to 500\n"
     ]
    }
   ],
   "source": [
    "m = re.sub(\"\\semployees\",\"\",x)\n",
    "print(m)"
   ]
  },
  {
   "cell_type": "code",
   "execution_count": 71,
   "metadata": {},
   "outputs": [],
   "source": [
    "da[\"Employe Size\"] = [re.sub(\"\\semployees\",\"\",x) for x in da[\"Size\"]]"
   ]
  },
  {
   "cell_type": "code",
   "execution_count": 72,
   "metadata": {},
   "outputs": [
    {
     "data": {
      "text/plain": [
       "0         201 to 500\n",
       "1             10000+\n",
       "2       1001 to 5000\n",
       "3         201 to 500\n",
       "4        501 to 1000\n",
       "            ...     \n",
       "2248       51 to 200\n",
       "2249          10000+\n",
       "2250              -1\n",
       "2251      201 to 500\n",
       "2252          10000+\n",
       "Name: Employe Size, Length: 2253, dtype: object"
      ]
     },
     "execution_count": 72,
     "metadata": {},
     "output_type": "execute_result"
    }
   ],
   "source": [
    "da[\"Employe Size\"]"
   ]
  },
  {
   "cell_type": "code",
   "execution_count": 73,
   "metadata": {},
   "outputs": [
    {
     "data": {
      "text/plain": [
       "51 to 200        421\n",
       "10000+           375\n",
       "1001 to 5000     348\n",
       "1 to 50          347\n",
       "201 to 500       249\n",
       "501 to 1000      211\n",
       "-1               163\n",
       "5001 to 10000     97\n",
       "Unknown           42\n",
       "Name: Employe Size, dtype: int64"
      ]
     },
     "execution_count": 73,
     "metadata": {},
     "output_type": "execute_result"
    }
   ],
   "source": [
    "da[\"Employe Size\"].value_counts()"
   ]
  },
  {
   "cell_type": "markdown",
   "metadata": {},
   "source": [
    "**adding -1 and unknown to same** "
   ]
  },
  {
   "cell_type": "code",
   "execution_count": 74,
   "metadata": {},
   "outputs": [],
   "source": [
    "da.drop(\"Size\",axis = 1,inplace =True)"
   ]
  },
  {
   "cell_type": "code",
   "execution_count": 75,
   "metadata": {},
   "outputs": [],
   "source": [
    "da[\"Employe Size\"] = [x.replace(\"-1\",\"Unknown\") for x in  da[\"Employe Size\"]]"
   ]
  },
  {
   "cell_type": "code",
   "execution_count": 76,
   "metadata": {},
   "outputs": [],
   "source": [
    "x = da[\"Employe Size\"].value_counts()"
   ]
  },
  {
   "cell_type": "code",
   "execution_count": 77,
   "metadata": {},
   "outputs": [
    {
     "data": {
      "text/plain": [
       "([0, 1, 2, 3, 4, 5, 6, 7], <a list of 8 Text xticklabel objects>)"
      ]
     },
     "execution_count": 77,
     "metadata": {},
     "output_type": "execute_result"
    },
    {
     "data": {
      "image/png": "[encoded data removed]",
      "text/plain": [
       "<Figure size 432x288 with 1 Axes>"
      ]
     },
     "metadata": {
      "needs_background": "light"
     },
     "output_type": "display_data"
    }
   ],
   "source": [
    "plt.bar(x = x.index,height =x.values)\n",
    "plt.xticks(rotation = 90)"
   ]
  },
  {
   "cell_type": "markdown",
   "metadata": {},
   "source": [
    "### Revenue"
   ]
  },
  {
   "cell_type": "code",
   "execution_count": 78,
   "metadata": {},
   "outputs": [
    {
     "data": {
      "text/plain": [
       "Unknown / Non-Applicable            615\n",
       "$100 to $500 million (USD)          218\n",
       "$50 to $100 million (USD)           199\n",
       "$10+ billion (USD)                  189\n",
       "-1                                  163\n",
       "$10 to $25 million (USD)            132\n",
       "$2 to $5 billion (USD)              129\n",
       "$1 to $5 million (USD)              111\n",
       "$25 to $50 million (USD)            110\n",
       "Less than $1 million (USD)           93\n",
       "$1 to $2 billion (USD)               87\n",
       "$500 million to $1 billion (USD)     79\n",
       "$5 to $10 million (USD)              72\n",
       "$5 to $10 billion (USD)              56\n",
       "Name: Revenue, dtype: int64"
      ]
     },
     "execution_count": 78,
     "metadata": {},
     "output_type": "execute_result"
    }
   ],
   "source": [
    "da[\"Revenue\"].value_counts()"
   ]
  },
  {
   "cell_type": "code",
   "execution_count": 79,
   "metadata": {},
   "outputs": [],
   "source": [
    "m = da[\"Revenue\"][0]"
   ]
  },
  {
   "cell_type": "code",
   "execution_count": 80,
   "metadata": {},
   "outputs": [
    {
     "data": {
      "text/plain": [
       "'$100 to $500 million (USD)'"
      ]
     },
     "execution_count": 80,
     "metadata": {},
     "output_type": "execute_result"
    }
   ],
   "source": [
    "m"
   ]
  },
  {
   "cell_type": "code",
   "execution_count": 81,
   "metadata": {},
   "outputs": [
    {
     "name": "stdout",
     "output_type": "stream",
     "text": [
      "$100 to $500\n"
     ]
    }
   ],
   "source": [
    "z = re.sub(\"\\s[bm]\\w*\\s.*\",\"\",m)\n",
    "print(z)\n",
    "\n",
    "#\\s represents space \n",
    "#[bm] it starts with either b(billion) or m (million)\n",
    "#\\w any alphanumeric word \n",
    "#* represents presence of 0 or more times \n",
    "#\\s again s \n",
    "# then .* anything after that "
   ]
  },
  {
   "cell_type": "code",
   "execution_count": 82,
   "metadata": {},
   "outputs": [],
   "source": [
    "da[\"Revenue\"] = [re.sub(\"\\s[bm]\\w*\\s.*\",\"\",x) for x in da[\"Revenue\"]]"
   ]
  },
  {
   "cell_type": "code",
   "execution_count": 83,
   "metadata": {},
   "outputs": [
    {
     "data": {
      "text/plain": [
       "Unknown / Non-Applicable    615\n",
       "$100 to $500                218\n",
       "$50 to $100                 199\n",
       "$10+                        189\n",
       "-1                          163\n",
       "$10 to $25                  132\n",
       "$2 to $5                    129\n",
       "$5 to $10                   128\n",
       "$1 to $5                    111\n",
       "$25 to $50                  110\n",
       "Less than $1                 93\n",
       "$1 to $2                     87\n",
       "$500                         79\n",
       "Name: Revenue, dtype: int64"
      ]
     },
     "execution_count": 83,
     "metadata": {},
     "output_type": "execute_result"
    }
   ],
   "source": [
    "da[\"Revenue\"].value_counts()"
   ]
  },
  {
   "cell_type": "code",
   "execution_count": 84,
   "metadata": {},
   "outputs": [],
   "source": [
    "da[\"Revenue\"] = [x.replace(\"-1\",\"Unknown\") for x in  da[\"Revenue\"]]"
   ]
  },
  {
   "cell_type": "code",
   "execution_count": 85,
   "metadata": {},
   "outputs": [],
   "source": [
    "x = da[\"Revenue\"].value_counts()"
   ]
  },
  {
   "cell_type": "code",
   "execution_count": 86,
   "metadata": {},
   "outputs": [
    {
     "data": {
      "text/plain": [
       "([0, 1, 2, 3, 4, 5, 6, 7, 8, 9, 10, 11, 12],\n",
       " <a list of 13 Text xticklabel objects>)"
      ]
     },
     "execution_count": 86,
     "metadata": {},
     "output_type": "execute_result"
    },
    {
     "data": {
      "image/png": "[encoded data removed]",
      "text/plain": [
       "<Figure size 432x288 with 1 Axes>"
      ]
     },
     "metadata": {
      "needs_background": "light"
     },
     "output_type": "display_data"
    }
   ],
   "source": [
    "plt.bar(x = x.index,height =x.values)\n",
    "plt.xticks(rotation = 90)"
   ]
  },
  {
   "cell_type": "code",
   "execution_count": 87,
   "metadata": {},
   "outputs": [
    {
     "data": {
      "text/html": [
       "<div>\n",
       "<style scoped>\n",
       "    .dataframe tbody tr th:only-of-type {\n",
       "        vertical-align: middle;\n",
       "    }\n",
       "\n",
       "    .dataframe tbody tr th {\n",
       "        vertical-align: top;\n",
       "    }\n",
       "\n",
       "    .dataframe thead th {\n",
       "        text-align: right;\n",
       "    }\n",
       "</style>\n",
       "<table border=\"1\" class=\"dataframe\">\n",
       "  <thead>\n",
       "    <tr style=\"text-align: right;\">\n",
       "      <th></th>\n",
       "      <th>Job Title</th>\n",
       "      <th>Job Description</th>\n",
       "      <th>Rating</th>\n",
       "      <th>Company Name</th>\n",
       "      <th>Location</th>\n",
       "      <th>Headquarters</th>\n",
       "      <th>Founded</th>\n",
       "      <th>Type of ownership</th>\n",
       "      <th>Industry</th>\n",
       "      <th>Sector</th>\n",
       "      <th>Revenue</th>\n",
       "      <th>Easy Apply</th>\n",
       "      <th>Job Level</th>\n",
       "      <th>min_salary</th>\n",
       "      <th>maximum-salary</th>\n",
       "      <th>sal_mean</th>\n",
       "      <th>Job Skill</th>\n",
       "      <th>Employe Size</th>\n",
       "    </tr>\n",
       "  </thead>\n",
       "  <tbody>\n",
       "    <tr>\n",
       "      <th>0</th>\n",
       "      <td>Data Analyst, Center on Immigration and Justic...</td>\n",
       "      <td>Are you eager to roll up your sleeves and harn...</td>\n",
       "      <td>3.2</td>\n",
       "      <td>Vera Institute of Justice</td>\n",
       "      <td>New York, NY</td>\n",
       "      <td>New York, NY</td>\n",
       "      <td>1961</td>\n",
       "      <td>Nonprofit Organization</td>\n",
       "      <td>Social Assistance</td>\n",
       "      <td>Non-Profit</td>\n",
       "      <td>$100 to $500</td>\n",
       "      <td>True</td>\n",
       "      <td>N/A</td>\n",
       "      <td>37</td>\n",
       "      <td>66</td>\n",
       "      <td>51.5</td>\n",
       "      <td>Python/R</td>\n",
       "      <td>201 to 500</td>\n",
       "    </tr>\n",
       "    <tr>\n",
       "      <th>1</th>\n",
       "      <td>Quality Data Analyst</td>\n",
       "      <td>Overview\\n\\nProvides analytical and technical ...</td>\n",
       "      <td>3.8</td>\n",
       "      <td>Visiting Nurse Service of New York</td>\n",
       "      <td>New York, NY</td>\n",
       "      <td>New York, NY</td>\n",
       "      <td>1893</td>\n",
       "      <td>Nonprofit Organization</td>\n",
       "      <td>Health Care Services &amp; Hospitals</td>\n",
       "      <td>Health Care</td>\n",
       "      <td>$2 to $5</td>\n",
       "      <td>False</td>\n",
       "      <td>N/A</td>\n",
       "      <td>37</td>\n",
       "      <td>66</td>\n",
       "      <td>51.5</td>\n",
       "      <td>SQL/MySQL</td>\n",
       "      <td>10000+</td>\n",
       "    </tr>\n",
       "    <tr>\n",
       "      <th>2</th>\n",
       "      <td>Senior Data Analyst, Insights &amp; Analytics Team...</td>\n",
       "      <td>We’re looking for a Senior Data Analyst who ha...</td>\n",
       "      <td>3.4</td>\n",
       "      <td>Squarespace</td>\n",
       "      <td>New York, NY</td>\n",
       "      <td>New York, NY</td>\n",
       "      <td>2003</td>\n",
       "      <td>Company - Private</td>\n",
       "      <td>Internet</td>\n",
       "      <td>Information Technology</td>\n",
       "      <td>Unknown / Non-Applicable</td>\n",
       "      <td>False</td>\n",
       "      <td>Senior</td>\n",
       "      <td>37</td>\n",
       "      <td>66</td>\n",
       "      <td>51.5</td>\n",
       "      <td>Python/R</td>\n",
       "      <td>1001 to 5000</td>\n",
       "    </tr>\n",
       "    <tr>\n",
       "      <th>3</th>\n",
       "      <td>Data Analyst</td>\n",
       "      <td>Requisition NumberRR-0001939\\nRemote:Yes\\nWe c...</td>\n",
       "      <td>4.1</td>\n",
       "      <td>Celerity</td>\n",
       "      <td>New York, NY</td>\n",
       "      <td>McLean, VA</td>\n",
       "      <td>2002</td>\n",
       "      <td>Subsidiary or Business Segment</td>\n",
       "      <td>IT Services</td>\n",
       "      <td>Information Technology</td>\n",
       "      <td>$50 to $100</td>\n",
       "      <td>False</td>\n",
       "      <td>N/A</td>\n",
       "      <td>37</td>\n",
       "      <td>66</td>\n",
       "      <td>51.5</td>\n",
       "      <td>PowerBi/Tableau</td>\n",
       "      <td>201 to 500</td>\n",
       "    </tr>\n",
       "    <tr>\n",
       "      <th>4</th>\n",
       "      <td>Reporting Data Analyst</td>\n",
       "      <td>ABOUT FANDUEL GROUP\\n\\nFanDuel Group is a worl...</td>\n",
       "      <td>3.9</td>\n",
       "      <td>FanDuel</td>\n",
       "      <td>New York, NY</td>\n",
       "      <td>New York, NY</td>\n",
       "      <td>2009</td>\n",
       "      <td>Company - Private</td>\n",
       "      <td>Sports &amp; Recreation</td>\n",
       "      <td>Arts, Entertainment &amp; Recreation</td>\n",
       "      <td>$100 to $500</td>\n",
       "      <td>True</td>\n",
       "      <td>N/A</td>\n",
       "      <td>37</td>\n",
       "      <td>66</td>\n",
       "      <td>51.5</td>\n",
       "      <td>Python/R</td>\n",
       "      <td>501 to 1000</td>\n",
       "    </tr>\n",
       "  </tbody>\n",
       "</table>\n",
       "</div>"
      ],
      "text/plain": [
       "                                           Job Title  \\\n",
       "0  Data Analyst, Center on Immigration and Justic...   \n",
       "1                               Quality Data Analyst   \n",
       "2  Senior Data Analyst, Insights & Analytics Team...   \n",
       "3                                       Data Analyst   \n",
       "4                             Reporting Data Analyst   \n",
       "\n",
       "                                     Job Description  Rating  \\\n",
       "0  Are you eager to roll up your sleeves and harn...     3.2   \n",
       "1  Overview\\n\\nProvides analytical and technical ...     3.8   \n",
       "2  We’re looking for a Senior Data Analyst who ha...     3.4   \n",
       "3  Requisition NumberRR-0001939\\nRemote:Yes\\nWe c...     4.1   \n",
       "4  ABOUT FANDUEL GROUP\\n\\nFanDuel Group is a worl...     3.9   \n",
       "\n",
       "                         Company Name      Location  Headquarters  Founded  \\\n",
       "0           Vera Institute of Justice  New York, NY  New York, NY     1961   \n",
       "1  Visiting Nurse Service of New York  New York, NY  New York, NY     1893   \n",
       "2                         Squarespace  New York, NY  New York, NY     2003   \n",
       "3                            Celerity  New York, NY    McLean, VA     2002   \n",
       "4                             FanDuel  New York, NY  New York, NY     2009   \n",
       "\n",
       "                Type of ownership                          Industry  \\\n",
       "0          Nonprofit Organization                 Social Assistance   \n",
       "1          Nonprofit Organization  Health Care Services & Hospitals   \n",
       "2               Company - Private                          Internet   \n",
       "3  Subsidiary or Business Segment                       IT Services   \n",
       "4               Company - Private               Sports & Recreation   \n",
       "\n",
       "                             Sector                   Revenue  Easy Apply  \\\n",
       "0                        Non-Profit              $100 to $500        True   \n",
       "1                       Health Care                  $2 to $5       False   \n",
       "2            Information Technology  Unknown / Non-Applicable       False   \n",
       "3            Information Technology               $50 to $100       False   \n",
       "4  Arts, Entertainment & Recreation              $100 to $500        True   \n",
       "\n",
       "  Job Level  min_salary  maximum-salary  sal_mean        Job Skill  \\\n",
       "0       N/A          37              66      51.5         Python/R   \n",
       "1       N/A          37              66      51.5        SQL/MySQL   \n",
       "2    Senior          37              66      51.5         Python/R   \n",
       "3       N/A          37              66      51.5  PowerBi/Tableau   \n",
       "4       N/A          37              66      51.5         Python/R   \n",
       "\n",
       "   Employe Size  \n",
       "0    201 to 500  \n",
       "1        10000+  \n",
       "2  1001 to 5000  \n",
       "3    201 to 500  \n",
       "4   501 to 1000  "
      ]
     },
     "execution_count": 87,
     "metadata": {},
     "output_type": "execute_result"
    }
   ],
   "source": [
    "da.head()"
   ]
  },
  {
   "cell_type": "code",
   "execution_count": 88,
   "metadata": {},
   "outputs": [
    {
     "data": {
      "image/png": "[encoded data removed]",
      "text/plain": [
       "<Figure size 864x432 with 2 Axes>"
      ]
     },
     "metadata": {
      "needs_background": "light"
     },
     "output_type": "display_data"
    }
   ],
   "source": [
    "plot_data = da.groupby('Location', as_index=False).agg({'sal_mean':'mean', 'Rating':'count'}).sort_values('Rating', 0, False).head(10)\n",
    "\n",
    "plt.figure(figsize=(12,6))\n",
    "sns.barplot(x='Location', y='Rating', data=plot_data,color='deepskyblue')\n",
    "ax=plt.gca()\n",
    "ax.tick_params(labelsize=10,rotation=45,axis='x') \n",
    "ax.spines['top'].set_color('none')\n",
    "ax.spines['left'].set_color('none')\n",
    "ax.spines['right'].set_color('none')\n",
    "ax.set_xlabel('Location',fontsize=20)\n",
    "ax2 = ax.twinx() \n",
    "\n",
    "ax2.spines['top'].set_color('none')\n",
    "ax2.spines['right'].set_color('none')\n",
    "ax2.spines['left'].set_color('none')\n",
    "\n",
    "ax.set_ylabel('Analyst Demand',fontsize=20)\n",
    "sns.lineplot(data=plot_data, x='Location',y='sal_mean',ax=ax2, sort=False)\n",
    "ax2.set_ylabel('Mean Salary (k)',fontsize=20)\n",
    "\n",
    "plt.title('UPDATED: Location - Demand - Salary',fontsize=20)\n",
    "plt.show()"
   ]
  },
  {
   "cell_type": "markdown",
   "metadata": {},
   "source": [
    "**San Francisco, CA offeres the highest salary as compared to others but the demand for the data analyst is highest for New York NY**"
   ]
  },
  {
   "cell_type": "code",
   "execution_count": 89,
   "metadata": {},
   "outputs": [
    {
     "data": {
      "image/png": "[encoded data removed]",
      "text/plain": [
       "<Figure size 864x576 with 1 Axes>"
      ]
     },
     "metadata": {
      "needs_background": "light"
     },
     "output_type": "display_data"
    }
   ],
   "source": [
    "plt.figure(figsize=(12,8))\n",
    "sns.boxplot(data=da,x='Job Level',y='sal_mean',order=['Junior','Senior','Lead'],palette='Blues')\n",
    "ax=plt.gca() #gca = get current axis used to reference the current axis\n",
    "ax.spines['top'].set_color('none')\n",
    "ax.spines['left'].set_color('none')\n",
    "ax.spines['right'].set_color('none')\n",
    "ax.set_ylabel('Mean Salary (k)',fontsize=25)\n",
    "ax.set_xlabel('Job Level',fontsize=25)\n",
    "ax.tick_params(labelsize=15) \n",
    "plt.title('Job Level VS Salary',fontsize=30)\n",
    "plt.show()"
   ]
  },
  {
   "cell_type": "markdown",
   "metadata": {},
   "source": [
    "**Senior and Lead have nearly the same salaries, so we can say that at some point salary doesn't grows to much which seams to logical, so candidate can take the role of senior or lead both have nearly same salary**"
   ]
  },
  {
   "cell_type": "code",
   "execution_count": 90,
   "metadata": {},
   "outputs": [],
   "source": [
    "comp_sal = da.groupby(\"Company Name\")[\"sal_mean\"].mean().sort_values(ascending = False).head(50)"
   ]
  },
  {
   "cell_type": "code",
   "execution_count": 91,
   "metadata": {},
   "outputs": [
    {
     "data": {
      "text/plain": [
       "Company Name\n",
       "Xcutives.com Inc                         150.00\n",
       "OSI Engineering                          150.00\n",
       "Zipongo                                  150.00\n",
       "Alteryx                                  150.00\n",
       "Cognoa                                   150.00\n",
       "Tesla Motors                             150.00\n",
       "Bandai Namco Entertainment America       150.00\n",
       "Ursus                                    150.00\n",
       "Joomag, Inc.                             150.00\n",
       "Risk Management Solutions (RMS)          150.00\n",
       "Moveworks                                150.00\n",
       "Enjoy                                    150.00\n",
       "Nuro                                     150.00\n",
       "Iconma, L.L.C.                           150.00\n",
       "Logic Planet                             150.00\n",
       "Netflix                                  150.00\n",
       "LeanData                                 150.00\n",
       "Albany Charter School Network            138.50\n",
       "Veem                                     138.50\n",
       "Parsoft LLC                              138.50\n",
       "Applicantz, Inc.                         138.50\n",
       "Pair-Tek                                 138.50\n",
       "Priceonomics                             138.50\n",
       "PlushCare                                138.50\n",
       "Shorenstein Realty Services L.P.         138.50\n",
       "Credible                                 138.50\n",
       "Coinbase                                 138.50\n",
       "Upstart                                  138.50\n",
       "UCSF Medical Center                      138.50\n",
       "UC San Francisco                         138.50\n",
       "The Voleon Group                         138.50\n",
       "Motiv Power Systems                      138.50\n",
       "User Testing                             138.50\n",
       "Flatiron Health                          138.50\n",
       "Trifacta                                 138.50\n",
       "thredUP                                  138.50\n",
       "Wilbur Labs                              138.50\n",
       "Twitter                                  132.25\n",
       "Softova Inc                              126.00\n",
       "TaskRabbit                               126.00\n",
       "Scale AI                                 126.00\n",
       "Evolver, Inc.                            126.00\n",
       "LeadStack                                126.00\n",
       "First Republic Bank                      126.00\n",
       "Thermo Fisher Scientific                 126.00\n",
       "Omada Health                             126.00\n",
       "Vinsari LLC                              126.00\n",
       "Turn/River Capital                       126.00\n",
       "Marin City Health and Wellness Center    126.00\n",
       "Lyft                                     126.00\n",
       "Name: sal_mean, dtype: float64"
      ]
     },
     "execution_count": 91,
     "metadata": {},
     "output_type": "execute_result"
    }
   ],
   "source": [
    "comp_sal"
   ]
  },
  {
   "cell_type": "code",
   "execution_count": 92,
   "metadata": {},
   "outputs": [
    {
     "data": {
      "text/plain": [
       "Index(['Job Title', 'Job Description', 'Rating', 'Company Name', 'Location',\n",
       "       'Headquarters', 'Founded', 'Type of ownership', 'Industry', 'Sector',\n",
       "       'Revenue', 'Easy Apply', 'Job Level', 'min_salary', 'maximum-salary',\n",
       "       'sal_mean', 'Job Skill', 'Employe Size'],\n",
       "      dtype='object')"
      ]
     },
     "execution_count": 92,
     "metadata": {},
     "output_type": "execute_result"
    }
   ],
   "source": [
    "da.columns"
   ]
  },
  {
   "cell_type": "code",
   "execution_count": 93,
   "metadata": {},
   "outputs": [],
   "source": [
    "def job_type(row):\n",
    "    if row['Job Title'].find('Business')!=-1:\n",
    "        return 'Business'\n",
    "    if row['Job Title'].find('Healthcare')!=-1:\n",
    "        return 'healthcare'\n",
    "    if row['Job Title'].find('quality')!=-1:\n",
    "        return 'quality'\n",
    "    if row['Job Title'].find('Reporting')!=-1:\n",
    "        return 'reporting'\n",
    "    if row['Job Title'].find('Financial')!=-1:\n",
    "        return 'financial'\n",
    "    if row['Job Title'].find('Security')!=-1:\n",
    "        return 'security'\n",
    "    if row['Job Title'].find('Product')!=-1:\n",
    "        return 'product'\n",
    "    if row['Job Title'].find('Marketing')!=-1:\n",
    "        return 'marketing'"
   ]
  },
  {
   "cell_type": "code",
   "execution_count": 94,
   "metadata": {},
   "outputs": [],
   "source": [
    "da['Job Type']=da.apply(job_type,axis=1)"
   ]
  },
  {
   "cell_type": "code",
   "execution_count": 95,
   "metadata": {},
   "outputs": [
    {
     "data": {
      "image/png": "[encoded data removed]",
      "text/plain": [
       "<Figure size 864x576 with 1 Axes>"
      ]
     },
     "metadata": {
      "needs_background": "light"
     },
     "output_type": "display_data"
    }
   ],
   "source": [
    "plt.figure(figsize=(12,8))\n",
    "sns.boxplot(data=da,x='Job Type',y='sal_mean',palette='Blues')\n",
    "ax=plt.gca()\n",
    "ax.spines['top'].set_color('none')\n",
    "ax.spines['left'].set_color('none')\n",
    "ax.spines['right'].set_color('none')\n",
    "ax.set_ylabel('Mean Salary (k)',fontsize=25)\n",
    "ax.set_xlabel('Job Type',fontsize=25)\n",
    "ax.tick_params(labelsize=15) \n",
    "plt.title('Job Type VS Salary',fontsize=30)\n",
    "plt.show()"
   ]
  },
  {
   "cell_type": "markdown",
   "metadata": {},
   "source": [
    "**Mean salary is nearly the same except for security whose median salary is very close to Q3 which could be becuase of the outliers present**"
   ]
  },
  {
   "cell_type": "code",
   "execution_count": 96,
   "metadata": {},
   "outputs": [
    {
     "data": {
      "image/png": "[encoded data removed]",
      "text/plain": [
       "<Figure size 864x576 with 1 Axes>"
      ]
     },
     "metadata": {
      "needs_background": "light"
     },
     "output_type": "display_data"
    }
   ],
   "source": [
    "plt.figure(figsize=(12,8))\n",
    "sns.boxplot(data=da,x='Job Skill',y='sal_mean',palette='Blues')\n",
    "ax=plt.gca()\n",
    "ax.spines['top'].set_color('none')\n",
    "ax.spines['left'].set_color('none')\n",
    "ax.spines['right'].set_color('none')\n",
    "ax.set_ylabel('Mean Salary (k)',fontsize=25)\n",
    "ax.set_xlabel('Job Skill',fontsize=25)\n",
    "ax.tick_params(labelsize=15,rotation=45) \n",
    "plt.title('Job Skill VS Salary',fontsize=30)\n",
    "plt.show()"
   ]
  },
  {
   "cell_type": "markdown",
   "metadata": {},
   "source": [
    "**Large number of outliers are present for nearly all the job-skill, so there can be scope for a person to earn more than what the average candidate is earning at a particular jobskill**\n",
    "\n",
    "**Coding has the highest IQR which seems logical**"
   ]
  },
  {
   "cell_type": "code",
   "execution_count": 97,
   "metadata": {},
   "outputs": [
    {
     "data": {
      "image/png": "[encoded data removed]",
      "text/plain": [
       "<Figure size 864x576 with 2 Axes>"
      ]
     },
     "metadata": {
      "needs_background": "light"
     },
     "output_type": "display_data"
    }
   ],
   "source": [
    "plt.figure(figsize=(12,8))\n",
    "sns.heatmap(da.groupby(by=['Job Skill','Job Type'])['sal_mean'].mean().unstack().fillna(0),cmap='Blues',annot=True)\n",
    "ax=plt.gca()\n",
    "ax.set_ylabel('Job Skill',fontsize=25)\n",
    "ax.set_xlabel('Job Type',fontsize=25)\n",
    "ax.tick_params(labelsize=15,rotation=45) \n",
    "plt.title('Job Skill VS Job Type VS Salary',fontsize=30,pad=20)\n",
    "plt.show()\n",
    "\n",
    "\n",
    "#grouping the job-skill and jobtype on the basis of mean salary which return as multi-index dataframe and then to deal with the multindex we used unstack and fill the na values of 0abs\n",
    "#annot = True prints the value inside the heatmap "
   ]
  },
  {
   "cell_type": "code",
   "execution_count": null,
   "metadata": {},
   "outputs": [],
   "source": []
  }
 ],
 "metadata": {
  "kernelspec": {
   "display_name": "Python 3",
   "language": "python",
   "name": "python3"
  },
  "language_info": {
   "codemirror_mode": {
    "name": "ipython",
    "version": 3
   },
   "file_extension": ".py",
   "mimetype": "text/x-python",
   "name": "python",
   "nbconvert_exporter": "python",
   "pygments_lexer": "ipython3",
   "version": "3.7.6"
  },
  "latex_envs": {
   "LaTeX_envs_menu_present": true,
   "autoclose": false,
   "autocomplete": true,
   "bibliofile": "biblio.bib",
   "cite_by": "apalike",
   "current_citInitial": 1,
   "eqLabelWithNumbers": true,
   "eqNumInitial": 1,
   "hotkeys": {
    "equation": "Ctrl-E",
    "itemize": "Ctrl-I"
   },
   "labels_anchors": false,
   "latex_user_defs": false,
   "report_style_numbering": false,
   "user_envs_cfg": false
  },
  "toc": {
   "base_numbering": 1,
   "nav_menu": {},
   "number_sections": true,
   "sideBar": true,
   "skip_h1_title": false,
   "title_cell": "Table of Contents",
   "title_sidebar": "Contents",
   "toc_cell": false,
   "toc_position": {},
   "toc_section_display": true,
   "toc_window_display": false
  },
  "varInspector": {
   "cols": {
    "lenName": 16,
    "lenType": 16,
    "lenVar": 40
   },
   "kernels_config": {
    "python": {
     "delete_cmd_postfix": "",
     "delete_cmd_prefix": "del ",
     "library": "var_list.py",
     "varRefreshCmd": "print(var_dic_list())"
    },
    "r": {
     "delete_cmd_postfix": ") ",
     "delete_cmd_prefix": "rm(",
     "library": "var_list.r",
     "varRefreshCmd": "cat(var_dic_list()) "
    }
   },
   "types_to_exclude": [
    "module",
    "function",
    "builtin_function_or_method",
    "instance",
    "_Feature"
   ],
   "window_display": false
  }
 },
 "nbformat": 4,
 "nbformat_minor": 4
}
